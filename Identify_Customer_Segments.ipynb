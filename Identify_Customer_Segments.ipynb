{
 "cells": [
  {
   "cell_type": "markdown",
   "metadata": {},
   "source": [
    "# Project: Identify Customer Segments\n",
    "\n",
    "In this project, you will apply unsupervised learning techniques to identify segments of the population that form the core customer base for a mail-order sales company in Germany. These segments can then be used to direct marketing campaigns towards audiences that will have the highest expected rate of returns. The data that you will use has been provided by our partners at Bertelsmann Arvato Analytics, and represents a real-life data science task.\n",
    "\n",
    "This notebook will help you complete this task by providing a framework within which you will perform your analysis steps. In each step of the project, you will see some text describing the subtask that you will perform, followed by one or more code cells for you to complete your work. **Feel free to add additional code and markdown cells as you go along so that you can explore everything in precise chunks.** The code cells provided in the base template will outline only the major tasks, and will usually not be enough to cover all of the minor tasks that comprise it.\n",
    "\n",
    "It should be noted that while there will be precise guidelines on how you should handle certain tasks in the project, there will also be places where an exact specification is not provided. **There will be times in the project where you will need to make and justify your own decisions on how to treat the data.** These are places where there may not be only one way to handle the data. In real-life tasks, there may be many valid ways to approach an analysis task. One of the most important things you can do is clearly document your approach so that other scientists can understand the decisions you've made.\n",
    "\n",
    "At the end of most sections, there will be a Markdown cell labeled **Discussion**. In these cells, you will report your findings for the completed section, as well as document the decisions that you made in your approach to each subtask. **Your project will be evaluated not just on the code used to complete the tasks outlined, but also your communication about your observations and conclusions at each stage.**"
   ]
  },
  {
   "cell_type": "code",
   "execution_count": 2,
   "metadata": {},
   "outputs": [],
   "source": [
    "# import libraries here; add more as necessary\n",
    "import numpy as np\n",
    "import pandas as pd\n",
    "import matplotlib.pyplot as plt\n",
    "import seaborn as sns\n",
    "\n",
    "import ast\n",
    "from sklearn import preprocessing as p\n",
    "from sklearn.preprocessing import StandardScaler\n",
    "from sklearn.preprocessing import Imputer\n",
    "from sklearn.cluster import KMeans\n",
    "from sklearn.decomposition import PCA\n",
    "from scipy import stats\n",
    "from collections import Counter\n",
    "\n",
    "\n",
    "# magic word for producing visualizations in notebook\n",
    "%matplotlib inline"
   ]
  },
  {
   "cell_type": "markdown",
   "metadata": {},
   "source": [
    "### Step 0: Load the Data\n",
    "\n",
    "There are four files associated with this project (not including this one):\n",
    "\n",
    "- `Udacity_AZDIAS_Subset.csv`: Demographics data for the general population of Germany; 891211 persons (rows) x 85 features (columns).\n",
    "- `Udacity_CUSTOMERS_Subset.csv`: Demographics data for customers of a mail-order company; 191652 persons (rows) x 85 features (columns).\n",
    "- `Data_Dictionary.md`: Detailed information file about the features in the provided datasets.\n",
    "- `AZDIAS_Feature_Summary.csv`: Summary of feature attributes for demographics data; 85 features (rows) x 4 columns\n",
    "\n",
    "Each row of the demographics files represents a single person, but also includes information outside of individuals, including information about their household, building, and neighborhood. You will use this information to cluster the general population into groups with similar demographic properties. Then, you will see how the people in the customers dataset fit into those created clusters. The hope here is that certain clusters are over-represented in the customers data, as compared to the general population; those over-represented clusters will be assumed to be part of the core userbase. This information can then be used for further applications, such as targeting for a marketing campaign.\n",
    "\n",
    "To start off with, load in the demographics data for the general population into a pandas DataFrame, and do the same for the feature attributes summary. Note for all of the `.csv` data files in this project: they're semicolon (`;`) delimited, so you'll need an additional argument in your [`read_csv()`](https://pandas.pydata.org/pandas-docs/stable/generated/pandas.read_csv.html) call to read in the data properly. Also, considering the size of the main dataset, it may take some time for it to load completely.\n",
    "\n",
    "Once the dataset is loaded, it's recommended that you take a little bit of time just browsing the general structure of the dataset and feature summary file. You'll be getting deep into the innards of the cleaning in the first major step of the project, so gaining some general familiarity can help you get your bearings."
   ]
  },
  {
   "cell_type": "code",
   "execution_count": 2,
   "metadata": {},
   "outputs": [],
   "source": [
    "# Load in the general demographics data.\n",
    "azdias = pd.read_csv('Udacity_AZDIAS_Subset.csv', sep=\";\")\n",
    "\n",
    "# Load in the feature summary file.\n",
    "feat_info = pd.read_csv('AZDIAS_Feature_Summary.csv', sep=\";\")"
   ]
  },
  {
   "cell_type": "code",
   "execution_count": 3,
   "metadata": {},
   "outputs": [
    {
     "data": {
      "text/plain": [
       "(891221, 85)"
      ]
     },
     "execution_count": 3,
     "metadata": {},
     "output_type": "execute_result"
    }
   ],
   "source": [
    "\n",
    "# Check the structure of the data after it's loaded (e.g. print the number of\n",
    "# rows and columns, print the first few rows).\n",
    "\n",
    "# Checking dimensions of dataset\n",
    "azdias.shape"
   ]
  },
  {
   "cell_type": "code",
   "execution_count": 4,
   "metadata": {},
   "outputs": [
    {
     "data": {
      "text/html": [
       "<div>\n",
       "<style scoped>\n",
       "    .dataframe tbody tr th:only-of-type {\n",
       "        vertical-align: middle;\n",
       "    }\n",
       "\n",
       "    .dataframe tbody tr th {\n",
       "        vertical-align: top;\n",
       "    }\n",
       "\n",
       "    .dataframe thead th {\n",
       "        text-align: right;\n",
       "    }\n",
       "</style>\n",
       "<table border=\"1\" class=\"dataframe\">\n",
       "  <thead>\n",
       "    <tr style=\"text-align: right;\">\n",
       "      <th></th>\n",
       "      <th>AGER_TYP</th>\n",
       "      <th>ALTERSKATEGORIE_GROB</th>\n",
       "      <th>ANREDE_KZ</th>\n",
       "      <th>CJT_GESAMTTYP</th>\n",
       "      <th>FINANZ_MINIMALIST</th>\n",
       "      <th>FINANZ_SPARER</th>\n",
       "      <th>FINANZ_VORSORGER</th>\n",
       "      <th>FINANZ_ANLEGER</th>\n",
       "      <th>FINANZ_UNAUFFAELLIGER</th>\n",
       "      <th>FINANZ_HAUSBAUER</th>\n",
       "      <th>...</th>\n",
       "      <th>PLZ8_ANTG1</th>\n",
       "      <th>PLZ8_ANTG2</th>\n",
       "      <th>PLZ8_ANTG3</th>\n",
       "      <th>PLZ8_ANTG4</th>\n",
       "      <th>PLZ8_BAUMAX</th>\n",
       "      <th>PLZ8_HHZ</th>\n",
       "      <th>PLZ8_GBZ</th>\n",
       "      <th>ARBEIT</th>\n",
       "      <th>ORTSGR_KLS9</th>\n",
       "      <th>RELAT_AB</th>\n",
       "    </tr>\n",
       "  </thead>\n",
       "  <tbody>\n",
       "    <tr>\n",
       "      <th>0</th>\n",
       "      <td>-1</td>\n",
       "      <td>2</td>\n",
       "      <td>1</td>\n",
       "      <td>2.0</td>\n",
       "      <td>3</td>\n",
       "      <td>4</td>\n",
       "      <td>3</td>\n",
       "      <td>5</td>\n",
       "      <td>5</td>\n",
       "      <td>3</td>\n",
       "      <td>...</td>\n",
       "      <td>NaN</td>\n",
       "      <td>NaN</td>\n",
       "      <td>NaN</td>\n",
       "      <td>NaN</td>\n",
       "      <td>NaN</td>\n",
       "      <td>NaN</td>\n",
       "      <td>NaN</td>\n",
       "      <td>NaN</td>\n",
       "      <td>NaN</td>\n",
       "      <td>NaN</td>\n",
       "    </tr>\n",
       "    <tr>\n",
       "      <th>1</th>\n",
       "      <td>-1</td>\n",
       "      <td>1</td>\n",
       "      <td>2</td>\n",
       "      <td>5.0</td>\n",
       "      <td>1</td>\n",
       "      <td>5</td>\n",
       "      <td>2</td>\n",
       "      <td>5</td>\n",
       "      <td>4</td>\n",
       "      <td>5</td>\n",
       "      <td>...</td>\n",
       "      <td>2.0</td>\n",
       "      <td>3.0</td>\n",
       "      <td>2.0</td>\n",
       "      <td>1.0</td>\n",
       "      <td>1.0</td>\n",
       "      <td>5.0</td>\n",
       "      <td>4.0</td>\n",
       "      <td>3.0</td>\n",
       "      <td>5.0</td>\n",
       "      <td>4.0</td>\n",
       "    </tr>\n",
       "    <tr>\n",
       "      <th>2</th>\n",
       "      <td>-1</td>\n",
       "      <td>3</td>\n",
       "      <td>2</td>\n",
       "      <td>3.0</td>\n",
       "      <td>1</td>\n",
       "      <td>4</td>\n",
       "      <td>1</td>\n",
       "      <td>2</td>\n",
       "      <td>3</td>\n",
       "      <td>5</td>\n",
       "      <td>...</td>\n",
       "      <td>3.0</td>\n",
       "      <td>3.0</td>\n",
       "      <td>1.0</td>\n",
       "      <td>0.0</td>\n",
       "      <td>1.0</td>\n",
       "      <td>4.0</td>\n",
       "      <td>4.0</td>\n",
       "      <td>3.0</td>\n",
       "      <td>5.0</td>\n",
       "      <td>2.0</td>\n",
       "    </tr>\n",
       "    <tr>\n",
       "      <th>3</th>\n",
       "      <td>2</td>\n",
       "      <td>4</td>\n",
       "      <td>2</td>\n",
       "      <td>2.0</td>\n",
       "      <td>4</td>\n",
       "      <td>2</td>\n",
       "      <td>5</td>\n",
       "      <td>2</td>\n",
       "      <td>1</td>\n",
       "      <td>2</td>\n",
       "      <td>...</td>\n",
       "      <td>2.0</td>\n",
       "      <td>2.0</td>\n",
       "      <td>2.0</td>\n",
       "      <td>0.0</td>\n",
       "      <td>1.0</td>\n",
       "      <td>3.0</td>\n",
       "      <td>4.0</td>\n",
       "      <td>2.0</td>\n",
       "      <td>3.0</td>\n",
       "      <td>3.0</td>\n",
       "    </tr>\n",
       "    <tr>\n",
       "      <th>4</th>\n",
       "      <td>-1</td>\n",
       "      <td>3</td>\n",
       "      <td>1</td>\n",
       "      <td>5.0</td>\n",
       "      <td>4</td>\n",
       "      <td>3</td>\n",
       "      <td>4</td>\n",
       "      <td>1</td>\n",
       "      <td>3</td>\n",
       "      <td>2</td>\n",
       "      <td>...</td>\n",
       "      <td>2.0</td>\n",
       "      <td>4.0</td>\n",
       "      <td>2.0</td>\n",
       "      <td>1.0</td>\n",
       "      <td>2.0</td>\n",
       "      <td>3.0</td>\n",
       "      <td>3.0</td>\n",
       "      <td>4.0</td>\n",
       "      <td>6.0</td>\n",
       "      <td>5.0</td>\n",
       "    </tr>\n",
       "  </tbody>\n",
       "</table>\n",
       "<p>5 rows × 85 columns</p>\n",
       "</div>"
      ],
      "text/plain": [
       "   AGER_TYP  ALTERSKATEGORIE_GROB  ANREDE_KZ  CJT_GESAMTTYP  \\\n",
       "0        -1                     2          1            2.0   \n",
       "1        -1                     1          2            5.0   \n",
       "2        -1                     3          2            3.0   \n",
       "3         2                     4          2            2.0   \n",
       "4        -1                     3          1            5.0   \n",
       "\n",
       "   FINANZ_MINIMALIST  FINANZ_SPARER  FINANZ_VORSORGER  FINANZ_ANLEGER  \\\n",
       "0                  3              4                 3               5   \n",
       "1                  1              5                 2               5   \n",
       "2                  1              4                 1               2   \n",
       "3                  4              2                 5               2   \n",
       "4                  4              3                 4               1   \n",
       "\n",
       "   FINANZ_UNAUFFAELLIGER  FINANZ_HAUSBAUER    ...     PLZ8_ANTG1  PLZ8_ANTG2  \\\n",
       "0                      5                 3    ...            NaN         NaN   \n",
       "1                      4                 5    ...            2.0         3.0   \n",
       "2                      3                 5    ...            3.0         3.0   \n",
       "3                      1                 2    ...            2.0         2.0   \n",
       "4                      3                 2    ...            2.0         4.0   \n",
       "\n",
       "   PLZ8_ANTG3  PLZ8_ANTG4  PLZ8_BAUMAX  PLZ8_HHZ  PLZ8_GBZ  ARBEIT  \\\n",
       "0         NaN         NaN          NaN       NaN       NaN     NaN   \n",
       "1         2.0         1.0          1.0       5.0       4.0     3.0   \n",
       "2         1.0         0.0          1.0       4.0       4.0     3.0   \n",
       "3         2.0         0.0          1.0       3.0       4.0     2.0   \n",
       "4         2.0         1.0          2.0       3.0       3.0     4.0   \n",
       "\n",
       "   ORTSGR_KLS9  RELAT_AB  \n",
       "0          NaN       NaN  \n",
       "1          5.0       4.0  \n",
       "2          5.0       2.0  \n",
       "3          3.0       3.0  \n",
       "4          6.0       5.0  \n",
       "\n",
       "[5 rows x 85 columns]"
      ]
     },
     "execution_count": 4,
     "metadata": {},
     "output_type": "execute_result"
    }
   ],
   "source": [
    "# Lookling at first few rows of data\n",
    "azdias.head()"
   ]
  },
  {
   "cell_type": "code",
   "execution_count": 5,
   "metadata": {},
   "outputs": [
    {
     "name": "stdout",
     "output_type": "stream",
     "text": [
      "<class 'pandas.core.frame.DataFrame'>\n",
      "RangeIndex: 891221 entries, 0 to 891220\n",
      "Data columns (total 85 columns):\n",
      "AGER_TYP                 891221 non-null int64\n",
      "ALTERSKATEGORIE_GROB     891221 non-null int64\n",
      "ANREDE_KZ                891221 non-null int64\n",
      "CJT_GESAMTTYP            886367 non-null float64\n",
      "FINANZ_MINIMALIST        891221 non-null int64\n",
      "FINANZ_SPARER            891221 non-null int64\n",
      "FINANZ_VORSORGER         891221 non-null int64\n",
      "FINANZ_ANLEGER           891221 non-null int64\n",
      "FINANZ_UNAUFFAELLIGER    891221 non-null int64\n",
      "FINANZ_HAUSBAUER         891221 non-null int64\n",
      "FINANZTYP                891221 non-null int64\n",
      "GEBURTSJAHR              891221 non-null int64\n",
      "GFK_URLAUBERTYP          886367 non-null float64\n",
      "GREEN_AVANTGARDE         891221 non-null int64\n",
      "HEALTH_TYP               891221 non-null int64\n",
      "LP_LEBENSPHASE_FEIN      886367 non-null float64\n",
      "LP_LEBENSPHASE_GROB      886367 non-null float64\n",
      "LP_FAMILIE_FEIN          886367 non-null float64\n",
      "LP_FAMILIE_GROB          886367 non-null float64\n",
      "LP_STATUS_FEIN           886367 non-null float64\n",
      "LP_STATUS_GROB           886367 non-null float64\n",
      "NATIONALITAET_KZ         891221 non-null int64\n",
      "PRAEGENDE_JUGENDJAHRE    891221 non-null int64\n",
      "RETOURTYP_BK_S           886367 non-null float64\n",
      "SEMIO_SOZ                891221 non-null int64\n",
      "SEMIO_FAM                891221 non-null int64\n",
      "SEMIO_REL                891221 non-null int64\n",
      "SEMIO_MAT                891221 non-null int64\n",
      "SEMIO_VERT               891221 non-null int64\n",
      "SEMIO_LUST               891221 non-null int64\n",
      "SEMIO_ERL                891221 non-null int64\n",
      "SEMIO_KULT               891221 non-null int64\n",
      "SEMIO_RAT                891221 non-null int64\n",
      "SEMIO_KRIT               891221 non-null int64\n",
      "SEMIO_DOM                891221 non-null int64\n",
      "SEMIO_KAEM               891221 non-null int64\n",
      "SEMIO_PFLICHT            891221 non-null int64\n",
      "SEMIO_TRADV              891221 non-null int64\n",
      "SHOPPER_TYP              891221 non-null int64\n",
      "SOHO_KZ                  817722 non-null float64\n",
      "TITEL_KZ                 817722 non-null float64\n",
      "VERS_TYP                 891221 non-null int64\n",
      "ZABEOTYP                 891221 non-null int64\n",
      "ALTER_HH                 817722 non-null float64\n",
      "ANZ_PERSONEN             817722 non-null float64\n",
      "ANZ_TITEL                817722 non-null float64\n",
      "HH_EINKOMMEN_SCORE       872873 non-null float64\n",
      "KK_KUNDENTYP             306609 non-null float64\n",
      "W_KEIT_KIND_HH           783619 non-null float64\n",
      "WOHNDAUER_2008           817722 non-null float64\n",
      "ANZ_HAUSHALTE_AKTIV      798073 non-null float64\n",
      "ANZ_HH_TITEL             794213 non-null float64\n",
      "GEBAEUDETYP              798073 non-null float64\n",
      "KONSUMNAEHE              817252 non-null float64\n",
      "MIN_GEBAEUDEJAHR         798073 non-null float64\n",
      "OST_WEST_KZ              798073 non-null object\n",
      "WOHNLAGE                 798073 non-null float64\n",
      "CAMEO_DEUG_2015          792242 non-null object\n",
      "CAMEO_DEU_2015           792242 non-null object\n",
      "CAMEO_INTL_2015          792242 non-null object\n",
      "KBA05_ANTG1              757897 non-null float64\n",
      "KBA05_ANTG2              757897 non-null float64\n",
      "KBA05_ANTG3              757897 non-null float64\n",
      "KBA05_ANTG4              757897 non-null float64\n",
      "KBA05_BAUMAX             757897 non-null float64\n",
      "KBA05_GBZ                757897 non-null float64\n",
      "BALLRAUM                 797481 non-null float64\n",
      "EWDICHTE                 797481 non-null float64\n",
      "INNENSTADT               797481 non-null float64\n",
      "GEBAEUDETYP_RASTER       798066 non-null float64\n",
      "KKK                      770025 non-null float64\n",
      "MOBI_REGIO               757897 non-null float64\n",
      "ONLINE_AFFINITAET        886367 non-null float64\n",
      "REGIOTYP                 770025 non-null float64\n",
      "KBA13_ANZAHL_PKW         785421 non-null float64\n",
      "PLZ8_ANTG1               774706 non-null float64\n",
      "PLZ8_ANTG2               774706 non-null float64\n",
      "PLZ8_ANTG3               774706 non-null float64\n",
      "PLZ8_ANTG4               774706 non-null float64\n",
      "PLZ8_BAUMAX              774706 non-null float64\n",
      "PLZ8_HHZ                 774706 non-null float64\n",
      "PLZ8_GBZ                 774706 non-null float64\n",
      "ARBEIT                   794005 non-null float64\n",
      "ORTSGR_KLS9              794005 non-null float64\n",
      "RELAT_AB                 794005 non-null float64\n",
      "dtypes: float64(49), int64(32), object(4)\n",
      "memory usage: 578.0+ MB\n"
     ]
    }
   ],
   "source": [
    "# Inspecting names and data types and number of rows for each variable\n",
    "azdias.info()"
   ]
  },
  {
   "cell_type": "code",
   "execution_count": 6,
   "metadata": {},
   "outputs": [
    {
     "data": {
      "text/html": [
       "<div>\n",
       "<style scoped>\n",
       "    .dataframe tbody tr th:only-of-type {\n",
       "        vertical-align: middle;\n",
       "    }\n",
       "\n",
       "    .dataframe tbody tr th {\n",
       "        vertical-align: top;\n",
       "    }\n",
       "\n",
       "    .dataframe thead th {\n",
       "        text-align: right;\n",
       "    }\n",
       "</style>\n",
       "<table border=\"1\" class=\"dataframe\">\n",
       "  <thead>\n",
       "    <tr style=\"text-align: right;\">\n",
       "      <th></th>\n",
       "      <th>attribute</th>\n",
       "      <th>information_level</th>\n",
       "      <th>type</th>\n",
       "      <th>missing_or_unknown</th>\n",
       "    </tr>\n",
       "  </thead>\n",
       "  <tbody>\n",
       "    <tr>\n",
       "      <th>0</th>\n",
       "      <td>AGER_TYP</td>\n",
       "      <td>person</td>\n",
       "      <td>categorical</td>\n",
       "      <td>[-1,0]</td>\n",
       "    </tr>\n",
       "    <tr>\n",
       "      <th>1</th>\n",
       "      <td>ALTERSKATEGORIE_GROB</td>\n",
       "      <td>person</td>\n",
       "      <td>ordinal</td>\n",
       "      <td>[-1,0,9]</td>\n",
       "    </tr>\n",
       "    <tr>\n",
       "      <th>2</th>\n",
       "      <td>ANREDE_KZ</td>\n",
       "      <td>person</td>\n",
       "      <td>categorical</td>\n",
       "      <td>[-1,0]</td>\n",
       "    </tr>\n",
       "    <tr>\n",
       "      <th>3</th>\n",
       "      <td>CJT_GESAMTTYP</td>\n",
       "      <td>person</td>\n",
       "      <td>categorical</td>\n",
       "      <td>[0]</td>\n",
       "    </tr>\n",
       "    <tr>\n",
       "      <th>4</th>\n",
       "      <td>FINANZ_MINIMALIST</td>\n",
       "      <td>person</td>\n",
       "      <td>ordinal</td>\n",
       "      <td>[-1]</td>\n",
       "    </tr>\n",
       "  </tbody>\n",
       "</table>\n",
       "</div>"
      ],
      "text/plain": [
       "              attribute information_level         type missing_or_unknown\n",
       "0              AGER_TYP            person  categorical             [-1,0]\n",
       "1  ALTERSKATEGORIE_GROB            person      ordinal           [-1,0,9]\n",
       "2             ANREDE_KZ            person  categorical             [-1,0]\n",
       "3         CJT_GESAMTTYP            person  categorical                [0]\n",
       "4     FINANZ_MINIMALIST            person      ordinal               [-1]"
      ]
     },
     "execution_count": 6,
     "metadata": {},
     "output_type": "execute_result"
    }
   ],
   "source": [
    "feat_info.head()\n"
   ]
  },
  {
   "cell_type": "code",
   "execution_count": 7,
   "metadata": {},
   "outputs": [
    {
     "data": {
      "text/plain": [
       "(85, 4)"
      ]
     },
     "execution_count": 7,
     "metadata": {},
     "output_type": "execute_result"
    }
   ],
   "source": [
    "feat_info.shape\n"
   ]
  },
  {
   "cell_type": "code",
   "execution_count": 8,
   "metadata": {},
   "outputs": [
    {
     "data": {
      "text/plain": [
       "Index(['attribute', 'information_level', 'type', 'missing_or_unknown'], dtype='object')"
      ]
     },
     "execution_count": 8,
     "metadata": {},
     "output_type": "execute_result"
    }
   ],
   "source": [
    "feat_info.columns\n"
   ]
  },
  {
   "cell_type": "code",
   "execution_count": 9,
   "metadata": {},
   "outputs": [
    {
     "data": {
      "text/plain": [
       "<bound method DataFrame.info of                 attribute information_level         type missing_or_unknown\n",
       "0                AGER_TYP            person  categorical             [-1,0]\n",
       "1    ALTERSKATEGORIE_GROB            person      ordinal           [-1,0,9]\n",
       "2               ANREDE_KZ            person  categorical             [-1,0]\n",
       "3           CJT_GESAMTTYP            person  categorical                [0]\n",
       "4       FINANZ_MINIMALIST            person      ordinal               [-1]\n",
       "5           FINANZ_SPARER            person      ordinal               [-1]\n",
       "6        FINANZ_VORSORGER            person      ordinal               [-1]\n",
       "7          FINANZ_ANLEGER            person      ordinal               [-1]\n",
       "8   FINANZ_UNAUFFAELLIGER            person      ordinal               [-1]\n",
       "9        FINANZ_HAUSBAUER            person      ordinal               [-1]\n",
       "10              FINANZTYP            person  categorical               [-1]\n",
       "11            GEBURTSJAHR            person      numeric                [0]\n",
       "12        GFK_URLAUBERTYP            person  categorical                 []\n",
       "13       GREEN_AVANTGARDE            person  categorical                 []\n",
       "14             HEALTH_TYP            person      ordinal             [-1,0]\n",
       "15    LP_LEBENSPHASE_FEIN            person        mixed                [0]\n",
       "16    LP_LEBENSPHASE_GROB            person        mixed                [0]\n",
       "17        LP_FAMILIE_FEIN            person  categorical                [0]\n",
       "18        LP_FAMILIE_GROB            person  categorical                [0]\n",
       "19         LP_STATUS_FEIN            person  categorical                [0]\n",
       "20         LP_STATUS_GROB            person  categorical                [0]\n",
       "21       NATIONALITAET_KZ            person  categorical             [-1,0]\n",
       "22  PRAEGENDE_JUGENDJAHRE            person        mixed             [-1,0]\n",
       "23         RETOURTYP_BK_S            person      ordinal                [0]\n",
       "24              SEMIO_SOZ            person      ordinal             [-1,9]\n",
       "25              SEMIO_FAM            person      ordinal             [-1,9]\n",
       "26              SEMIO_REL            person      ordinal             [-1,9]\n",
       "27              SEMIO_MAT            person      ordinal             [-1,9]\n",
       "28             SEMIO_VERT            person      ordinal             [-1,9]\n",
       "29             SEMIO_LUST            person      ordinal             [-1,9]\n",
       "..                    ...               ...          ...                ...\n",
       "55            OST_WEST_KZ          building  categorical               [-1]\n",
       "56               WOHNLAGE          building        mixed               [-1]\n",
       "57        CAMEO_DEUG_2015     microcell_rr4  categorical             [-1,X]\n",
       "58         CAMEO_DEU_2015     microcell_rr4  categorical               [XX]\n",
       "59        CAMEO_INTL_2015     microcell_rr4        mixed            [-1,XX]\n",
       "60            KBA05_ANTG1     microcell_rr3      ordinal               [-1]\n",
       "61            KBA05_ANTG2     microcell_rr3      ordinal               [-1]\n",
       "62            KBA05_ANTG3     microcell_rr3      ordinal               [-1]\n",
       "63            KBA05_ANTG4     microcell_rr3      ordinal               [-1]\n",
       "64           KBA05_BAUMAX     microcell_rr3        mixed             [-1,0]\n",
       "65              KBA05_GBZ     microcell_rr3      ordinal             [-1,0]\n",
       "66               BALLRAUM          postcode      ordinal               [-1]\n",
       "67               EWDICHTE          postcode      ordinal               [-1]\n",
       "68             INNENSTADT          postcode      ordinal               [-1]\n",
       "69     GEBAEUDETYP_RASTER        region_rr1      ordinal                 []\n",
       "70                    KKK        region_rr1      ordinal             [-1,0]\n",
       "71             MOBI_REGIO        region_rr1      ordinal                 []\n",
       "72      ONLINE_AFFINITAET        region_rr1      ordinal                 []\n",
       "73               REGIOTYP        region_rr1      ordinal             [-1,0]\n",
       "74       KBA13_ANZAHL_PKW    macrocell_plz8      numeric                 []\n",
       "75             PLZ8_ANTG1    macrocell_plz8      ordinal               [-1]\n",
       "76             PLZ8_ANTG2    macrocell_plz8      ordinal               [-1]\n",
       "77             PLZ8_ANTG3    macrocell_plz8      ordinal               [-1]\n",
       "78             PLZ8_ANTG4    macrocell_plz8      ordinal               [-1]\n",
       "79            PLZ8_BAUMAX    macrocell_plz8        mixed             [-1,0]\n",
       "80               PLZ8_HHZ    macrocell_plz8      ordinal               [-1]\n",
       "81               PLZ8_GBZ    macrocell_plz8      ordinal               [-1]\n",
       "82                 ARBEIT         community      ordinal             [-1,9]\n",
       "83            ORTSGR_KLS9         community      ordinal             [-1,0]\n",
       "84               RELAT_AB         community      ordinal             [-1,9]\n",
       "\n",
       "[85 rows x 4 columns]>"
      ]
     },
     "execution_count": 9,
     "metadata": {},
     "output_type": "execute_result"
    }
   ],
   "source": [
    "# Investigating how missing/unknown values are encoded\n",
    "feat_info.info\n"
   ]
  },
  {
   "cell_type": "code",
   "execution_count": 10,
   "metadata": {},
   "outputs": [
    {
     "data": {
      "text/plain": [
       "type\n",
       "categorical    21\n",
       "interval        1\n",
       "mixed           7\n",
       "numeric         7\n",
       "ordinal        49\n",
       "dtype: int64"
      ]
     },
     "execution_count": 10,
     "metadata": {},
     "output_type": "execute_result"
    }
   ],
   "source": [
    "# Checking amount of different types of variable\n",
    "feat_info.groupby(by=\"type\").size()\n"
   ]
  },
  {
   "cell_type": "code",
   "execution_count": 11,
   "metadata": {},
   "outputs": [
    {
     "name": "stdout",
     "output_type": "stream",
     "text": [
      "Categorical type variables:\n",
      "['AGER_TYP', 'ANREDE_KZ', 'CJT_GESAMTTYP', 'FINANZTYP', 'GFK_URLAUBERTYP', 'GREEN_AVANTGARDE', 'LP_FAMILIE_FEIN', 'LP_FAMILIE_GROB', 'LP_STATUS_FEIN', 'LP_STATUS_GROB', 'NATIONALITAET_KZ', 'SHOPPER_TYP', 'SOHO_KZ', 'TITEL_KZ', 'VERS_TYP', 'ZABEOTYP', 'KK_KUNDENTYP', 'GEBAEUDETYP', 'OST_WEST_KZ', 'CAMEO_DEUG_2015', 'CAMEO_DEU_2015']\n",
      "\n",
      "Interval type variables:\n",
      "['ALTER_HH']\n",
      "\n",
      "Mixed type variables:\n",
      "['LP_LEBENSPHASE_FEIN', 'LP_LEBENSPHASE_GROB', 'PRAEGENDE_JUGENDJAHRE', 'WOHNLAGE', 'CAMEO_INTL_2015', 'KBA05_BAUMAX', 'PLZ8_BAUMAX']\n",
      "\n",
      "Numeric type variables:\n",
      "['GEBURTSJAHR', 'ANZ_PERSONEN', 'ANZ_TITEL', 'ANZ_HAUSHALTE_AKTIV', 'ANZ_HH_TITEL', 'MIN_GEBAEUDEJAHR', 'KBA13_ANZAHL_PKW']\n"
     ]
    }
   ],
   "source": [
    "# Generating lists for each variable type\n",
    "categorical_names = []\n",
    "interval_names = []\n",
    "numeric_names = []\n",
    "mixed_names = []\n",
    "\n",
    "for i in range(feat_info.shape[0]):\n",
    "    if feat_info['type'][i] == 'numeric':\n",
    "        numeric_names.append(feat_info['attribute'][i])\n",
    "    if feat_info['type'][i] == 'interval':\n",
    "        interval_names.append(feat_info['attribute'][i])\n",
    "    if feat_info['type'][i] == 'mixed':\n",
    "        mixed_names.append(feat_info['attribute'][i])\n",
    "    if feat_info['type'][i] == 'categorical':\n",
    "        categorical_names.append(feat_info['attribute'][i])\n",
    "        \n",
    "print(f\"Categorical type variables:\\n{categorical_names}\\n\")\n",
    "print(f\"Interval type variables:\\n{interval_names}\\n\")\n",
    "print(f\"Mixed type variables:\\n{mixed_names}\\n\")\n",
    "print(f\"Numeric type variables:\\n{numeric_names}\")\n"
   ]
  },
  {
   "cell_type": "code",
   "execution_count": 12,
   "metadata": {},
   "outputs": [
    {
     "data": {
      "text/html": [
       "<div>\n",
       "<style scoped>\n",
       "    .dataframe tbody tr th:only-of-type {\n",
       "        vertical-align: middle;\n",
       "    }\n",
       "\n",
       "    .dataframe tbody tr th {\n",
       "        vertical-align: top;\n",
       "    }\n",
       "\n",
       "    .dataframe thead th {\n",
       "        text-align: right;\n",
       "    }\n",
       "</style>\n",
       "<table border=\"1\" class=\"dataframe\">\n",
       "  <thead>\n",
       "    <tr style=\"text-align: right;\">\n",
       "      <th></th>\n",
       "      <th>GEBURTSJAHR</th>\n",
       "      <th>ANZ_PERSONEN</th>\n",
       "      <th>ANZ_TITEL</th>\n",
       "      <th>ANZ_HAUSHALTE_AKTIV</th>\n",
       "      <th>ANZ_HH_TITEL</th>\n",
       "      <th>MIN_GEBAEUDEJAHR</th>\n",
       "      <th>KBA13_ANZAHL_PKW</th>\n",
       "    </tr>\n",
       "  </thead>\n",
       "  <tbody>\n",
       "    <tr>\n",
       "      <th>count</th>\n",
       "      <td>891221.000000</td>\n",
       "      <td>817722.000000</td>\n",
       "      <td>817722.000000</td>\n",
       "      <td>798073.000000</td>\n",
       "      <td>794213.000000</td>\n",
       "      <td>798073.000000</td>\n",
       "      <td>785421.000000</td>\n",
       "    </tr>\n",
       "    <tr>\n",
       "      <th>mean</th>\n",
       "      <td>1101.178533</td>\n",
       "      <td>1.727637</td>\n",
       "      <td>0.004162</td>\n",
       "      <td>8.287263</td>\n",
       "      <td>0.040647</td>\n",
       "      <td>1993.277011</td>\n",
       "      <td>619.701439</td>\n",
       "    </tr>\n",
       "    <tr>\n",
       "      <th>std</th>\n",
       "      <td>976.583551</td>\n",
       "      <td>1.155849</td>\n",
       "      <td>0.068855</td>\n",
       "      <td>15.628087</td>\n",
       "      <td>0.324028</td>\n",
       "      <td>3.332739</td>\n",
       "      <td>340.034318</td>\n",
       "    </tr>\n",
       "    <tr>\n",
       "      <th>min</th>\n",
       "      <td>0.000000</td>\n",
       "      <td>0.000000</td>\n",
       "      <td>0.000000</td>\n",
       "      <td>0.000000</td>\n",
       "      <td>0.000000</td>\n",
       "      <td>1985.000000</td>\n",
       "      <td>0.000000</td>\n",
       "    </tr>\n",
       "    <tr>\n",
       "      <th>25%</th>\n",
       "      <td>0.000000</td>\n",
       "      <td>1.000000</td>\n",
       "      <td>0.000000</td>\n",
       "      <td>1.000000</td>\n",
       "      <td>0.000000</td>\n",
       "      <td>1992.000000</td>\n",
       "      <td>384.000000</td>\n",
       "    </tr>\n",
       "    <tr>\n",
       "      <th>50%</th>\n",
       "      <td>1943.000000</td>\n",
       "      <td>1.000000</td>\n",
       "      <td>0.000000</td>\n",
       "      <td>4.000000</td>\n",
       "      <td>0.000000</td>\n",
       "      <td>1992.000000</td>\n",
       "      <td>549.000000</td>\n",
       "    </tr>\n",
       "    <tr>\n",
       "      <th>75%</th>\n",
       "      <td>1970.000000</td>\n",
       "      <td>2.000000</td>\n",
       "      <td>0.000000</td>\n",
       "      <td>9.000000</td>\n",
       "      <td>0.000000</td>\n",
       "      <td>1993.000000</td>\n",
       "      <td>778.000000</td>\n",
       "    </tr>\n",
       "    <tr>\n",
       "      <th>max</th>\n",
       "      <td>2017.000000</td>\n",
       "      <td>45.000000</td>\n",
       "      <td>6.000000</td>\n",
       "      <td>595.000000</td>\n",
       "      <td>23.000000</td>\n",
       "      <td>2016.000000</td>\n",
       "      <td>2300.000000</td>\n",
       "    </tr>\n",
       "  </tbody>\n",
       "</table>\n",
       "</div>"
      ],
      "text/plain": [
       "         GEBURTSJAHR   ANZ_PERSONEN      ANZ_TITEL  ANZ_HAUSHALTE_AKTIV  \\\n",
       "count  891221.000000  817722.000000  817722.000000        798073.000000   \n",
       "mean     1101.178533       1.727637       0.004162             8.287263   \n",
       "std       976.583551       1.155849       0.068855            15.628087   \n",
       "min         0.000000       0.000000       0.000000             0.000000   \n",
       "25%         0.000000       1.000000       0.000000             1.000000   \n",
       "50%      1943.000000       1.000000       0.000000             4.000000   \n",
       "75%      1970.000000       2.000000       0.000000             9.000000   \n",
       "max      2017.000000      45.000000       6.000000           595.000000   \n",
       "\n",
       "        ANZ_HH_TITEL  MIN_GEBAEUDEJAHR  KBA13_ANZAHL_PKW  \n",
       "count  794213.000000     798073.000000     785421.000000  \n",
       "mean        0.040647       1993.277011        619.701439  \n",
       "std         0.324028          3.332739        340.034318  \n",
       "min         0.000000       1985.000000          0.000000  \n",
       "25%         0.000000       1992.000000        384.000000  \n",
       "50%         0.000000       1992.000000        549.000000  \n",
       "75%         0.000000       1993.000000        778.000000  \n",
       "max        23.000000       2016.000000       2300.000000  "
      ]
     },
     "execution_count": 12,
     "metadata": {},
     "output_type": "execute_result"
    }
   ],
   "source": [
    "# Summary statistics for the 7 numerical variables\n",
    "azdias.loc[:, numeric_names].describe()\n"
   ]
  },
  {
   "cell_type": "code",
   "execution_count": 13,
   "metadata": {},
   "outputs": [
    {
     "data": {
      "text/html": [
       "<div>\n",
       "<style scoped>\n",
       "    .dataframe tbody tr th:only-of-type {\n",
       "        vertical-align: middle;\n",
       "    }\n",
       "\n",
       "    .dataframe tbody tr th {\n",
       "        vertical-align: top;\n",
       "    }\n",
       "\n",
       "    .dataframe thead th {\n",
       "        text-align: right;\n",
       "    }\n",
       "</style>\n",
       "<table border=\"1\" class=\"dataframe\">\n",
       "  <thead>\n",
       "    <tr style=\"text-align: right;\">\n",
       "      <th></th>\n",
       "      <th>GEBURTSJAHR</th>\n",
       "      <th>ANZ_PERSONEN</th>\n",
       "      <th>ANZ_TITEL</th>\n",
       "      <th>ANZ_HAUSHALTE_AKTIV</th>\n",
       "      <th>ANZ_HH_TITEL</th>\n",
       "      <th>MIN_GEBAEUDEJAHR</th>\n",
       "      <th>KBA13_ANZAHL_PKW</th>\n",
       "    </tr>\n",
       "  </thead>\n",
       "  <tbody>\n",
       "    <tr>\n",
       "      <th>0</th>\n",
       "      <td>0</td>\n",
       "      <td>NaN</td>\n",
       "      <td>NaN</td>\n",
       "      <td>NaN</td>\n",
       "      <td>NaN</td>\n",
       "      <td>NaN</td>\n",
       "      <td>NaN</td>\n",
       "    </tr>\n",
       "    <tr>\n",
       "      <th>1</th>\n",
       "      <td>1996</td>\n",
       "      <td>2.0</td>\n",
       "      <td>0.0</td>\n",
       "      <td>11.0</td>\n",
       "      <td>0.0</td>\n",
       "      <td>1992.0</td>\n",
       "      <td>963.0</td>\n",
       "    </tr>\n",
       "    <tr>\n",
       "      <th>2</th>\n",
       "      <td>1979</td>\n",
       "      <td>1.0</td>\n",
       "      <td>0.0</td>\n",
       "      <td>10.0</td>\n",
       "      <td>0.0</td>\n",
       "      <td>1992.0</td>\n",
       "      <td>712.0</td>\n",
       "    </tr>\n",
       "    <tr>\n",
       "      <th>3</th>\n",
       "      <td>1957</td>\n",
       "      <td>0.0</td>\n",
       "      <td>0.0</td>\n",
       "      <td>1.0</td>\n",
       "      <td>0.0</td>\n",
       "      <td>1997.0</td>\n",
       "      <td>596.0</td>\n",
       "    </tr>\n",
       "    <tr>\n",
       "      <th>4</th>\n",
       "      <td>1963</td>\n",
       "      <td>4.0</td>\n",
       "      <td>0.0</td>\n",
       "      <td>3.0</td>\n",
       "      <td>0.0</td>\n",
       "      <td>1992.0</td>\n",
       "      <td>435.0</td>\n",
       "    </tr>\n",
       "    <tr>\n",
       "      <th>5</th>\n",
       "      <td>1943</td>\n",
       "      <td>1.0</td>\n",
       "      <td>0.0</td>\n",
       "      <td>5.0</td>\n",
       "      <td>0.0</td>\n",
       "      <td>1992.0</td>\n",
       "      <td>1300.0</td>\n",
       "    </tr>\n",
       "  </tbody>\n",
       "</table>\n",
       "</div>"
      ],
      "text/plain": [
       "   GEBURTSJAHR  ANZ_PERSONEN  ANZ_TITEL  ANZ_HAUSHALTE_AKTIV  ANZ_HH_TITEL  \\\n",
       "0            0           NaN        NaN                  NaN           NaN   \n",
       "1         1996           2.0        0.0                 11.0           0.0   \n",
       "2         1979           1.0        0.0                 10.0           0.0   \n",
       "3         1957           0.0        0.0                  1.0           0.0   \n",
       "4         1963           4.0        0.0                  3.0           0.0   \n",
       "5         1943           1.0        0.0                  5.0           0.0   \n",
       "\n",
       "   MIN_GEBAEUDEJAHR  KBA13_ANZAHL_PKW  \n",
       "0               NaN               NaN  \n",
       "1            1992.0             963.0  \n",
       "2            1992.0             712.0  \n",
       "3            1997.0             596.0  \n",
       "4            1992.0             435.0  \n",
       "5            1992.0            1300.0  "
      ]
     },
     "execution_count": 13,
     "metadata": {},
     "output_type": "execute_result"
    }
   ],
   "source": [
    "# Looking at only rows of numerical variables\n",
    "azdias.loc[0:5, numeric_names]\n"
   ]
  },
  {
   "cell_type": "code",
   "execution_count": 14,
   "metadata": {},
   "outputs": [
    {
     "data": {
      "text/html": [
       "<div>\n",
       "<style scoped>\n",
       "    .dataframe tbody tr th:only-of-type {\n",
       "        vertical-align: middle;\n",
       "    }\n",
       "\n",
       "    .dataframe tbody tr th {\n",
       "        vertical-align: top;\n",
       "    }\n",
       "\n",
       "    .dataframe thead th {\n",
       "        text-align: right;\n",
       "    }\n",
       "</style>\n",
       "<table border=\"1\" class=\"dataframe\">\n",
       "  <thead>\n",
       "    <tr style=\"text-align: right;\">\n",
       "      <th></th>\n",
       "      <th>ALTER_HH</th>\n",
       "    </tr>\n",
       "  </thead>\n",
       "  <tbody>\n",
       "    <tr>\n",
       "      <th>0</th>\n",
       "      <td>NaN</td>\n",
       "    </tr>\n",
       "    <tr>\n",
       "      <th>1</th>\n",
       "      <td>0.0</td>\n",
       "    </tr>\n",
       "    <tr>\n",
       "      <th>2</th>\n",
       "      <td>17.0</td>\n",
       "    </tr>\n",
       "    <tr>\n",
       "      <th>3</th>\n",
       "      <td>13.0</td>\n",
       "    </tr>\n",
       "    <tr>\n",
       "      <th>4</th>\n",
       "      <td>20.0</td>\n",
       "    </tr>\n",
       "    <tr>\n",
       "      <th>5</th>\n",
       "      <td>10.0</td>\n",
       "    </tr>\n",
       "  </tbody>\n",
       "</table>\n",
       "</div>"
      ],
      "text/plain": [
       "   ALTER_HH\n",
       "0       NaN\n",
       "1       0.0\n",
       "2      17.0\n",
       "3      13.0\n",
       "4      20.0\n",
       "5      10.0"
      ]
     },
     "execution_count": 14,
     "metadata": {},
     "output_type": "execute_result"
    }
   ],
   "source": [
    "# Looking at only the interval type variable\n",
    "azdias.loc[0:5, interval_names]\n"
   ]
  },
  {
   "cell_type": "code",
   "execution_count": 15,
   "metadata": {},
   "outputs": [
    {
     "data": {
      "text/html": [
       "<div>\n",
       "<style scoped>\n",
       "    .dataframe tbody tr th:only-of-type {\n",
       "        vertical-align: middle;\n",
       "    }\n",
       "\n",
       "    .dataframe tbody tr th {\n",
       "        vertical-align: top;\n",
       "    }\n",
       "\n",
       "    .dataframe thead th {\n",
       "        text-align: right;\n",
       "    }\n",
       "</style>\n",
       "<table border=\"1\" class=\"dataframe\">\n",
       "  <thead>\n",
       "    <tr style=\"text-align: right;\">\n",
       "      <th></th>\n",
       "      <th>LP_LEBENSPHASE_FEIN</th>\n",
       "      <th>LP_LEBENSPHASE_GROB</th>\n",
       "      <th>PRAEGENDE_JUGENDJAHRE</th>\n",
       "      <th>WOHNLAGE</th>\n",
       "      <th>CAMEO_INTL_2015</th>\n",
       "      <th>KBA05_BAUMAX</th>\n",
       "      <th>PLZ8_BAUMAX</th>\n",
       "    </tr>\n",
       "  </thead>\n",
       "  <tbody>\n",
       "    <tr>\n",
       "      <th>0</th>\n",
       "      <td>15.0</td>\n",
       "      <td>4.0</td>\n",
       "      <td>0</td>\n",
       "      <td>NaN</td>\n",
       "      <td>NaN</td>\n",
       "      <td>NaN</td>\n",
       "      <td>NaN</td>\n",
       "    </tr>\n",
       "    <tr>\n",
       "      <th>1</th>\n",
       "      <td>21.0</td>\n",
       "      <td>6.0</td>\n",
       "      <td>14</td>\n",
       "      <td>4.0</td>\n",
       "      <td>51</td>\n",
       "      <td>5.0</td>\n",
       "      <td>1.0</td>\n",
       "    </tr>\n",
       "    <tr>\n",
       "      <th>2</th>\n",
       "      <td>3.0</td>\n",
       "      <td>1.0</td>\n",
       "      <td>15</td>\n",
       "      <td>2.0</td>\n",
       "      <td>24</td>\n",
       "      <td>0.0</td>\n",
       "      <td>1.0</td>\n",
       "    </tr>\n",
       "    <tr>\n",
       "      <th>3</th>\n",
       "      <td>0.0</td>\n",
       "      <td>0.0</td>\n",
       "      <td>8</td>\n",
       "      <td>7.0</td>\n",
       "      <td>12</td>\n",
       "      <td>1.0</td>\n",
       "      <td>1.0</td>\n",
       "    </tr>\n",
       "    <tr>\n",
       "      <th>4</th>\n",
       "      <td>32.0</td>\n",
       "      <td>10.0</td>\n",
       "      <td>8</td>\n",
       "      <td>3.0</td>\n",
       "      <td>43</td>\n",
       "      <td>0.0</td>\n",
       "      <td>2.0</td>\n",
       "    </tr>\n",
       "    <tr>\n",
       "      <th>5</th>\n",
       "      <td>8.0</td>\n",
       "      <td>2.0</td>\n",
       "      <td>3</td>\n",
       "      <td>7.0</td>\n",
       "      <td>54</td>\n",
       "      <td>0.0</td>\n",
       "      <td>1.0</td>\n",
       "    </tr>\n",
       "  </tbody>\n",
       "</table>\n",
       "</div>"
      ],
      "text/plain": [
       "   LP_LEBENSPHASE_FEIN  LP_LEBENSPHASE_GROB  PRAEGENDE_JUGENDJAHRE  WOHNLAGE  \\\n",
       "0                 15.0                  4.0                      0       NaN   \n",
       "1                 21.0                  6.0                     14       4.0   \n",
       "2                  3.0                  1.0                     15       2.0   \n",
       "3                  0.0                  0.0                      8       7.0   \n",
       "4                 32.0                 10.0                      8       3.0   \n",
       "5                  8.0                  2.0                      3       7.0   \n",
       "\n",
       "  CAMEO_INTL_2015  KBA05_BAUMAX  PLZ8_BAUMAX  \n",
       "0             NaN           NaN          NaN  \n",
       "1              51           5.0          1.0  \n",
       "2              24           0.0          1.0  \n",
       "3              12           1.0          1.0  \n",
       "4              43           0.0          2.0  \n",
       "5              54           0.0          1.0  "
      ]
     },
     "execution_count": 15,
     "metadata": {},
     "output_type": "execute_result"
    }
   ],
   "source": [
    "# Looking at only the mixed variables\n",
    "azdias.loc[0:5,mixed_names]\n"
   ]
  },
  {
   "cell_type": "code",
   "execution_count": 16,
   "metadata": {},
   "outputs": [
    {
     "name": "stdout",
     "output_type": "stream",
     "text": [
      "GEBURTSJAHR\n",
      "[0]\n",
      "ANZ_PERSONEN\n",
      "[]\n",
      "ANZ_TITEL\n",
      "[]\n",
      "ANZ_HAUSHALTE_AKTIV\n",
      "[0]\n",
      "ANZ_HH_TITEL\n",
      "[]\n",
      "MIN_GEBAEUDEJAHR\n",
      "[0]\n",
      "KBA13_ANZAHL_PKW\n",
      "[]\n"
     ]
    }
   ],
   "source": [
    "# Checking numerical variables have correct unknown/missing codes\n",
    "# since values are all in numeric format already\n",
    "for i in range(len(feat_info)):\n",
    "    if feat_info['type'][i] == \"numeric\":\n",
    "        print(feat_info['attribute'][i])\n",
    "        print(feat_info['missing_or_unknown'][i])\n",
    "\n",
    "# All correct\n"
   ]
  },
  {
   "cell_type": "markdown",
   "metadata": {},
   "source": [
    "> **Tip**: Add additional cells to keep everything in reasonably-sized chunks! Keyboard shortcut `esc --> a` (press escape to enter command mode, then press the 'A' key) adds a new cell before the active cell, and `esc --> b` adds a new cell after the active cell. If you need to convert an active cell to a markdown cell, use `esc --> m` and to convert to a code cell, use `esc --> y`. \n",
    "\n",
    "## Step 1: Preprocessing\n",
    "\n",
    "### Step 1.1: Assess Missing Data\n",
    "\n",
    "The feature summary file contains a summary of properties for each demographics data column. You will use this file to help you make cleaning decisions during this stage of the project. First of all, you should assess the demographics data in terms of missing data. Pay attention to the following points as you perform your analysis, and take notes on what you observe. Make sure that you fill in the **Discussion** cell with your findings and decisions at the end of each step that has one!\n",
    "\n",
    "#### Step 1.1.1: Convert Missing Value Codes to NaNs\n",
    "The fourth column of the feature attributes summary (loaded in above as `feat_info`) documents the codes from the data dictionary that indicate missing or unknown data. While the file encodes this as a list (e.g. `[-1,0]`), this will get read in as a string object. You'll need to do a little bit of parsing to make use of it to identify and clean the data. Convert data that matches a 'missing' or 'unknown' value code into a numpy NaN value. You might want to see how much data takes on a 'missing' or 'unknown' code, and how much data is naturally missing, as a point of interest.\n",
    "\n",
    "**As one more reminder, you are encouraged to add additional cells to break up your analysis into manageable chunks.**"
   ]
  },
  {
   "cell_type": "code",
   "execution_count": 17,
   "metadata": {},
   "outputs": [
    {
     "data": {
      "text/plain": [
       "4896838"
      ]
     },
     "execution_count": 17,
     "metadata": {},
     "output_type": "execute_result"
    }
   ],
   "source": [
    "# Identify missing or unknown data values and convert them to NaNs.\n",
    "\n",
    "# Number of NaNs in dataset\n",
    "azdias.isnull().sum().sum()\n"
   ]
  },
  {
   "cell_type": "code",
   "execution_count": 18,
   "metadata": {},
   "outputs": [
    {
     "data": {
      "text/plain": [
       "attribute             0\n",
       "information_level     0\n",
       "type                  0\n",
       "missing_or_unknown    0\n",
       "dtype: int64"
      ]
     },
     "execution_count": 18,
     "metadata": {},
     "output_type": "execute_result"
    }
   ],
   "source": [
    "# Checking feature info file for missing values\n",
    "feat_info.isnull().sum()\n"
   ]
  },
  {
   "cell_type": "code",
   "execution_count": 19,
   "metadata": {},
   "outputs": [],
   "source": [
    "# Replacing chars as strings\n",
    "feat_info['m_or_u_list'] = feat_info['missing_or_unknown']\n",
    "\n",
    "for i in  range(len(feat_info['m_or_u_list'])):\n",
    "    feat_info['m_or_u_list'][i] = feat_info['m_or_u_list'][i]\\\n",
    "                                  .replace('XX', 'yy')\n",
    "    feat_info['m_or_u_list'][i] = feat_info['m_or_u_list'][i]\\\n",
    "                                  .replace('X', ' \"X\" ')\n",
    "    feat_info['m_or_u_list'][i] = feat_info['m_or_u_list'][i]\\\n",
    "                                  .replace('yy', ' \"XX\" ')\n",
    "\n",
    "feat_info['m_or_u_list'] = feat_info['m_or_u_list'].map(ast.literal_eval)\n"
   ]
  },
  {
   "cell_type": "code",
   "execution_count": 20,
   "metadata": {},
   "outputs": [
    {
     "name": "stdout",
     "output_type": "stream",
     "text": [
      "before: [-1,X]\n",
      "after: [-1, 'X']\n"
     ]
    },
    {
     "data": {
      "text/html": [
       "<div>\n",
       "<style scoped>\n",
       "    .dataframe tbody tr th:only-of-type {\n",
       "        vertical-align: middle;\n",
       "    }\n",
       "\n",
       "    .dataframe tbody tr th {\n",
       "        vertical-align: top;\n",
       "    }\n",
       "\n",
       "    .dataframe thead th {\n",
       "        text-align: right;\n",
       "    }\n",
       "</style>\n",
       "<table border=\"1\" class=\"dataframe\">\n",
       "  <thead>\n",
       "    <tr style=\"text-align: right;\">\n",
       "      <th></th>\n",
       "      <th>attribute</th>\n",
       "      <th>information_level</th>\n",
       "      <th>type</th>\n",
       "      <th>missing_or_unknown</th>\n",
       "      <th>m_or_u_list</th>\n",
       "    </tr>\n",
       "  </thead>\n",
       "  <tbody>\n",
       "    <tr>\n",
       "      <th>50</th>\n",
       "      <td>ANZ_HAUSHALTE_AKTIV</td>\n",
       "      <td>building</td>\n",
       "      <td>numeric</td>\n",
       "      <td>[0]</td>\n",
       "      <td>[0]</td>\n",
       "    </tr>\n",
       "    <tr>\n",
       "      <th>51</th>\n",
       "      <td>ANZ_HH_TITEL</td>\n",
       "      <td>building</td>\n",
       "      <td>numeric</td>\n",
       "      <td>[]</td>\n",
       "      <td>[]</td>\n",
       "    </tr>\n",
       "    <tr>\n",
       "      <th>52</th>\n",
       "      <td>GEBAEUDETYP</td>\n",
       "      <td>building</td>\n",
       "      <td>categorical</td>\n",
       "      <td>[-1,0]</td>\n",
       "      <td>[-1, 0]</td>\n",
       "    </tr>\n",
       "    <tr>\n",
       "      <th>53</th>\n",
       "      <td>KONSUMNAEHE</td>\n",
       "      <td>building</td>\n",
       "      <td>ordinal</td>\n",
       "      <td>[]</td>\n",
       "      <td>[]</td>\n",
       "    </tr>\n",
       "    <tr>\n",
       "      <th>54</th>\n",
       "      <td>MIN_GEBAEUDEJAHR</td>\n",
       "      <td>building</td>\n",
       "      <td>numeric</td>\n",
       "      <td>[0]</td>\n",
       "      <td>[0]</td>\n",
       "    </tr>\n",
       "    <tr>\n",
       "      <th>55</th>\n",
       "      <td>OST_WEST_KZ</td>\n",
       "      <td>building</td>\n",
       "      <td>categorical</td>\n",
       "      <td>[-1]</td>\n",
       "      <td>[-1]</td>\n",
       "    </tr>\n",
       "    <tr>\n",
       "      <th>56</th>\n",
       "      <td>WOHNLAGE</td>\n",
       "      <td>building</td>\n",
       "      <td>mixed</td>\n",
       "      <td>[-1]</td>\n",
       "      <td>[-1]</td>\n",
       "    </tr>\n",
       "    <tr>\n",
       "      <th>57</th>\n",
       "      <td>CAMEO_DEUG_2015</td>\n",
       "      <td>microcell_rr4</td>\n",
       "      <td>categorical</td>\n",
       "      <td>[-1,X]</td>\n",
       "      <td>[-1, X]</td>\n",
       "    </tr>\n",
       "    <tr>\n",
       "      <th>58</th>\n",
       "      <td>CAMEO_DEU_2015</td>\n",
       "      <td>microcell_rr4</td>\n",
       "      <td>categorical</td>\n",
       "      <td>[XX]</td>\n",
       "      <td>[XX]</td>\n",
       "    </tr>\n",
       "    <tr>\n",
       "      <th>59</th>\n",
       "      <td>CAMEO_INTL_2015</td>\n",
       "      <td>microcell_rr4</td>\n",
       "      <td>mixed</td>\n",
       "      <td>[-1,XX]</td>\n",
       "      <td>[-1, XX]</td>\n",
       "    </tr>\n",
       "    <tr>\n",
       "      <th>60</th>\n",
       "      <td>KBA05_ANTG1</td>\n",
       "      <td>microcell_rr3</td>\n",
       "      <td>ordinal</td>\n",
       "      <td>[-1]</td>\n",
       "      <td>[-1]</td>\n",
       "    </tr>\n",
       "  </tbody>\n",
       "</table>\n",
       "</div>"
      ],
      "text/plain": [
       "              attribute information_level         type missing_or_unknown  \\\n",
       "50  ANZ_HAUSHALTE_AKTIV          building      numeric                [0]   \n",
       "51         ANZ_HH_TITEL          building      numeric                 []   \n",
       "52          GEBAEUDETYP          building  categorical             [-1,0]   \n",
       "53          KONSUMNAEHE          building      ordinal                 []   \n",
       "54     MIN_GEBAEUDEJAHR          building      numeric                [0]   \n",
       "55          OST_WEST_KZ          building  categorical               [-1]   \n",
       "56             WOHNLAGE          building        mixed               [-1]   \n",
       "57      CAMEO_DEUG_2015     microcell_rr4  categorical             [-1,X]   \n",
       "58       CAMEO_DEU_2015     microcell_rr4  categorical               [XX]   \n",
       "59      CAMEO_INTL_2015     microcell_rr4        mixed            [-1,XX]   \n",
       "60          KBA05_ANTG1     microcell_rr3      ordinal               [-1]   \n",
       "\n",
       "   m_or_u_list  \n",
       "50         [0]  \n",
       "51          []  \n",
       "52     [-1, 0]  \n",
       "53          []  \n",
       "54         [0]  \n",
       "55        [-1]  \n",
       "56        [-1]  \n",
       "57     [-1, X]  \n",
       "58        [XX]  \n",
       "59    [-1, XX]  \n",
       "60        [-1]  "
      ]
     },
     "execution_count": 20,
     "metadata": {},
     "output_type": "execute_result"
    }
   ],
   "source": [
    "# Checking replacement worked correctly\n",
    "print(f\"before: {feat_info['missing_or_unknown'][57]}\")\n",
    "print(f\"after: {feat_info['m_or_u_list'][57]}\")\n",
    "\n",
    "feat_info.loc[50:60,:]\n"
   ]
  },
  {
   "cell_type": "code",
   "execution_count": 21,
   "metadata": {},
   "outputs": [
    {
     "name": "stdout",
     "output_type": "stream",
     "text": [
      "All columns match\n"
     ]
    }
   ],
   "source": [
    "# Checking that column names mactch between files\n",
    "for i in range(len(azdias.columns)):\n",
    "    counter = 0\n",
    "    if azdias.columns[i] != feat_info['attribute'][i]:\n",
    "        print(\"column names do not match\")\n",
    "        print(f\"azdias: {azdias.columns[i]}\")\n",
    "        print(f\"feat_info: {feat_info['attribute'][i]}\")\n",
    "        counter += 1\n",
    "\n",
    "if counter == 0:\n",
    "    print(\"All columns match\")\n",
    "else:\n",
    "    print(\"Columns do not match\")\n"
   ]
  },
  {
   "cell_type": "code",
   "execution_count": 22,
   "metadata": {},
   "outputs": [],
   "source": [
    "# Replacing unknown/missing codes with NaN values\n",
    "for i in range(len(azdias.columns)):\n",
    "    if feat_info['m_or_u_list'][i] != []:\n",
    "        azdias.iloc[:, i] = azdias.iloc[:, i]\\\n",
    "                            .replace(feat_info['m_or_u_list'][i], np.nan)\n",
    "    else:\n",
    "        continue\n"
   ]
  },
  {
   "cell_type": "code",
   "execution_count": 23,
   "metadata": {},
   "outputs": [
    {
     "data": {
      "text/html": [
       "<div>\n",
       "<style scoped>\n",
       "    .dataframe tbody tr th:only-of-type {\n",
       "        vertical-align: middle;\n",
       "    }\n",
       "\n",
       "    .dataframe tbody tr th {\n",
       "        vertical-align: top;\n",
       "    }\n",
       "\n",
       "    .dataframe thead th {\n",
       "        text-align: right;\n",
       "    }\n",
       "</style>\n",
       "<table border=\"1\" class=\"dataframe\">\n",
       "  <thead>\n",
       "    <tr style=\"text-align: right;\">\n",
       "      <th></th>\n",
       "      <th>AGER_TYP</th>\n",
       "      <th>ALTERSKATEGORIE_GROB</th>\n",
       "      <th>ANREDE_KZ</th>\n",
       "      <th>CJT_GESAMTTYP</th>\n",
       "      <th>FINANZ_MINIMALIST</th>\n",
       "      <th>FINANZ_SPARER</th>\n",
       "      <th>FINANZ_VORSORGER</th>\n",
       "      <th>FINANZ_ANLEGER</th>\n",
       "      <th>FINANZ_UNAUFFAELLIGER</th>\n",
       "      <th>FINANZ_HAUSBAUER</th>\n",
       "      <th>...</th>\n",
       "      <th>PLZ8_ANTG1</th>\n",
       "      <th>PLZ8_ANTG2</th>\n",
       "      <th>PLZ8_ANTG3</th>\n",
       "      <th>PLZ8_ANTG4</th>\n",
       "      <th>PLZ8_BAUMAX</th>\n",
       "      <th>PLZ8_HHZ</th>\n",
       "      <th>PLZ8_GBZ</th>\n",
       "      <th>ARBEIT</th>\n",
       "      <th>ORTSGR_KLS9</th>\n",
       "      <th>RELAT_AB</th>\n",
       "    </tr>\n",
       "  </thead>\n",
       "  <tbody>\n",
       "    <tr>\n",
       "      <th>0</th>\n",
       "      <td>NaN</td>\n",
       "      <td>2.0</td>\n",
       "      <td>1</td>\n",
       "      <td>2.0</td>\n",
       "      <td>3</td>\n",
       "      <td>4</td>\n",
       "      <td>3</td>\n",
       "      <td>5</td>\n",
       "      <td>5</td>\n",
       "      <td>3</td>\n",
       "      <td>...</td>\n",
       "      <td>NaN</td>\n",
       "      <td>NaN</td>\n",
       "      <td>NaN</td>\n",
       "      <td>NaN</td>\n",
       "      <td>NaN</td>\n",
       "      <td>NaN</td>\n",
       "      <td>NaN</td>\n",
       "      <td>NaN</td>\n",
       "      <td>NaN</td>\n",
       "      <td>NaN</td>\n",
       "    </tr>\n",
       "    <tr>\n",
       "      <th>1</th>\n",
       "      <td>NaN</td>\n",
       "      <td>1.0</td>\n",
       "      <td>2</td>\n",
       "      <td>5.0</td>\n",
       "      <td>1</td>\n",
       "      <td>5</td>\n",
       "      <td>2</td>\n",
       "      <td>5</td>\n",
       "      <td>4</td>\n",
       "      <td>5</td>\n",
       "      <td>...</td>\n",
       "      <td>2.0</td>\n",
       "      <td>3.0</td>\n",
       "      <td>2.0</td>\n",
       "      <td>1.0</td>\n",
       "      <td>1.0</td>\n",
       "      <td>5.0</td>\n",
       "      <td>4.0</td>\n",
       "      <td>3.0</td>\n",
       "      <td>5.0</td>\n",
       "      <td>4.0</td>\n",
       "    </tr>\n",
       "    <tr>\n",
       "      <th>2</th>\n",
       "      <td>NaN</td>\n",
       "      <td>3.0</td>\n",
       "      <td>2</td>\n",
       "      <td>3.0</td>\n",
       "      <td>1</td>\n",
       "      <td>4</td>\n",
       "      <td>1</td>\n",
       "      <td>2</td>\n",
       "      <td>3</td>\n",
       "      <td>5</td>\n",
       "      <td>...</td>\n",
       "      <td>3.0</td>\n",
       "      <td>3.0</td>\n",
       "      <td>1.0</td>\n",
       "      <td>0.0</td>\n",
       "      <td>1.0</td>\n",
       "      <td>4.0</td>\n",
       "      <td>4.0</td>\n",
       "      <td>3.0</td>\n",
       "      <td>5.0</td>\n",
       "      <td>2.0</td>\n",
       "    </tr>\n",
       "    <tr>\n",
       "      <th>3</th>\n",
       "      <td>2.0</td>\n",
       "      <td>4.0</td>\n",
       "      <td>2</td>\n",
       "      <td>2.0</td>\n",
       "      <td>4</td>\n",
       "      <td>2</td>\n",
       "      <td>5</td>\n",
       "      <td>2</td>\n",
       "      <td>1</td>\n",
       "      <td>2</td>\n",
       "      <td>...</td>\n",
       "      <td>2.0</td>\n",
       "      <td>2.0</td>\n",
       "      <td>2.0</td>\n",
       "      <td>0.0</td>\n",
       "      <td>1.0</td>\n",
       "      <td>3.0</td>\n",
       "      <td>4.0</td>\n",
       "      <td>2.0</td>\n",
       "      <td>3.0</td>\n",
       "      <td>3.0</td>\n",
       "    </tr>\n",
       "    <tr>\n",
       "      <th>4</th>\n",
       "      <td>NaN</td>\n",
       "      <td>3.0</td>\n",
       "      <td>1</td>\n",
       "      <td>5.0</td>\n",
       "      <td>4</td>\n",
       "      <td>3</td>\n",
       "      <td>4</td>\n",
       "      <td>1</td>\n",
       "      <td>3</td>\n",
       "      <td>2</td>\n",
       "      <td>...</td>\n",
       "      <td>2.0</td>\n",
       "      <td>4.0</td>\n",
       "      <td>2.0</td>\n",
       "      <td>1.0</td>\n",
       "      <td>2.0</td>\n",
       "      <td>3.0</td>\n",
       "      <td>3.0</td>\n",
       "      <td>4.0</td>\n",
       "      <td>6.0</td>\n",
       "      <td>5.0</td>\n",
       "    </tr>\n",
       "  </tbody>\n",
       "</table>\n",
       "<p>5 rows × 85 columns</p>\n",
       "</div>"
      ],
      "text/plain": [
       "   AGER_TYP  ALTERSKATEGORIE_GROB  ANREDE_KZ  CJT_GESAMTTYP  \\\n",
       "0       NaN                   2.0          1            2.0   \n",
       "1       NaN                   1.0          2            5.0   \n",
       "2       NaN                   3.0          2            3.0   \n",
       "3       2.0                   4.0          2            2.0   \n",
       "4       NaN                   3.0          1            5.0   \n",
       "\n",
       "   FINANZ_MINIMALIST  FINANZ_SPARER  FINANZ_VORSORGER  FINANZ_ANLEGER  \\\n",
       "0                  3              4                 3               5   \n",
       "1                  1              5                 2               5   \n",
       "2                  1              4                 1               2   \n",
       "3                  4              2                 5               2   \n",
       "4                  4              3                 4               1   \n",
       "\n",
       "   FINANZ_UNAUFFAELLIGER  FINANZ_HAUSBAUER    ...     PLZ8_ANTG1  PLZ8_ANTG2  \\\n",
       "0                      5                 3    ...            NaN         NaN   \n",
       "1                      4                 5    ...            2.0         3.0   \n",
       "2                      3                 5    ...            3.0         3.0   \n",
       "3                      1                 2    ...            2.0         2.0   \n",
       "4                      3                 2    ...            2.0         4.0   \n",
       "\n",
       "   PLZ8_ANTG3  PLZ8_ANTG4  PLZ8_BAUMAX  PLZ8_HHZ  PLZ8_GBZ  ARBEIT  \\\n",
       "0         NaN         NaN          NaN       NaN       NaN     NaN   \n",
       "1         2.0         1.0          1.0       5.0       4.0     3.0   \n",
       "2         1.0         0.0          1.0       4.0       4.0     3.0   \n",
       "3         2.0         0.0          1.0       3.0       4.0     2.0   \n",
       "4         2.0         1.0          2.0       3.0       3.0     4.0   \n",
       "\n",
       "   ORTSGR_KLS9  RELAT_AB  \n",
       "0          NaN       NaN  \n",
       "1          5.0       4.0  \n",
       "2          5.0       2.0  \n",
       "3          3.0       3.0  \n",
       "4          6.0       5.0  \n",
       "\n",
       "[5 rows x 85 columns]"
      ]
     },
     "execution_count": 23,
     "metadata": {},
     "output_type": "execute_result"
    }
   ],
   "source": [
    "azdias.head()\n"
   ]
  },
  {
   "cell_type": "markdown",
   "metadata": {},
   "source": [
    "#### Step 1.1.2: Assess Missing Data in Each Column\n",
    "\n",
    "How much missing data is present in each column? There are a few columns that are outliers in terms of the proportion of values that are missing. You will want to use matplotlib's [`hist()`](https://matplotlib.org/api/_as_gen/matplotlib.pyplot.hist.html) function to visualize the distribution of missing value counts to find these columns. Identify and document these columns. While some of these columns might have justifications for keeping or re-encoding the data, for this project you should just remove them from the dataframe. (Feel free to make remarks about these outlier columns in the discussion, however!)\n",
    "\n",
    "For the remaining features, are there any patterns in which columns have, or share, missing data?"
   ]
  },
  {
   "cell_type": "code",
   "execution_count": 24,
   "metadata": {},
   "outputs": [
    {
     "data": {
      "text/plain": [
       "AGER_TYP                 685843\n",
       "ALTERSKATEGORIE_GROB       2881\n",
       "ANREDE_KZ                     0\n",
       "CJT_GESAMTTYP              4854\n",
       "FINANZ_MINIMALIST             0\n",
       "FINANZ_SPARER                 0\n",
       "FINANZ_VORSORGER              0\n",
       "FINANZ_ANLEGER                0\n",
       "FINANZ_UNAUFFAELLIGER         0\n",
       "FINANZ_HAUSBAUER              0\n",
       "FINANZTYP                     0\n",
       "GEBURTSJAHR              392318\n",
       "GFK_URLAUBERTYP            4854\n",
       "GREEN_AVANTGARDE              0\n",
       "HEALTH_TYP               111196\n",
       "LP_LEBENSPHASE_FEIN       97632\n",
       "LP_LEBENSPHASE_GROB       94572\n",
       "LP_FAMILIE_FEIN           77792\n",
       "LP_FAMILIE_GROB           77792\n",
       "LP_STATUS_FEIN             4854\n",
       "LP_STATUS_GROB             4854\n",
       "NATIONALITAET_KZ         108315\n",
       "PRAEGENDE_JUGENDJAHRE    108164\n",
       "RETOURTYP_BK_S             4854\n",
       "SEMIO_SOZ                     0\n",
       "SEMIO_FAM                     0\n",
       "SEMIO_REL                     0\n",
       "SEMIO_MAT                     0\n",
       "SEMIO_VERT                    0\n",
       "SEMIO_LUST                    0\n",
       "                          ...  \n",
       "OST_WEST_KZ               93148\n",
       "WOHNLAGE                  93148\n",
       "CAMEO_DEUG_2015           99352\n",
       "CAMEO_DEU_2015            99352\n",
       "CAMEO_INTL_2015           99352\n",
       "KBA05_ANTG1              133324\n",
       "KBA05_ANTG2              133324\n",
       "KBA05_ANTG3              133324\n",
       "KBA05_ANTG4              133324\n",
       "KBA05_BAUMAX             476524\n",
       "KBA05_GBZ                133324\n",
       "BALLRAUM                  93740\n",
       "EWDICHTE                  93740\n",
       "INNENSTADT                93740\n",
       "GEBAEUDETYP_RASTER        93155\n",
       "KKK                      158064\n",
       "MOBI_REGIO               133324\n",
       "ONLINE_AFFINITAET          4854\n",
       "REGIOTYP                 158064\n",
       "KBA13_ANZAHL_PKW         105800\n",
       "PLZ8_ANTG1               116515\n",
       "PLZ8_ANTG2               116515\n",
       "PLZ8_ANTG3               116515\n",
       "PLZ8_ANTG4               116515\n",
       "PLZ8_BAUMAX              116515\n",
       "PLZ8_HHZ                 116515\n",
       "PLZ8_GBZ                 116515\n",
       "ARBEIT                    97375\n",
       "ORTSGR_KLS9               97274\n",
       "RELAT_AB                  97375\n",
       "Length: 85, dtype: int64"
      ]
     },
     "execution_count": 24,
     "metadata": {},
     "output_type": "execute_result"
    }
   ],
   "source": [
    "# Perform an assessment of how much missing data there is in each column of the\n",
    "# dataset.\n",
    "\n",
    "# Number of NaN values per column\n",
    "azdias.isnull().sum()\n"
   ]
  },
  {
   "cell_type": "code",
   "execution_count": 25,
   "metadata": {},
   "outputs": [
    {
     "name": "stdout",
     "output_type": "stream",
     "text": [
      "11.054139407\n"
     ]
    }
   ],
   "source": [
    "# Calculating % of NaN values for whole data set\n",
    "perc_missing = (((azdias.isnull().sum()).sum()) / (azdias.shape[0]*azdias.shape[1])) * 100\n",
    "print(perc_missing)\n"
   ]
  },
  {
   "cell_type": "code",
   "execution_count": 26,
   "metadata": {},
   "outputs": [
    {
     "data": {
      "image/png": "[encoded data removed]",
      "text/plain": [
       "<matplotlib.figure.Figure at 0x7fa406a75f98>"
      ]
     },
     "metadata": {
      "needs_background": "light"
     },
     "output_type": "display_data"
    }
   ],
   "source": [
    "# Histogram of NaNs\n",
    "fig, ax = plt.subplots(figsize = (10,8))\n",
    "sns.distplot(azdias.isnull().sum(), bins = 85, ax =ax )\n",
    "plt.show()\n"
   ]
  },
  {
   "cell_type": "code",
   "execution_count": 27,
   "metadata": {},
   "outputs": [
    {
     "data": {
      "text/plain": [
       "count        85.000000\n",
       "mean      98516.811765\n",
       "std      146604.203317\n",
       "min           0.000000\n",
       "25%           0.000000\n",
       "50%       93148.000000\n",
       "75%      116515.000000\n",
       "max      889061.000000\n",
       "dtype: float64"
      ]
     },
     "execution_count": 27,
     "metadata": {},
     "output_type": "execute_result"
    }
   ],
   "source": [
    "azdias.isnull().sum().describe()\n"
   ]
  },
  {
   "cell_type": "code",
   "execution_count": 28,
   "metadata": {},
   "outputs": [
    {
     "data": {
      "text/plain": [
       "92.94117647058823"
      ]
     },
     "execution_count": 28,
     "metadata": {},
     "output_type": "execute_result"
    }
   ],
   "source": [
    "# Quantile for no. NaN values <= 200,000\n",
    "stats.percentileofscore(azdias.isnull().sum(),200000)\n"
   ]
  },
  {
   "cell_type": "code",
   "execution_count": 29,
   "metadata": {},
   "outputs": [
    {
     "name": "stdout",
     "output_type": "stream",
     "text": [
      "TITEL_KZ\n"
     ]
    }
   ],
   "source": [
    "# Finding largest outlier\n",
    "\n",
    "for i in range(azdias.shape[1]):\n",
    "    if azdias.iloc[:, i].isnull().sum() > 800000:\n",
    "        print(azdias.columns[i])\n"
   ]
  },
  {
   "cell_type": "code",
   "execution_count": 30,
   "metadata": {},
   "outputs": [
    {
     "data": {
      "text/plain": [
       "889061"
      ]
     },
     "execution_count": 30,
     "metadata": {},
     "output_type": "execute_result"
    }
   ],
   "source": [
    "azdias.loc[:,'TITEL_KZ'].isnull().sum()\n"
   ]
  },
  {
   "cell_type": "code",
   "execution_count": 31,
   "metadata": {},
   "outputs": [],
   "source": [
    "# Listing outliers for when no. of NaN values > 200,000\n",
    "\n",
    "outliers = []\n",
    "for i in range(azdias.shape[1]):\n",
    "    if azdias.iloc[:, i].isnull().sum() > 200000:\n",
    "        outliers.append(azdias.columns[i])\n"
   ]
  },
  {
   "cell_type": "code",
   "execution_count": 32,
   "metadata": {},
   "outputs": [
    {
     "name": "stdout",
     "output_type": "stream",
     "text": [
      "['AGER_TYP', 'GEBURTSJAHR', 'TITEL_KZ', 'ALTER_HH', 'KK_KUNDENTYP', 'KBA05_BAUMAX']\n"
     ]
    }
   ],
   "source": [
    "print(outliers)\n"
   ]
  },
  {
   "cell_type": "code",
   "execution_count": 33,
   "metadata": {},
   "outputs": [
    {
     "data": {
      "text/plain": [
       "(891221, 79)"
      ]
     },
     "execution_count": 33,
     "metadata": {},
     "output_type": "execute_result"
    }
   ],
   "source": [
    "# Remove the outlier columns from the dataset. (You'll perform other data\n",
    "# engineering tasks such as re-encoding and imputation later.)\n",
    "\n",
    "azdias.drop(outliers, axis=1, inplace=True)\n",
    "azdias.shape"
   ]
  },
  {
   "cell_type": "code",
   "execution_count": 34,
   "metadata": {},
   "outputs": [
    {
     "data": {
      "image/png": "[encoded data removed]",
      "text/plain": [
       "<matplotlib.figure.Figure at 0x7fa406a16a20>"
      ]
     },
     "metadata": {
      "needs_background": "light"
     },
     "output_type": "display_data"
    }
   ],
   "source": [
    "fig, ax = plt.subplots(figsize = (10,8))\n",
    "sns.distplot(azdias.isnull().sum(), bins = 79, ax = ax)\n",
    "plt.show()\n"
   ]
  },
  {
   "cell_type": "code",
   "execution_count": 35,
   "metadata": {},
   "outputs": [
    {
     "name": "stdout",
     "output_type": "stream",
     "text": [
      "ANREDE_KZ\n",
      "FINANZ_MINIMALIST\n",
      "FINANZ_SPARER\n",
      "FINANZ_VORSORGER\n",
      "FINANZ_ANLEGER\n",
      "FINANZ_UNAUFFAELLIGER\n",
      "FINANZ_HAUSBAUER\n",
      "FINANZTYP\n",
      "GREEN_AVANTGARDE\n",
      "SEMIO_SOZ\n",
      "SEMIO_FAM\n",
      "SEMIO_REL\n",
      "SEMIO_MAT\n",
      "SEMIO_VERT\n",
      "SEMIO_LUST\n",
      "SEMIO_ERL\n",
      "SEMIO_KULT\n",
      "SEMIO_RAT\n",
      "SEMIO_KRIT\n",
      "SEMIO_DOM\n",
      "SEMIO_KAEM\n",
      "SEMIO_PFLICHT\n",
      "SEMIO_TRADV\n",
      "ZABEOTYP\n"
     ]
    }
   ],
   "source": [
    "# Columns containing no null values\n",
    "for i in range(azdias.shape[1]):\n",
    "    if azdias.iloc[:,i].isnull().sum() == 0:\n",
    "        print(f\"{azdias.columns[i]}\")\n"
   ]
  },
  {
   "cell_type": "code",
   "execution_count": 36,
   "metadata": {},
   "outputs": [
    {
     "name": "stdout",
     "output_type": "stream",
     "text": [
      "ALTERSKATEGORIE_GROB:  2881\n",
      "CJT_GESAMTTYP:  4854\n",
      "GFK_URLAUBERTYP:  4854\n",
      "HEALTH_TYP:  111196\n",
      "LP_LEBENSPHASE_FEIN:  97632\n",
      "LP_LEBENSPHASE_GROB:  94572\n",
      "LP_FAMILIE_FEIN:  77792\n",
      "LP_FAMILIE_GROB:  77792\n",
      "LP_STATUS_FEIN:  4854\n",
      "LP_STATUS_GROB:  4854\n",
      "NATIONALITAET_KZ:  108315\n",
      "PRAEGENDE_JUGENDJAHRE:  108164\n",
      "RETOURTYP_BK_S:  4854\n",
      "SHOPPER_TYP:  111196\n",
      "SOHO_KZ:  73499\n",
      "VERS_TYP:  111196\n",
      "ANZ_PERSONEN:  73499\n",
      "ANZ_TITEL:  73499\n",
      "HH_EINKOMMEN_SCORE:  18348\n",
      "W_KEIT_KIND_HH:  147988\n",
      "WOHNDAUER_2008:  73499\n",
      "ANZ_HAUSHALTE_AKTIV:  99611\n",
      "ANZ_HH_TITEL:  97008\n",
      "GEBAEUDETYP:  93148\n",
      "KONSUMNAEHE:  73969\n",
      "MIN_GEBAEUDEJAHR:  93148\n",
      "OST_WEST_KZ:  93148\n",
      "WOHNLAGE:  93148\n",
      "CAMEO_DEUG_2015:  99352\n",
      "CAMEO_DEU_2015:  99352\n",
      "CAMEO_INTL_2015:  99352\n",
      "KBA05_ANTG1:  133324\n",
      "KBA05_ANTG2:  133324\n",
      "KBA05_ANTG3:  133324\n",
      "KBA05_ANTG4:  133324\n",
      "KBA05_GBZ:  133324\n",
      "BALLRAUM:  93740\n",
      "EWDICHTE:  93740\n",
      "INNENSTADT:  93740\n",
      "GEBAEUDETYP_RASTER:  93155\n",
      "KKK:  158064\n",
      "MOBI_REGIO:  133324\n",
      "ONLINE_AFFINITAET:  4854\n",
      "REGIOTYP:  158064\n",
      "KBA13_ANZAHL_PKW:  105800\n",
      "PLZ8_ANTG1:  116515\n",
      "PLZ8_ANTG2:  116515\n",
      "PLZ8_ANTG3:  116515\n",
      "PLZ8_ANTG4:  116515\n",
      "PLZ8_BAUMAX:  116515\n",
      "PLZ8_HHZ:  116515\n",
      "PLZ8_GBZ:  116515\n",
      "ARBEIT:  97375\n",
      "ORTSGR_KLS9:  97274\n",
      "RELAT_AB:  97375\n"
     ]
    }
   ],
   "source": [
    "# Investigate patterns in the amount of missing data in each column.\n",
    "\n",
    "d={}\n",
    "for i in range(azdias.shape[1]):\n",
    "    if azdias.iloc[:, i].isnull().sum() > 0:\n",
    "        print(f\"{azdias.columns[i]}:  {azdias.iloc[:,i].isnull().sum()}\")\n",
    "        d[azdias.columns[i]] = azdias.iloc[:, i].isnull().sum()\n"
   ]
  },
  {
   "cell_type": "code",
   "execution_count": 37,
   "metadata": {},
   "outputs": [
    {
     "name": "stdout",
     "output_type": "stream",
     "text": [
      "['PRAEGENDE_JUGENDJAHRE'] \n",
      "  108164\n",
      "\n",
      "['W_KEIT_KIND_HH'] \n",
      "  147988\n",
      "\n",
      "['CAMEO_DEUG_2015', 'CAMEO_DEU_2015', 'CAMEO_INTL_2015'] \n",
      "  99352\n",
      "\n",
      "['SOHO_KZ', 'ANZ_PERSONEN', 'ANZ_TITEL', 'WOHNDAUER_2008'] \n",
      "  73499\n",
      "\n",
      "['ANZ_HAUSHALTE_AKTIV'] \n",
      "  99611\n",
      "\n",
      "['NATIONALITAET_KZ'] \n",
      "  108315\n",
      "\n",
      "['PLZ8_ANTG1', 'PLZ8_ANTG2', 'PLZ8_ANTG3', 'PLZ8_ANTG4', 'PLZ8_BAUMAX', 'PLZ8_HHZ', 'PLZ8_GBZ'] \n",
      "  116515\n",
      "\n",
      "['HH_EINKOMMEN_SCORE'] \n",
      "  18348\n",
      "\n",
      "['BALLRAUM', 'EWDICHTE', 'INNENSTADT'] \n",
      "  93740\n",
      "\n",
      "['ALTERSKATEGORIE_GROB'] \n",
      "  2881\n",
      "\n",
      "['KBA13_ANZAHL_PKW'] \n",
      "  105800\n",
      "\n",
      "['KBA05_ANTG1', 'KBA05_ANTG2', 'KBA05_ANTG3', 'KBA05_ANTG4', 'KBA05_GBZ', 'MOBI_REGIO'] \n",
      "  133324\n",
      "\n",
      "['GEBAEUDETYP', 'MIN_GEBAEUDEJAHR', 'OST_WEST_KZ', 'WOHNLAGE'] \n",
      "  93148\n",
      "\n",
      "['HEALTH_TYP', 'SHOPPER_TYP', 'VERS_TYP'] \n",
      "  111196\n",
      "\n",
      "['ARBEIT', 'RELAT_AB'] \n",
      "  97375\n",
      "\n",
      "['LP_LEBENSPHASE_FEIN'] \n",
      "  97632\n",
      "\n",
      "['LP_FAMILIE_FEIN', 'LP_FAMILIE_GROB'] \n",
      "  77792\n",
      "\n",
      "['GEBAEUDETYP_RASTER'] \n",
      "  93155\n",
      "\n",
      "['LP_LEBENSPHASE_GROB'] \n",
      "  94572\n",
      "\n",
      "['ANZ_HH_TITEL'] \n",
      "  97008\n",
      "\n",
      "['KONSUMNAEHE'] \n",
      "  73969\n",
      "\n",
      "['KKK', 'REGIOTYP'] \n",
      "  158064\n",
      "\n",
      "['CJT_GESAMTTYP', 'GFK_URLAUBERTYP', 'LP_STATUS_FEIN', 'LP_STATUS_GROB', 'RETOURTYP_BK_S', 'ONLINE_AFFINITAET'] \n",
      "  4854\n",
      "\n",
      "['ORTSGR_KLS9'] \n",
      "  97274\n",
      "\n"
     ]
    }
   ],
   "source": [
    "# Grouping columns with same number of missing values\n",
    "\n",
    "d_val_unique = set(d.values())\n",
    "\n",
    "for i in d_val_unique:\n",
    "    print(f\"{[k for k,v in d.items() if v == i]} \\n  {i}\") \n",
    "    print()\n"
   ]
  },
  {
   "cell_type": "markdown",
   "metadata": {},
   "source": [
    "#### Discussion 1.1.2: Assess Missing Data in Each Column\n",
    "\n",
    "**Overview**\n",
    "For the \"Udacity_AZDIAS_Subset\" dataset, an overview of the data shows that not all columns appear to contain 891,211 entries. The columns consist of 85 variables; 7 of these are classed as numeric, 1 classed as type \"interval\", 7 classed as \"mixed\", and the remaining 70 are categorical (49 of which are ordinal).\n",
    "\n",
    "**The numerical variables are:**\n",
    "* GEBURTSJAHR: Year of birth\n",
    "* ANZ_PERSONEN: No. adults in household\n",
    "* ANZ_TITEL: No. of professional title holders in household\n",
    "* ANZ_HAUSHALTE_AKTIV: No. of households in building\n",
    "* ANZ_HH_TITEL: No. of professional title holders in building\n",
    "* MIN_GEBAEUDEJAHR: First year building was mentioned in the database\n",
    "* KBA13_ANZAHL_PKW: No. cars in the PLZ8 region\n",
    "Here, two variables are dealing with dates (GEBURTSJAHR and MIN_GEBAEUDEJAHR0 and therefore could potentially also be regarded as categorical. The variables labeled with type \"interval\" or \"mixed\" are also seen to have been encoded categorically.\n",
    "\n",
    "**Missing data**\n",
    "The total amount of missing data present in the dataset is approx. 11%. From looking at a histogram of the data for the NaN values, the vast majority of variables (approximately 92%) have less than 200,000 NaN entries. Therefore, I have considered outliers as variables with more than 200,000 NaN entries. Since there is a large fraction of variables remaining after removing outliers (79/85), and due to the fraction of missing values in the designated outliers being high, it is unlikely that too much significant information will be lost when removing these variables.\n",
    "\n",
    "**The identified and removed outliers are:**\n",
    "* AGER_TYP: Best-ager typology\n",
    "* GEBURTSJAHR: Year of birth\n",
    "* TITEL_KZ: Academic title flag\n",
    "* ALTER_HH: Birthdate of head of household\n",
    "* KK_KUNDENTYP: Consumer pattern over past 12 months\n",
    "* KBA05_BAUMAX: Most common building type within the microcell\n",
    "There is no immediately clear relation between these outliers. It may be worth nothing that two outliers (GEBURTSJAHR and ALTER_HH) involve the collection of dates. The variable with the largest number of NaN values is TITEL_KZ. This may be due to only a small proportion of the population hold an academic title, and not all of these people may wish to declare such a title.\n",
    "\n",
    "**Variables with no missing or unknown values:**\n",
    "* SEMIO...(x 14) :: Personality typology\n",
    "* FINANZ...(x 7) : Financial typology\n",
    "* ANREDE_KZ: Gender\n",
    "* GREEN_AVANTGARDE: Membership in environmental sustainability as part of youth\n",
    "* ZABEOTYP: Energy consumption typology\n",
    "The variables fall into two main groups: personality and financial typology. It is likely that values for these variables may be mandatory during collection. There is one exception, the variable GREEN_AVANTGARDE does not have a categorical level corresponding to \"missing\" or \"unknown\", meaning these values could not be collected (any NaN values, if present, would therefore likely be due to data handling).\n",
    "\n",
    "**Remaining variables containing missing or unknown values:**\n",
    "The remaining variables that do contain missing or unknown values are shown above, grouped by the amount of NaN values. By grouping them in such a way, it is clear that if one variable contains missing/unknown values, it will cause other related variables to record a missing/unknown value as well. For example, this can be seen for the PLZ8 macro-cell features, where seven of these features all contain 116515 NaN values. The same can be seen for postcode-level features, with all three features in the same grouping (BALLRAUM, EWDICHTE, and INNENSTADT). It is possible in some cases that the variables have been grouped by chance (SOHO_KZ and ANZ_PERSONEN), but this seems unlikely in most of the cases."
   ]
  },
  {
   "cell_type": "markdown",
   "metadata": {},
   "source": [
    "#### Step 1.1.3: Assess Missing Data in Each Row\n",
    "\n",
    "Now, you'll perform a similar assessment for the rows of the dataset. How much data is missing in each row? As with the columns, you should see some groups of points that have a very different numbers of missing values. Divide the data into two subsets: one for data points that are above some threshold for missing values, and a second subset for points below that threshold.\n",
    "\n",
    "In order to know what to do with the outlier rows, we should see if the distribution of data values on columns that are not missing data (or are missing very little data) are similar or different between the two groups. Select at least five of these columns and compare the distribution of values.\n",
    "- You can use seaborn's [`countplot()`](https://seaborn.pydata.org/generated/seaborn.countplot.html) function to create a bar chart of code frequencies and matplotlib's [`subplot()`](https://matplotlib.org/api/_as_gen/matplotlib.pyplot.subplot.html) function to put bar charts for the two subplots side by side.\n",
    "- To reduce repeated code, you might want to write a function that can perform this comparison, taking as one of its arguments a column to be compared.\n",
    "\n",
    "Depending on what you observe in your comparison, this will have implications on how you approach your conclusions later in the analysis. If the distributions of non-missing features look similar between the data with many missing values and the data with few or no missing values, then we could argue that simply dropping those points from the analysis won't present a major issue. On the other hand, if the data with many missing values looks very different from the data with few or no missing values, then we should make a note on those data as special. We'll revisit these data later on. **Either way, you should continue your analysis for now using just the subset of the data with few or no missing values.**"
   ]
  },
  {
   "cell_type": "code",
   "execution_count": 38,
   "metadata": {},
   "outputs": [
    {
     "data": {
      "text/plain": [
       "count    891221.000000\n",
       "mean          5.649894\n",
       "std          13.234687\n",
       "min           0.000000\n",
       "25%           0.000000\n",
       "50%           0.000000\n",
       "75%           3.000000\n",
       "max          49.000000\n",
       "dtype: float64"
      ]
     },
     "execution_count": 38,
     "metadata": {},
     "output_type": "execute_result"
    }
   ],
   "source": [
    "# How much data is missing in each row of the dataset?\n",
    "\n",
    "azdias.isnull().sum(axis=1).describe()\n"
   ]
  },
  {
   "cell_type": "code",
   "execution_count": 39,
   "metadata": {},
   "outputs": [],
   "source": [
    "# Write code to divide the data into two subsets based on the number of missing\n",
    "# values in each row.\n",
    "\n",
    "def subset_on_rows(dataframe, quant):\n",
    "    '''\n",
    "    Splits dataframe into two subsets. Dataframe is split on the \n",
    "    desired quantile for missing NaNs.\n",
    "    \n",
    "    INPUT: dataframe, quantile of missing NaNs\n",
    "    OUTPUT: 2 x dataframe\n",
    "    '''\n",
    "    \n",
    "    cut_off = dataframe.isnull().sum(axis=1).quantile([quant]).tolist()\n",
    "    \n",
    "    above_c_o = dataframe[dataframe.isnull().sum(axis=1) > cut_off].copy()\n",
    "    below_c_o = dataframe[dataframe.isnull().sum(axis=1) <= cut_off].copy()\n",
    "    \n",
    "    return above_c_o, below_c_o\n"
   ]
  },
  {
   "cell_type": "code",
   "execution_count": 40,
   "metadata": {},
   "outputs": [
    {
     "name": "stdout",
     "output_type": "stream",
     "text": [
      "No. rows in subset with few NaNs: 684502\n",
      "No. rows in subset with more NaNs: 206719\n"
     ]
    }
   ],
   "source": [
    "azdias_more_nans, azdias_few_nans = subset_on_rows(azdias, 0.75)\n",
    "\n",
    "print(f\"No. rows in subset with few NaNs: {azdias_few_nans.shape[0]}\")\n",
    "print(f\"No. rows in subset with more NaNs: {azdias_more_nans.shape[0]}\")\n"
   ]
  },
  {
   "cell_type": "code",
   "execution_count": 41,
   "metadata": {},
   "outputs": [],
   "source": [
    "# Compare the distribution of values for at least five columns where there are\n",
    "# no or few missing values, between the two subsets.\n",
    "\n",
    "# Columns with no missing/unknown values\n",
    "def good_columns(df):\n",
    "    '''\n",
    "    Returns list of columns from a dataframe which\n",
    "    have no missing/unknown values.\n",
    "    \n",
    "    INPUT: Dataframe\n",
    "    OUTPUT: List\n",
    "    '''\n",
    "    \n",
    "    good_cols = []\n",
    "    \n",
    "    for i in range(df.shape[1]):\n",
    "        if df.iloc[:,i].isnull().sum() == 0:\n",
    "            good_cols.append(df.columns[i])\n",
    "                \n",
    "    return good_cols\n"
   ]
  },
  {
   "cell_type": "code",
   "execution_count": 42,
   "metadata": {},
   "outputs": [
    {
     "name": "stdout",
     "output_type": "stream",
     "text": [
      "['SEMIO_RAT', 'FINANZ_UNAUFFAELLIGER', 'SEMIO_LUST', 'SEMIO_MAT', 'FINANZ_ANLEGER', 'SEMIO_DOM', 'SEMIO_TRADV', 'GREEN_AVANTGARDE', 'SEMIO_KAEM', 'SEMIO_PFLICHT', 'FINANZ_MINIMALIST', 'FINANZTYP', 'SEMIO_VERT', 'SEMIO_ERL', 'ZABEOTYP', 'SEMIO_REL', 'SEMIO_SOZ', 'SEMIO_KRIT', 'ANREDE_KZ', 'SEMIO_FAM', 'FINANZ_VORSORGER', 'FINANZ_HAUSBAUER', 'SEMIO_KULT', 'FINANZ_SPARER']\n"
     ]
    }
   ],
   "source": [
    "# Creating subsets\n",
    "more_nans_cols = good_columns(azdias_more_nans)\n",
    "few_nans_cols = good_columns(azdias_few_nans)\n",
    "\n",
    "# Columns in both subsets with no missing/unknown values:\n",
    "good_columns_both = list(set(more_nans_cols).intersection(few_nans_cols))\n",
    "print(good_columns_both)\n"
   ]
  },
  {
   "cell_type": "code",
   "execution_count": 43,
   "metadata": {},
   "outputs": [],
   "source": [
    "def comparison_plot(columns):\n",
    "    '''\n",
    "    Takes in categorical variables present in both\n",
    "    dataframes and plots plots a bar of the levels\n",
    "    in the variable for both data frames.\n",
    "    \n",
    "    INPUT: List\n",
    "    OUTPUT: Figure\n",
    "    '''\n",
    "    \n",
    "    num_rows = len(columns)\n",
    "    \n",
    "    fig, ax = plt.subplots(figsize=(20, 25), ncols= 2, nrows= num_rows, squeeze=False)\n",
    "    \n",
    "    ax[0][0].set_title(\"Many Missing Values Subset\")\n",
    "    ax[0][1].set_title(\"Few Missing Values Subset\")\n",
    "    \n",
    "    for i in range(num_rows):\n",
    "        sns.countplot(x=columns[i], data= azdias_more_nans,ax=ax[i][0])\n",
    "        sns.countplot(x=columns[i], data= azdias_few_nans,ax=ax[i][1])\n"
   ]
  },
  {
   "cell_type": "code",
   "execution_count": 44,
   "metadata": {},
   "outputs": [
    {
     "data": {
      "image/png": "[encoded data removed]",
      "text/plain": [
       "<matplotlib.figure.Figure at 0x7fa4049d8908>"
      ]
     },
     "metadata": {
      "needs_background": "light"
     },
     "output_type": "display_data"
    }
   ],
   "source": [
    "comparison_plot([\"FINANZTYP\", \"FINANZ_ANLEGER\", \"SEMIO_PFLICHT\", \\\n",
    "                 \"ZABEOTYP\", \"GREEN_AVANTGARDE\", \"ANREDE_KZ\", \\\n",
    "                 \"FINANZ_VORSORGER\"])\n"
   ]
  },
  {
   "cell_type": "markdown",
   "metadata": {},
   "source": [
    "#### Discussion 1.1.3: Assess Missing Data in Each Row\n",
    "\n",
    "**Summay statistics**\n",
    "Summary statistics for the number of missing/unknown values across the rows were calculated. Therefore the mean and median number of NaN values was found to be 6 (rounding up) and 0 respectively. The difference in these values indicates there is likely some outlier rows with high amounts of NaN values.\n",
    "\n",
    "**Outier rows**\n",
    "I decided to use the third quartile as a guide for the cut-off for identifying outlier rows. This resulted in one subset containing rows with 3 NaN values or less, and the other subset containing rows with 4 or more NaN values.\n",
    "\n",
    "**Visual comparison**\n",
    "Columns that contained zero NaN values in both subsets were identified. By comparing one variable between two subsets, it is possible to see if both subsets present similar or distinct information about the population. In this case, seven different variables were compared. In the majority of cases there appears to be clear differences between the relative distributions of the subsets, i.e. clearly seen in the comparison of variables: FINANZTYP, FINANZ_ANLEGER, and SEMIO_PFLICHT."
   ]
  },
  {
   "cell_type": "markdown",
   "metadata": {},
   "source": [
    "### Step 1.2: Select and Re-Encode Features\n",
    "\n",
    "Checking for missing data isn't the only way in which you can prepare a dataset for analysis. Since the unsupervised learning techniques to be used will only work on data that is encoded numerically, you need to make a few encoding changes or additional assumptions to be able to make progress. In addition, while almost all of the values in the dataset are encoded using numbers, not all of them represent numeric values. Check the third column of the feature summary (`feat_info`) for a summary of types of measurement.\n",
    "- For numeric and interval data, these features can be kept without changes.\n",
    "- Most of the variables in the dataset are ordinal in nature. While ordinal values may technically be non-linear in spacing, make the simplifying assumption that the ordinal variables can be treated as being interval in nature (that is, kept without any changes).\n",
    "- Special handling may be necessary for the remaining two variable types: categorical, and 'mixed'.\n",
    "\n",
    "In the first two parts of this sub-step, you will perform an investigation of the categorical and mixed-type features and make a decision on each of them, whether you will keep, drop, or re-encode each. Then, in the last part, you will create a new data frame with only the selected and engineered columns.\n",
    "\n",
    "Data wrangling is often the trickiest part of the data analysis process, and there's a lot of it to be done here. But stick with it: once you're done with this step, you'll be ready to get to the machine learning parts of the project!"
   ]
  },
  {
   "cell_type": "code",
   "execution_count": 45,
   "metadata": {},
   "outputs": [
    {
     "data": {
      "text/plain": [
       "type\n",
       "categorical    21\n",
       "interval        1\n",
       "mixed           7\n",
       "numeric         7\n",
       "ordinal        49\n",
       "dtype: int64"
      ]
     },
     "execution_count": 45,
     "metadata": {},
     "output_type": "execute_result"
    }
   ],
   "source": [
    "# How many features are there of each data type?\n",
    "\n",
    "# As carried out previously\n",
    "feat_info.groupby(by=\"type\").size()\n"
   ]
  },
  {
   "cell_type": "markdown",
   "metadata": {},
   "source": [
    "#### Step 1.2.1: Re-Encode Categorical Features\n",
    "\n",
    "For categorical data, you would ordinarily need to encode the levels as dummy variables. Depending on the number of categories, perform one of the following:\n",
    "- For binary (two-level) categoricals that take numeric values, you can keep them without needing to do anything.\n",
    "- There is one binary variable that takes on non-numeric values. For this one, you need to re-encode the values as numbers or create a dummy variable.\n",
    "- For multi-level categoricals (three or more values), you can choose to encode the values using multiple dummy variables (e.g. via [OneHotEncoder](http://scikit-learn.org/stable/modules/generated/sklearn.preprocessing.OneHotEncoder.html)), or (to keep things straightforward) just drop them from the analysis. As always, document your choices in the Discussion section."
   ]
  },
  {
   "cell_type": "code",
   "execution_count": 46,
   "metadata": {},
   "outputs": [
    {
     "name": "stdout",
     "output_type": "stream",
     "text": [
      "AGER_TYP\n",
      "ANREDE_KZ\n",
      "CJT_GESAMTTYP\n",
      "FINANZTYP\n",
      "GFK_URLAUBERTYP\n",
      "GREEN_AVANTGARDE\n",
      "LP_FAMILIE_FEIN\n",
      "LP_FAMILIE_GROB\n",
      "LP_STATUS_FEIN\n",
      "LP_STATUS_GROB\n",
      "NATIONALITAET_KZ\n",
      "SHOPPER_TYP\n",
      "SOHO_KZ\n",
      "TITEL_KZ\n",
      "VERS_TYP\n",
      "ZABEOTYP\n",
      "KK_KUNDENTYP\n",
      "GEBAEUDETYP\n",
      "OST_WEST_KZ\n",
      "CAMEO_DEUG_2015\n",
      "CAMEO_DEU_2015\n"
     ]
    }
   ],
   "source": [
    "for i,j in enumerate(categorical_names):\n",
    "    print(j)\n"
   ]
  },
  {
   "cell_type": "code",
   "execution_count": 47,
   "metadata": {},
   "outputs": [
    {
     "data": {
      "text/plain": [
       "['ANREDE_KZ', 'GREEN_AVANTGARDE', 'SOHO_KZ', 'VERS_TYP', 'OST_WEST_KZ']"
      ]
     },
     "execution_count": 47,
     "metadata": {},
     "output_type": "execute_result"
    }
   ],
   "source": [
    "# Assess categorical variables: which are binary, which are multi-level, and\n",
    "# which one needs to be re-encoded?\n",
    "\n",
    "\n",
    "# Finding binary categorical variables\n",
    "binary_cols = []\n",
    "\n",
    "for i, j in enumerate(categorical_names):\n",
    "    \n",
    "    if azdias_few_nans.columns.isin([categorical_names[i]]).sum() > 0:\n",
    "        \n",
    "        if len(set(azdias_few_nans[categorical_names[i]].values)) == 2:\n",
    "            binary_cols.append(categorical_names[i])\n",
    "        else:\n",
    "            continue\n",
    "\n",
    "binary_cols\n"
   ]
  },
  {
   "cell_type": "code",
   "execution_count": 48,
   "metadata": {},
   "outputs": [
    {
     "data": {
      "text/html": [
       "<div>\n",
       "<style scoped>\n",
       "    .dataframe tbody tr th:only-of-type {\n",
       "        vertical-align: middle;\n",
       "    }\n",
       "\n",
       "    .dataframe tbody tr th {\n",
       "        vertical-align: top;\n",
       "    }\n",
       "\n",
       "    .dataframe thead th {\n",
       "        text-align: right;\n",
       "    }\n",
       "</style>\n",
       "<table border=\"1\" class=\"dataframe\">\n",
       "  <thead>\n",
       "    <tr style=\"text-align: right;\">\n",
       "      <th></th>\n",
       "      <th>ANREDE_KZ</th>\n",
       "      <th>GREEN_AVANTGARDE</th>\n",
       "      <th>SOHO_KZ</th>\n",
       "      <th>VERS_TYP</th>\n",
       "      <th>OST_WEST_KZ</th>\n",
       "    </tr>\n",
       "  </thead>\n",
       "  <tbody>\n",
       "    <tr>\n",
       "      <th>1</th>\n",
       "      <td>2</td>\n",
       "      <td>0</td>\n",
       "      <td>1.0</td>\n",
       "      <td>2.0</td>\n",
       "      <td>W</td>\n",
       "    </tr>\n",
       "    <tr>\n",
       "      <th>2</th>\n",
       "      <td>2</td>\n",
       "      <td>1</td>\n",
       "      <td>0.0</td>\n",
       "      <td>1.0</td>\n",
       "      <td>W</td>\n",
       "    </tr>\n",
       "    <tr>\n",
       "      <th>4</th>\n",
       "      <td>1</td>\n",
       "      <td>0</td>\n",
       "      <td>0.0</td>\n",
       "      <td>2.0</td>\n",
       "      <td>W</td>\n",
       "    </tr>\n",
       "    <tr>\n",
       "      <th>5</th>\n",
       "      <td>2</td>\n",
       "      <td>0</td>\n",
       "      <td>0.0</td>\n",
       "      <td>2.0</td>\n",
       "      <td>W</td>\n",
       "    </tr>\n",
       "  </tbody>\n",
       "</table>\n",
       "</div>"
      ],
      "text/plain": [
       "   ANREDE_KZ  GREEN_AVANTGARDE  SOHO_KZ  VERS_TYP OST_WEST_KZ\n",
       "1          2                 0      1.0       2.0           W\n",
       "2          2                 1      0.0       1.0           W\n",
       "4          1                 0      0.0       2.0           W\n",
       "5          2                 0      0.0       2.0           W"
      ]
     },
     "execution_count": 48,
     "metadata": {},
     "output_type": "execute_result"
    }
   ],
   "source": [
    "# Looking for non-binary variable\n",
    "azdias_few_nans.loc[0:5, binary_cols]\n"
   ]
  },
  {
   "cell_type": "code",
   "execution_count": 49,
   "metadata": {},
   "outputs": [
    {
     "data": {
      "text/plain": [
       "['CJT_GESAMTTYP',\n",
       " 'FINANZTYP',\n",
       " 'GFK_URLAUBERTYP',\n",
       " 'LP_FAMILIE_FEIN',\n",
       " 'LP_FAMILIE_GROB',\n",
       " 'LP_STATUS_FEIN',\n",
       " 'LP_STATUS_GROB',\n",
       " 'NATIONALITAET_KZ',\n",
       " 'SHOPPER_TYP',\n",
       " 'ZABEOTYP',\n",
       " 'GEBAEUDETYP',\n",
       " 'CAMEO_DEUG_2015',\n",
       " 'CAMEO_DEU_2015']"
      ]
     },
     "execution_count": 49,
     "metadata": {},
     "output_type": "execute_result"
    }
   ],
   "source": [
    "# Finding multi-level categorical variables\n",
    "\n",
    "multi_lvl_cols = []\n",
    "\n",
    "for i,j in enumerate(categorical_names):\n",
    "    \n",
    "    if azdias_few_nans.columns.isin([categorical_names[i]]).sum() > 0:\n",
    "        \n",
    "        if len(set(azdias_few_nans[categorical_names[i]].values)) > 2:\n",
    "            multi_lvl_cols.append(categorical_names[i])\n",
    "        else:\n",
    "            continue\n",
    "\n",
    "multi_lvl_cols\n"
   ]
  },
  {
   "cell_type": "code",
   "execution_count": 50,
   "metadata": {},
   "outputs": [
    {
     "data": {
      "text/html": [
       "<div>\n",
       "<style scoped>\n",
       "    .dataframe tbody tr th:only-of-type {\n",
       "        vertical-align: middle;\n",
       "    }\n",
       "\n",
       "    .dataframe tbody tr th {\n",
       "        vertical-align: top;\n",
       "    }\n",
       "\n",
       "    .dataframe thead th {\n",
       "        text-align: right;\n",
       "    }\n",
       "</style>\n",
       "<table border=\"1\" class=\"dataframe\">\n",
       "  <thead>\n",
       "    <tr style=\"text-align: right;\">\n",
       "      <th></th>\n",
       "      <th>CJT_GESAMTTYP</th>\n",
       "      <th>FINANZTYP</th>\n",
       "      <th>GFK_URLAUBERTYP</th>\n",
       "      <th>LP_FAMILIE_FEIN</th>\n",
       "      <th>LP_FAMILIE_GROB</th>\n",
       "      <th>LP_STATUS_FEIN</th>\n",
       "      <th>LP_STATUS_GROB</th>\n",
       "      <th>NATIONALITAET_KZ</th>\n",
       "      <th>SHOPPER_TYP</th>\n",
       "      <th>ZABEOTYP</th>\n",
       "      <th>GEBAEUDETYP</th>\n",
       "      <th>CAMEO_DEUG_2015</th>\n",
       "      <th>CAMEO_DEU_2015</th>\n",
       "    </tr>\n",
       "  </thead>\n",
       "  <tbody>\n",
       "    <tr>\n",
       "      <th>1</th>\n",
       "      <td>5.0</td>\n",
       "      <td>1</td>\n",
       "      <td>10.0</td>\n",
       "      <td>5.0</td>\n",
       "      <td>3.0</td>\n",
       "      <td>2.0</td>\n",
       "      <td>1.0</td>\n",
       "      <td>1.0</td>\n",
       "      <td>3.0</td>\n",
       "      <td>5</td>\n",
       "      <td>8.0</td>\n",
       "      <td>8</td>\n",
       "      <td>8A</td>\n",
       "    </tr>\n",
       "    <tr>\n",
       "      <th>2</th>\n",
       "      <td>3.0</td>\n",
       "      <td>1</td>\n",
       "      <td>10.0</td>\n",
       "      <td>1.0</td>\n",
       "      <td>1.0</td>\n",
       "      <td>3.0</td>\n",
       "      <td>2.0</td>\n",
       "      <td>1.0</td>\n",
       "      <td>2.0</td>\n",
       "      <td>5</td>\n",
       "      <td>1.0</td>\n",
       "      <td>4</td>\n",
       "      <td>4C</td>\n",
       "    </tr>\n",
       "    <tr>\n",
       "      <th>4</th>\n",
       "      <td>5.0</td>\n",
       "      <td>5</td>\n",
       "      <td>5.0</td>\n",
       "      <td>10.0</td>\n",
       "      <td>5.0</td>\n",
       "      <td>3.0</td>\n",
       "      <td>2.0</td>\n",
       "      <td>1.0</td>\n",
       "      <td>2.0</td>\n",
       "      <td>4</td>\n",
       "      <td>1.0</td>\n",
       "      <td>6</td>\n",
       "      <td>6B</td>\n",
       "    </tr>\n",
       "    <tr>\n",
       "      <th>5</th>\n",
       "      <td>2.0</td>\n",
       "      <td>2</td>\n",
       "      <td>1.0</td>\n",
       "      <td>1.0</td>\n",
       "      <td>1.0</td>\n",
       "      <td>4.0</td>\n",
       "      <td>2.0</td>\n",
       "      <td>1.0</td>\n",
       "      <td>0.0</td>\n",
       "      <td>4</td>\n",
       "      <td>1.0</td>\n",
       "      <td>8</td>\n",
       "      <td>8C</td>\n",
       "    </tr>\n",
       "  </tbody>\n",
       "</table>\n",
       "</div>"
      ],
      "text/plain": [
       "   CJT_GESAMTTYP  FINANZTYP  GFK_URLAUBERTYP  LP_FAMILIE_FEIN  \\\n",
       "1            5.0          1             10.0              5.0   \n",
       "2            3.0          1             10.0              1.0   \n",
       "4            5.0          5              5.0             10.0   \n",
       "5            2.0          2              1.0              1.0   \n",
       "\n",
       "   LP_FAMILIE_GROB  LP_STATUS_FEIN  LP_STATUS_GROB  NATIONALITAET_KZ  \\\n",
       "1              3.0             2.0             1.0               1.0   \n",
       "2              1.0             3.0             2.0               1.0   \n",
       "4              5.0             3.0             2.0               1.0   \n",
       "5              1.0             4.0             2.0               1.0   \n",
       "\n",
       "   SHOPPER_TYP  ZABEOTYP  GEBAEUDETYP CAMEO_DEUG_2015 CAMEO_DEU_2015  \n",
       "1          3.0         5          8.0               8             8A  \n",
       "2          2.0         5          1.0               4             4C  \n",
       "4          2.0         4          1.0               6             6B  \n",
       "5          0.0         4          1.0               8             8C  "
      ]
     },
     "execution_count": 50,
     "metadata": {},
     "output_type": "execute_result"
    }
   ],
   "source": [
    "azdias_few_nans.loc[0:5, multi_lvl_cols]\n"
   ]
  },
  {
   "cell_type": "code",
   "execution_count": 51,
   "metadata": {},
   "outputs": [
    {
     "data": {
      "text/html": [
       "<div>\n",
       "<style scoped>\n",
       "    .dataframe tbody tr th:only-of-type {\n",
       "        vertical-align: middle;\n",
       "    }\n",
       "\n",
       "    .dataframe tbody tr th {\n",
       "        vertical-align: top;\n",
       "    }\n",
       "\n",
       "    .dataframe thead th {\n",
       "        text-align: right;\n",
       "    }\n",
       "</style>\n",
       "<table border=\"1\" class=\"dataframe\">\n",
       "  <thead>\n",
       "    <tr style=\"text-align: right;\">\n",
       "      <th></th>\n",
       "      <th>OST_WEST_KZ</th>\n",
       "      <th>RE_OST_WEST_KZ</th>\n",
       "    </tr>\n",
       "  </thead>\n",
       "  <tbody>\n",
       "    <tr>\n",
       "      <th>123</th>\n",
       "      <td>W</td>\n",
       "      <td>0</td>\n",
       "    </tr>\n",
       "    <tr>\n",
       "      <th>124</th>\n",
       "      <td>W</td>\n",
       "      <td>0</td>\n",
       "    </tr>\n",
       "  </tbody>\n",
       "</table>\n",
       "</div>"
      ],
      "text/plain": [
       "    OST_WEST_KZ  RE_OST_WEST_KZ\n",
       "123           W               0\n",
       "124           W               0"
      ]
     },
     "execution_count": 51,
     "metadata": {},
     "output_type": "execute_result"
    }
   ],
   "source": [
    "# Re-encode categorical variable(s) to be kept in the analysis.\n",
    "\n",
    "# Re-encoding OST_WEST_KZ variable\n",
    "azdias_few_nans['RE_OST_WEST_KZ'] = azdias_few_nans['OST_WEST_KZ']\n",
    "mymap = {'W': 0, 'O': 1}\n",
    "azdias_few_nans = azdias_few_nans.replace({'RE_OST_WEST_KZ': mymap})\n",
    "\n",
    "# Checking re-encoding worked\n",
    "azdias_few_nans.loc[123:124,['OST_WEST_KZ', 'RE_OST_WEST_KZ']]\n"
   ]
  },
  {
   "cell_type": "code",
   "execution_count": 52,
   "metadata": {},
   "outputs": [
    {
     "data": {
      "text/plain": [
       "(684502, 79)"
      ]
     },
     "execution_count": 52,
     "metadata": {},
     "output_type": "execute_result"
    }
   ],
   "source": [
    "# Dropping original OST_WEST_KZ column\n",
    "azdias_few_nans.drop(['OST_WEST_KZ'], axis=1, inplace=True)\n",
    "azdias_few_nans.shape\n"
   ]
  },
  {
   "cell_type": "code",
   "execution_count": 53,
   "metadata": {},
   "outputs": [
    {
     "data": {
      "text/plain": [
       "CJT_GESAMTTYP          0\n",
       "FINANZTYP              0\n",
       "GFK_URLAUBERTYP        0\n",
       "LP_FAMILIE_FEIN        0\n",
       "LP_FAMILIE_GROB        0\n",
       "LP_STATUS_FEIN         0\n",
       "LP_STATUS_GROB         0\n",
       "NATIONALITAET_KZ       0\n",
       "SHOPPER_TYP            0\n",
       "ZABEOTYP               0\n",
       "GEBAEUDETYP            0\n",
       "CAMEO_DEUG_2015     2639\n",
       "CAMEO_DEU_2015      2639\n",
       "dtype: int64"
      ]
     },
     "execution_count": 53,
     "metadata": {},
     "output_type": "execute_result"
    }
   ],
   "source": [
    "# One-hot-encoding multi-level categorical variables\n",
    "\n",
    "# Converting possible numeric levels to strings for encoding\n",
    "multi_cats_df = pd.DataFrame(azdias_few_nans[multi_lvl_cols], \\\n",
    "                             columns = multi_lvl_cols).astype(str)\n",
    "\n",
    "# Finding NaNs that were converted to strings\n",
    "(multi_cats_df == 'nan').sum()\n"
   ]
  },
  {
   "cell_type": "code",
   "execution_count": 54,
   "metadata": {},
   "outputs": [
    {
     "data": {
      "text/plain": [
       "(684502, 128)"
      ]
     },
     "execution_count": 54,
     "metadata": {},
     "output_type": "execute_result"
    }
   ],
   "source": [
    "# Replacing str NaNs with true null values\n",
    "multi_cats_df['CAMEO_DEUG_2015'] = multi_cats_df['CAMEO_DEUG_2015'].replace('nan', np.nan)\n",
    "multi_cats_df['CAMEO_DEU_2015'] = multi_cats_df['CAMEO_DEU_2015'].replace('nan', np.nan)\n",
    "\n",
    "# One-hot encoding\n",
    "multi_cats_encoded = pd.get_dummies(multi_cats_df)\n",
    "multi_cats_encoded.shape\n"
   ]
  },
  {
   "cell_type": "code",
   "execution_count": 55,
   "metadata": {},
   "outputs": [
    {
     "data": {
      "text/plain": [
       "(684502, 66)"
      ]
     },
     "execution_count": 55,
     "metadata": {},
     "output_type": "execute_result"
    }
   ],
   "source": [
    "# Dropping original multi-level categorical variables from dataframe\n",
    "azdias_few_nans.drop(multi_lvl_cols, axis=1, inplace=True)\n",
    "azdias_few_nans.shape\n"
   ]
  },
  {
   "cell_type": "code",
   "execution_count": 56,
   "metadata": {},
   "outputs": [
    {
     "data": {
      "text/plain": [
       "(684502, 194)"
      ]
     },
     "execution_count": 56,
     "metadata": {},
     "output_type": "execute_result"
    }
   ],
   "source": [
    "# Adding encoded multi-level variables to dataframe\n",
    "azdias_few_nans_enc1 = pd.concat([azdias_few_nans,multi_cats_encoded], axis=1)\n",
    "azdias_few_nans_enc1.shape\n"
   ]
  },
  {
   "cell_type": "code",
   "execution_count": 57,
   "metadata": {},
   "outputs": [
    {
     "data": {
      "text/html": [
       "<div>\n",
       "<style scoped>\n",
       "    .dataframe tbody tr th:only-of-type {\n",
       "        vertical-align: middle;\n",
       "    }\n",
       "\n",
       "    .dataframe tbody tr th {\n",
       "        vertical-align: top;\n",
       "    }\n",
       "\n",
       "    .dataframe thead th {\n",
       "        text-align: right;\n",
       "    }\n",
       "</style>\n",
       "<table border=\"1\" class=\"dataframe\">\n",
       "  <thead>\n",
       "    <tr style=\"text-align: right;\">\n",
       "      <th></th>\n",
       "      <th>ALTERSKATEGORIE_GROB</th>\n",
       "      <th>ANREDE_KZ</th>\n",
       "      <th>FINANZ_MINIMALIST</th>\n",
       "      <th>FINANZ_SPARER</th>\n",
       "      <th>FINANZ_VORSORGER</th>\n",
       "      <th>FINANZ_ANLEGER</th>\n",
       "      <th>FINANZ_UNAUFFAELLIGER</th>\n",
       "      <th>FINANZ_HAUSBAUER</th>\n",
       "      <th>GREEN_AVANTGARDE</th>\n",
       "      <th>HEALTH_TYP</th>\n",
       "      <th>...</th>\n",
       "      <th>CAMEO_DEU_2015_7E</th>\n",
       "      <th>CAMEO_DEU_2015_8A</th>\n",
       "      <th>CAMEO_DEU_2015_8B</th>\n",
       "      <th>CAMEO_DEU_2015_8C</th>\n",
       "      <th>CAMEO_DEU_2015_8D</th>\n",
       "      <th>CAMEO_DEU_2015_9A</th>\n",
       "      <th>CAMEO_DEU_2015_9B</th>\n",
       "      <th>CAMEO_DEU_2015_9C</th>\n",
       "      <th>CAMEO_DEU_2015_9D</th>\n",
       "      <th>CAMEO_DEU_2015_9E</th>\n",
       "    </tr>\n",
       "  </thead>\n",
       "  <tbody>\n",
       "    <tr>\n",
       "      <th>1</th>\n",
       "      <td>1.0</td>\n",
       "      <td>2</td>\n",
       "      <td>1</td>\n",
       "      <td>5</td>\n",
       "      <td>2</td>\n",
       "      <td>5</td>\n",
       "      <td>4</td>\n",
       "      <td>5</td>\n",
       "      <td>0</td>\n",
       "      <td>3.0</td>\n",
       "      <td>...</td>\n",
       "      <td>0</td>\n",
       "      <td>1</td>\n",
       "      <td>0</td>\n",
       "      <td>0</td>\n",
       "      <td>0</td>\n",
       "      <td>0</td>\n",
       "      <td>0</td>\n",
       "      <td>0</td>\n",
       "      <td>0</td>\n",
       "      <td>0</td>\n",
       "    </tr>\n",
       "    <tr>\n",
       "      <th>2</th>\n",
       "      <td>3.0</td>\n",
       "      <td>2</td>\n",
       "      <td>1</td>\n",
       "      <td>4</td>\n",
       "      <td>1</td>\n",
       "      <td>2</td>\n",
       "      <td>3</td>\n",
       "      <td>5</td>\n",
       "      <td>1</td>\n",
       "      <td>3.0</td>\n",
       "      <td>...</td>\n",
       "      <td>0</td>\n",
       "      <td>0</td>\n",
       "      <td>0</td>\n",
       "      <td>0</td>\n",
       "      <td>0</td>\n",
       "      <td>0</td>\n",
       "      <td>0</td>\n",
       "      <td>0</td>\n",
       "      <td>0</td>\n",
       "      <td>0</td>\n",
       "    </tr>\n",
       "    <tr>\n",
       "      <th>4</th>\n",
       "      <td>3.0</td>\n",
       "      <td>1</td>\n",
       "      <td>4</td>\n",
       "      <td>3</td>\n",
       "      <td>4</td>\n",
       "      <td>1</td>\n",
       "      <td>3</td>\n",
       "      <td>2</td>\n",
       "      <td>0</td>\n",
       "      <td>3.0</td>\n",
       "      <td>...</td>\n",
       "      <td>0</td>\n",
       "      <td>0</td>\n",
       "      <td>0</td>\n",
       "      <td>0</td>\n",
       "      <td>0</td>\n",
       "      <td>0</td>\n",
       "      <td>0</td>\n",
       "      <td>0</td>\n",
       "      <td>0</td>\n",
       "      <td>0</td>\n",
       "    </tr>\n",
       "    <tr>\n",
       "      <th>5</th>\n",
       "      <td>1.0</td>\n",
       "      <td>2</td>\n",
       "      <td>3</td>\n",
       "      <td>1</td>\n",
       "      <td>5</td>\n",
       "      <td>2</td>\n",
       "      <td>2</td>\n",
       "      <td>5</td>\n",
       "      <td>0</td>\n",
       "      <td>3.0</td>\n",
       "      <td>...</td>\n",
       "      <td>0</td>\n",
       "      <td>0</td>\n",
       "      <td>0</td>\n",
       "      <td>1</td>\n",
       "      <td>0</td>\n",
       "      <td>0</td>\n",
       "      <td>0</td>\n",
       "      <td>0</td>\n",
       "      <td>0</td>\n",
       "      <td>0</td>\n",
       "    </tr>\n",
       "    <tr>\n",
       "      <th>6</th>\n",
       "      <td>2.0</td>\n",
       "      <td>2</td>\n",
       "      <td>1</td>\n",
       "      <td>5</td>\n",
       "      <td>1</td>\n",
       "      <td>5</td>\n",
       "      <td>4</td>\n",
       "      <td>3</td>\n",
       "      <td>0</td>\n",
       "      <td>2.0</td>\n",
       "      <td>...</td>\n",
       "      <td>0</td>\n",
       "      <td>0</td>\n",
       "      <td>0</td>\n",
       "      <td>0</td>\n",
       "      <td>0</td>\n",
       "      <td>0</td>\n",
       "      <td>0</td>\n",
       "      <td>0</td>\n",
       "      <td>0</td>\n",
       "      <td>0</td>\n",
       "    </tr>\n",
       "  </tbody>\n",
       "</table>\n",
       "<p>5 rows × 194 columns</p>\n",
       "</div>"
      ],
      "text/plain": [
       "   ALTERSKATEGORIE_GROB  ANREDE_KZ  FINANZ_MINIMALIST  FINANZ_SPARER  \\\n",
       "1                   1.0          2                  1              5   \n",
       "2                   3.0          2                  1              4   \n",
       "4                   3.0          1                  4              3   \n",
       "5                   1.0          2                  3              1   \n",
       "6                   2.0          2                  1              5   \n",
       "\n",
       "   FINANZ_VORSORGER  FINANZ_ANLEGER  FINANZ_UNAUFFAELLIGER  FINANZ_HAUSBAUER  \\\n",
       "1                 2               5                      4                 5   \n",
       "2                 1               2                      3                 5   \n",
       "4                 4               1                      3                 2   \n",
       "5                 5               2                      2                 5   \n",
       "6                 1               5                      4                 3   \n",
       "\n",
       "   GREEN_AVANTGARDE  HEALTH_TYP        ...          CAMEO_DEU_2015_7E  \\\n",
       "1                 0         3.0        ...                          0   \n",
       "2                 1         3.0        ...                          0   \n",
       "4                 0         3.0        ...                          0   \n",
       "5                 0         3.0        ...                          0   \n",
       "6                 0         2.0        ...                          0   \n",
       "\n",
       "   CAMEO_DEU_2015_8A  CAMEO_DEU_2015_8B  CAMEO_DEU_2015_8C  CAMEO_DEU_2015_8D  \\\n",
       "1                  1                  0                  0                  0   \n",
       "2                  0                  0                  0                  0   \n",
       "4                  0                  0                  0                  0   \n",
       "5                  0                  0                  1                  0   \n",
       "6                  0                  0                  0                  0   \n",
       "\n",
       "   CAMEO_DEU_2015_9A  CAMEO_DEU_2015_9B  CAMEO_DEU_2015_9C  CAMEO_DEU_2015_9D  \\\n",
       "1                  0                  0                  0                  0   \n",
       "2                  0                  0                  0                  0   \n",
       "4                  0                  0                  0                  0   \n",
       "5                  0                  0                  0                  0   \n",
       "6                  0                  0                  0                  0   \n",
       "\n",
       "   CAMEO_DEU_2015_9E  \n",
       "1                  0  \n",
       "2                  0  \n",
       "4                  0  \n",
       "5                  0  \n",
       "6                  0  \n",
       "\n",
       "[5 rows x 194 columns]"
      ]
     },
     "execution_count": 57,
     "metadata": {},
     "output_type": "execute_result"
    }
   ],
   "source": [
    "azdias_few_nans_enc1.head()\n"
   ]
  },
  {
   "cell_type": "markdown",
   "metadata": {},
   "source": [
    "#### Discussion 1.2.1: Re-Encode Categorical Features\n",
    "\n",
    "Since each variable may hold valuable information with regard to making inferences on the population as a whole, I decided to keep all the variables classed as categorical:\n",
    "\n",
    "* The non-numeric, binary, categorical variable was found to be OST_WEST_KZ. The non-numeric values have been replaced with binary numeric values (0 and 1).\n",
    "\n",
    "* The multi-level categorical variables have all been one-hot-encoded and added to the dataframe.\n",
    "\n",
    "* All the original non-encoded variables have been dropped from the dataframe so as not to interfere with later modeling stages.\n",
    "\n",
    "* After encoding, the current number of variables (columns) now stands at 194."
   ]
  },
  {
   "cell_type": "markdown",
   "metadata": {},
   "source": [
    "#### Step 1.2.2: Engineer Mixed-Type Features\n",
    "\n",
    "There are a handful of features that are marked as \"mixed\" in the feature summary that require special treatment in order to be included in the analysis. There are two in particular that deserve attention; the handling of the rest are up to your own choices:\n",
    "- \"PRAEGENDE_JUGENDJAHRE\" combines information on three dimensions: generation by decade, movement (mainstream vs. avantgarde), and nation (east vs. west). While there aren't enough levels to disentangle east from west, you should create two new variables to capture the other two dimensions: an interval-type variable for decade, and a binary variable for movement.\n",
    "- \"CAMEO_INTL_2015\" combines information on two axes: wealth and life stage. Break up the two-digit codes by their 'tens'-place and 'ones'-place digits into two new ordinal variables (which, for the purposes of this project, is equivalent to just treating them as their raw numeric values).\n",
    "- If you decide to keep or engineer new features around the other mixed-type features, make sure you note your steps in the Discussion section.\n",
    "\n",
    "Be sure to check `Data_Dictionary.md` for the details needed to finish these tasks."
   ]
  },
  {
   "cell_type": "code",
   "execution_count": 58,
   "metadata": {},
   "outputs": [
    {
     "data": {
      "text/plain": [
       "['LP_LEBENSPHASE_FEIN',\n",
       " 'LP_LEBENSPHASE_GROB',\n",
       " 'PRAEGENDE_JUGENDJAHRE',\n",
       " 'WOHNLAGE',\n",
       " 'CAMEO_INTL_2015',\n",
       " 'KBA05_BAUMAX',\n",
       " 'PLZ8_BAUMAX']"
      ]
     },
     "execution_count": 58,
     "metadata": {},
     "output_type": "execute_result"
    }
   ],
   "source": [
    "mixed_names\n"
   ]
  },
  {
   "cell_type": "code",
   "execution_count": 59,
   "metadata": {},
   "outputs": [],
   "source": [
    "# Investigate \"PRAEGENDE_JUGENDJAHRE\" and engineer two new variables.\n",
    "\n",
    "# Creating new ordinal variable for decade\n",
    "p_j_dict_dec = {1: 1.0, 2: 1.0, 3: 2.0, 4: 2.0, 5: 3.0,\\\n",
    "                6: 3.0, 7: 3.0, 8: 4.0, 9: 4.0, 10: 5.0,\\\n",
    "                11: 5.0, 12: 5.0, 13: 5.0, 14: 6.0, 15: 6.0}\n",
    "\n",
    "azdias_few_nans_enc1[\"P_J_Decade\"] = azdias_few_nans_enc1[\"PRAEGENDE_JUGENDJAHRE\"]\n",
    "azdias_few_nans_enc1[\"P_J_Decade\"] = azdias_few_nans_enc1[\"P_J_Decade\"].map(p_j_dict_dec)\n"
   ]
  },
  {
   "cell_type": "code",
   "execution_count": 60,
   "metadata": {},
   "outputs": [],
   "source": [
    "# Creating new ordinal variable for movement\n",
    "p_j_dict_move = {1: 1.0, 2: 0.0, 3: 1.0, 4: 0.0, 5: 1.0, 6: 0.0,\\\n",
    "                 7: 0.0, 8: 1.0, 9: 0.0, 10: 1.0, 11: 0.0, 12: 1.0,\\\n",
    "                 13: 0.0, 14: 1.0, 15: 0.0}\n",
    "\n",
    "azdias_few_nans_enc1[\"P_J_Movement\"] = azdias_few_nans_enc1[\"PRAEGENDE_JUGENDJAHRE\"]\n",
    "azdias_few_nans_enc1[\"P_J_Movement\"] = azdias_few_nans_enc1[\"P_J_Movement\"].map(p_j_dict_move)\n"
   ]
  },
  {
   "cell_type": "code",
   "execution_count": 61,
   "metadata": {},
   "outputs": [
    {
     "data": {
      "text/plain": [
       "(684502, 195)"
      ]
     },
     "execution_count": 61,
     "metadata": {},
     "output_type": "execute_result"
    }
   ],
   "source": [
    "# Dropping original PRAEGENDE_JUGENDJAHRE column from dataframe\n",
    "azdias_few_nans_enc1.drop([\"PRAEGENDE_JUGENDJAHRE\"], axis=1, inplace=True) \n",
    "azdias_few_nans_enc1.shape"
   ]
  },
  {
   "cell_type": "code",
   "execution_count": 62,
   "metadata": {},
   "outputs": [],
   "source": [
    "# Investigate \"CAMEO_INTL_2015\" and engineer two new variables.\n",
    "\n",
    "# Creating ordinal wealth variable\n",
    "c_i_15_dict_wealth = {'11': 1.0, '12': 1.0, '13': 1.0, '14': 1.0, '15': 1.0,\\\n",
    "                      '21': 2.0, '22': 2.0, '23': 2.0, '24': 2.0, '25': 2.0,\\\n",
    "                      '31': 3.0, '32': 3.0, '33': 3.0, '34': 3.0, '35': 3.0,\\\n",
    "                      '41': 4.0, '42': 4.0, '43': 4.0, '44': 4.0, '45': 4.0,\\\n",
    "                      '51': 5.0, '52': 5.0, '53': 5.0, '54': 5.0, '55': 1.0}\n",
    "\n",
    "azdias_few_nans_enc1[\"C_I_15_Wealth\"] = azdias_few_nans_enc1[\"CAMEO_INTL_2015\"]\n",
    "azdias_few_nans_enc1[\"C_I_15_Wealth\"] = azdias_few_nans_enc1[\"C_I_15_Wealth\"]\\\n",
    "                                        .map(c_i_15_dict_wealth)\n"
   ]
  },
  {
   "cell_type": "code",
   "execution_count": 63,
   "metadata": {},
   "outputs": [],
   "source": [
    "# Creating life stage variable\n",
    "\n",
    "c_i_15_dict_ls = {'11': 1.0, '12': 2.0, '13': 3.0, '14': 4.0, '15': 5.0,\\\n",
    "                  '21': 1.0, '22': 2.0, '23': 3.0, '24': 4.0, '25': 5.0,\\\n",
    "                  '31': 1.0, '32': 2.0, '33': 3.0, '34': 4.0, '35': 5.0,\\\n",
    "                  '41': 1.0, '42': 2.0, '43': 3.0, '44': 4.0, '45': 5.0,\\\n",
    "                  '51': 1.0, '52': 2.0, '53': 3.0, '54': 4.0, '55': 5.0}\n",
    "\n",
    "azdias_few_nans_enc1[\"C_I_15_LS\"] = azdias_few_nans_enc1[\"CAMEO_INTL_2015\"]\n",
    "azdias_few_nans_enc1[\"C_I_15_LS\"] = azdias_few_nans_enc1[\"C_I_15_LS\"].map(c_i_15_dict_ls)\n"
   ]
  },
  {
   "cell_type": "code",
   "execution_count": 64,
   "metadata": {},
   "outputs": [
    {
     "data": {
      "text/plain": [
       "(684502, 196)"
      ]
     },
     "execution_count": 64,
     "metadata": {},
     "output_type": "execute_result"
    }
   ],
   "source": [
    "# Dropping original CAMEO_INTL_2015 column from dataframe\n",
    "azdias_few_nans_enc1.drop([\"CAMEO_INTL_2015\"], axis=1, inplace=True) \n",
    "azdias_few_nans_enc1.shape\n"
   ]
  },
  {
   "cell_type": "code",
   "execution_count": 65,
   "metadata": {},
   "outputs": [],
   "source": [
    "# Engineering new variables for the variable WOHNLAGE\n",
    "\n",
    "# Creating ordinal variable for neighborhood values\n",
    "wohnlage_nbh_dict = {1: 1.0, 2: 2.0, 3: 3.0, 4: 4.0,\\\n",
    "                     5: 5.0, 6: 6.0, 7: np.nan, 8: np.nan}\n",
    "\n",
    "azdias_few_nans_enc1[\"WOHNLAGE_NBH\"] = azdias_few_nans_enc1[\"WOHNLAGE\"]\n",
    "azdias_few_nans_enc1[\"WOHNLAGE_NBH\"] = azdias_few_nans_enc1[\"WOHNLAGE_NBH\"]\\\n",
    "                                       .map(wohnlage_nbh_dict)\n"
   ]
  },
  {
   "cell_type": "code",
   "execution_count": 66,
   "metadata": {},
   "outputs": [
    {
     "data": {
      "text/plain": [
       "(684502, 196)"
      ]
     },
     "execution_count": 66,
     "metadata": {},
     "output_type": "execute_result"
    }
   ],
   "source": [
    "# Dropping original WOHNLAGE and RURAL variables and adding WOHNLAGE rural dummies to df\n",
    "\n",
    "azdias_few_nans_enc1.drop([\"WOHNLAGE\"], axis=1, inplace=True) \n",
    "\n",
    "azdias_few_nans_enc1.shape\n"
   ]
  },
  {
   "cell_type": "code",
   "execution_count": 67,
   "metadata": {},
   "outputs": [],
   "source": [
    "# Engineering two new variables for the variable PLZ8_BAUMAX\n",
    "\n",
    "# Ordinal variable for no. of homes\n",
    "plz8_baumax_homes_dict = {1: 1.0, 2: 2.0, 3: 3.0, 4: 4.0}\n",
    "\n",
    "azdias_few_nans_enc1[\"PLZ8_BAUMAX_HOMES\"] = azdias_few_nans_enc1[\"PLZ8_BAUMAX\"]\n",
    "azdias_few_nans_enc1[\"PLZ8_BAUMAX_HOMES\"] = azdias_few_nans_enc1[\"PLZ8_BAUMAX_HOMES\"]\\\n",
    "                                            .map(plz8_baumax_homes_dict)\n"
   ]
  },
  {
   "cell_type": "code",
   "execution_count": 68,
   "metadata": {},
   "outputs": [
    {
     "data": {
      "text/plain": [
       "(684502, 197)"
      ]
     },
     "execution_count": 68,
     "metadata": {},
     "output_type": "execute_result"
    }
   ],
   "source": [
    "# Binary categorical variable for business buildings\n",
    "plz8_baumax_business_dict = {1: 0, 2: 0, 3: 0, 4: 0, 5: 1}\n",
    "\n",
    "azdias_few_nans_enc1[\"PLZ8_BAUMAX_BUSINESS\"] = azdias_few_nans_enc1[\"PLZ8_BAUMAX\"]\n",
    "azdias_few_nans_enc1[\"PLZ8_BAUMAX_BUSINESS\"] = azdias_few_nans_enc1[\"PLZ8_BAUMAX_BUSINESS\"]\\\n",
    "                                               .map(plz8_baumax_business_dict)\n",
    "    \n",
    "    \n",
    "# Dropping original variable\n",
    "azdias_few_nans_enc1.drop([\"PLZ8_BAUMAX\"], axis=1, inplace=True) \n",
    "azdias_few_nans_enc1.shape\n"
   ]
  },
  {
   "cell_type": "code",
   "execution_count": 69,
   "metadata": {},
   "outputs": [
    {
     "data": {
      "text/plain": [
       "(684502, 196)"
      ]
     },
     "execution_count": 69,
     "metadata": {},
     "output_type": "execute_result"
    }
   ],
   "source": [
    "# Dropping non-encoded variables\n",
    "azdias_few_nans_enc1.drop([\"LP_LEBENSPHASE_FEIN\"], axis=1, inplace=True) \n",
    "azdias_few_nans_enc1.shape\n"
   ]
  },
  {
   "cell_type": "code",
   "execution_count": 70,
   "metadata": {},
   "outputs": [
    {
     "data": {
      "text/plain": [
       "(684502, 195)"
      ]
     },
     "execution_count": 70,
     "metadata": {},
     "output_type": "execute_result"
    }
   ],
   "source": [
    "azdias_few_nans_enc1.drop([\"LP_LEBENSPHASE_GROB\"], axis=1, inplace=True) \n",
    "azdias_few_nans_enc1.shape\n"
   ]
  },
  {
   "cell_type": "markdown",
   "metadata": {},
   "source": [
    "#### Discussion 1.2.2: Engineer Mixed-Type Features\n",
    "\n",
    "##### Mixed value features and actions performed:\n",
    "* **PRAEGENDE_JUGENDJAHRE:**\n",
    "The suggested actions for this variable were carried out; an interval type variable for the generation by decade value and a binary categorical variable for the movement value were created.\n",
    "\n",
    "\n",
    "* **CAMEO_INTL_2015:**\n",
    "Again, the suggested actions were performed and ordinal variabled for wealth and life stage were engineered.\n",
    "\n",
    "\n",
    "* **LP_LEBENSPHASE_FEIN and LP_LEBENSPHASE_GROB:**\n",
    "I decided to drop these two variabled from the dataset. One reason for this was because these two variables are already linked; LP_LEBENSPHASE_FEIN is a more detailed version of LP_LEBENSPHASE_GROB. The other reasons were that LP_LEBENSPHASE_FEIN is created from values already present in the dataset and is unlikely to have a significant impact during clustering. It is also made up of numerous levels which would be quite difficult and time consuming to untangle.\n",
    "\n",
    "\n",
    "* **WOHNLAGE:**\n",
    "This variable was converted into an ordinal variable and a multi-level categorical variable. The ordinal variable is for the neighborhood quality. The categorical variable corresponds to the values regarding rural neighborhoods, with three levels: rural neighborhood, new building in rural neighborhood, or neither. These were one-hot-encoded and added to the dataset.\n",
    "\n",
    "\n",
    "* **PLZ8_BAUMAX:**\n",
    "This variable was converted to an ordinal variable and a binary categorical variable. The ordinal variable is for the number of family homes. The categorical variable is a binary response for the level: \"mainly business buildings\".\n",
    "\n",
    "\n",
    "* **KBA05_BAUMAX:**\n",
    "This feature had already been identified as an outlier with a large number of missing values, and therefore previously been dropped from the dataset.\n",
    "\n",
    "\n",
    "In all cases where new variables were created, the original variable(s) was dropped from the dataset, so as to not interfere with the modelling procedure.\n",
    "\n"
   ]
  },
  {
   "cell_type": "markdown",
   "metadata": {},
   "source": [
    "#### Step 1.2.3: Complete Feature Selection\n",
    "\n",
    "In order to finish this step up, you need to make sure that your data frame now only has the columns that you want to keep. To summarize, the dataframe should consist of the following:\n",
    "- All numeric, interval, and ordinal type columns from the original dataset.\n",
    "- Binary categorical features (all numerically-encoded).\n",
    "- Engineered features from other multi-level categorical features and mixed features.\n",
    "\n",
    "Make sure that for any new columns that you have engineered, that you've excluded the original columns from the final dataset. Otherwise, their values will interfere with the analysis later on the project. For example, you should not keep \"PRAEGENDE_JUGENDJAHRE\", since its values won't be useful for the algorithm: only the values derived from it in the engineered features you created should be retained. As a reminder, your data should only be from **the subset with few or no missing values**."
   ]
  },
  {
   "cell_type": "code",
   "execution_count": 71,
   "metadata": {},
   "outputs": [],
   "source": [
    "# If there are other re-engineering tasks you need to perform, make sure you\n",
    "# take care of them here. (Dealing with missing data will come in step 2.1.)\n",
    "\n"
   ]
  },
  {
   "cell_type": "code",
   "execution_count": 72,
   "metadata": {},
   "outputs": [],
   "source": [
    "# Do whatever you need to in order to ensure that the dataframe only contains\n",
    "# the columns that should be passed to the algorithm functions.\n",
    "\n"
   ]
  },
  {
   "cell_type": "markdown",
   "metadata": {},
   "source": [
    "### Step 1.3: Create a Cleaning Function\n",
    "\n",
    "Even though you've finished cleaning up the general population demographics data, it's important to look ahead to the future and realize that you'll need to perform the same cleaning steps on the customer demographics data. In this substep, complete the function below to execute the main feature selection, encoding, and re-engineering steps you performed above. Then, when it comes to looking at the customer data in Step 3, you can just run this function on that DataFrame to get the trimmed dataset in a single step."
   ]
  },
  {
   "cell_type": "code",
   "execution_count": 73,
   "metadata": {},
   "outputs": [],
   "source": [
    "def clean_data(train_df, test_data, feat_info, cut_off):\n",
    "    \"\"\"\n",
    "    Perform feature trimming, re-encoding, and engineering for demographics\n",
    "    data\n",
    "    \n",
    "    INPUT: Demographics DataFrame, encoded training dataframe, \n",
    "           cut-off for sub-sets (max No. NaNs per row), feature\n",
    "           information dataframe\n",
    "    OUTPUT: Trimmed and cleaned demographics DataFrame\n",
    "    \"\"\"\n",
    "    \n",
    "    # Put in code here to execute all main cleaning steps:\n",
    "    \n",
    "    \n",
    "    # Useful lists\n",
    "    outliers = ['AGER_TYP', 'GEBURTSJAHR', 'TITEL_KZ', 'ALTER_HH', 'KK_KUNDENTYP', 'KBA05_BAUMAX']\n",
    "    \n",
    "    multi_lvl_cols = ['CJT_GESAMTTYP', 'FINANZTYP', 'GFK_URLAUBERTYP', 'LP_FAMILIE_FEIN', 'LP_FAMILIE_GROB', \\\n",
    "                      'LP_STATUS_FEIN', 'LP_STATUS_GROB', 'NATIONALITAET_KZ', 'SHOPPER_TYP', \\\n",
    "                      'ZABEOTYP', 'GEBAEUDETYP', 'CAMEO_DEUG_2015', 'CAMEO_DEU_2015']\n",
    "    \n",
    "    unwanted = outliers + ['LP_LEBENSPHASE_FEIN', 'LP_LEBENSPHASE_GROB']\n",
    "    \n",
    "    \n",
    "    \n",
    "    # convert missing value codes into NaNs, ...\n",
    "    for i,j in enumerate(test_data.columns):\n",
    "        if feat_info['m_or_u_list'][i] != []:\n",
    "            test_data.iloc[:, i] = test_data.iloc[:, i].replace(feat_info['m_or_u_list'][i], np.nan)\n",
    "        else:\n",
    "            continue\n",
    "    \n",
    "    \n",
    "    \n",
    "    \n",
    "    # remove selected columns and rows, ...\n",
    "    for i,j in enumerate(unwanted):\n",
    "        if j in list(test_data.columns):\n",
    "            test_data.drop(j, axis=1, inplace=True)\n",
    "        else:\n",
    "            continue\n",
    "            \n",
    "            \n",
    "            \n",
    "    # select, re-encode, and engineer column values.        \n",
    "    # Updating list for current dataframe\n",
    "    multi_lvl_cols_updated = []        \n",
    "    for i,j in enumerate(multi_lvl_cols):\n",
    "        if multi_lvl_cols[i] in list(test_data.columns):\n",
    "            multi_lvl_cols_updated.append(j)\n",
    "        else:\n",
    "            continue\n",
    "    \n",
    "\n",
    "    # Creating subsets\n",
    "    df_more_nans = test_data[test_data.isnull().sum(axis=1) > cut_off].copy()\n",
    "    df_less_nans = test_data[test_data.isnull().sum(axis=1) <= cut_off].copy()\n",
    "    \n",
    "    \n",
    "    \n",
    "    \n",
    "    \n",
    "    # Dealing with categorical features\n",
    "    \n",
    "    #Re-encoding \"OST_WEST_KZ\" variable\n",
    "    df_less_nans['RE_OST_WEST_KZ'] = df_less_nans['OST_WEST_KZ']\n",
    "    mymap = {'W': 0, 'O': 1}\n",
    "    df_less_nans = df_less_nans.replace({'RE_OST_WEST_KZ': mymap})\n",
    "    df_less_nans.drop(['OST_WEST_KZ'], axis=1, inplace=True)\n",
    "    \n",
    "    # One-hot-encoding multi-level categorical variables\n",
    "    multi_cats_df = pd.DataFrame(df_less_nans[multi_lvl_cols_updated], columns = multi_lvl_cols_updated).astype(str)\n",
    "    multi_cats_df[multi_lvl_cols_updated] = multi_cats_df[multi_lvl_cols_updated].replace('nan', np.nan)\n",
    "    multi_cats_encoded = pd.get_dummies(multi_cats_df)\n",
    "    \n",
    "    # Dropping original multi-level categorical variables from dataframe\n",
    "    df_less_nans.drop(multi_lvl_cols_updated, axis=1, inplace=True)\n",
    "    \n",
    "    # Adding encoded multi-level variables to dataframe\n",
    "    df_lns_enc1 = pd.concat([df_less_nans,multi_cats_encoded], axis=1)\n",
    "    \n",
    "    \n",
    "\n",
    "    \n",
    "    \n",
    "    # Engineering/encoding mixed features\n",
    "    \n",
    "    # Creating new variable for decade from \"PRAEGENDE_JUGENDJAHRE\" vairiable\n",
    "    p_j_dict_dec = {1: 1.0, 2: 1.0, 3: 2.0, 4: 2.0, 5: 3.0,\\\n",
    "                    6: 3.0, 7: 3.0, 8: 4.0, 9: 4.0, 10: 5.0,\\\n",
    "                    11: 5.0, 12: 5.0, 13: 5.0, 14: 6.0, 15: 6.0}\n",
    "    \n",
    "    df_lns_enc1[\"P_J_Decade\"] = df_lns_enc1[\"PRAEGENDE_JUGENDJAHRE\"]\n",
    "    df_lns_enc1[\"P_J_Decade\"] = df_lns_enc1[\"P_J_Decade\"].map(p_j_dict_dec)\n",
    "    \n",
    "    # Creating new variable for movement from \"PRAEGENDE_JUGENDJAHRE\" vairiable\n",
    "    p_j_dict_move = {1: 1.0, 2: 0.0, 3: 1.0, 4: 0.0, 5: 1.0, 6: 0.0,\\\n",
    "                 7: 0.0, 8: 1.0, 9: 0.0, 10: 1.0, 11: 0.0, 12: 1.0,\\\n",
    "                 13: 0.0, 14: 1.0, 15: 0.0}\n",
    "    df_lns_enc1[\"P_J_Movement\"] = df_lns_enc1[\"PRAEGENDE_JUGENDJAHRE\"]\n",
    "    df_lns_enc1[\"P_J_Movement\"] = df_lns_enc1[\"P_J_Movement\"].map(p_j_dict_move)\n",
    "    \n",
    "     # Dropping original PRAEGENDE_JUGENDJAHRE column from dataframe\n",
    "    df_lns_enc1.drop([\"PRAEGENDE_JUGENDJAHRE\"], axis=1, inplace=True)\n",
    "    \n",
    "    \n",
    "    \n",
    "    \n",
    "    \n",
    "    # Investigate \"CAMEO_INTL_2015\" and engineer two new variables.\n",
    "    # Creating wealth variable\n",
    "    c_i_15_dict_wealth = {'11': 1.0, '12': 1.0, '13': 1.0, '14': 1.0, '15': 1.0,\\\n",
    "                          '21': 2.0, '22': 2.0, '23': 2.0, '24': 2.0, '25': 2.0,\\\n",
    "                          '31': 3.0, '32': 3.0, '33': 3.0, '34': 3.0, '35': 3.0,\\\n",
    "                          '41': 4.0, '42': 4.0, '43': 4.0, '44': 4.0, '45': 4.0,\\\n",
    "                          '51': 5.0, '52': 5.0, '53': 5.0, '54': 5.0, '55': 1.0}\n",
    "\n",
    "    df_lns_enc1[\"C_I_15_Wealth\"] = df_lns_enc1[\"CAMEO_INTL_2015\"]\n",
    "    df_lns_enc1[\"C_I_15_Wealth\"] = df_lns_enc1[\"C_I_15_Wealth\"].map(c_i_15_dict_wealth)\n",
    "    \n",
    "    # Creating life stage variable\n",
    "    c_i_15_dict_ls = {'11': 1.0, '12': 2.0, '13': 3.0, '14': 4.0, '15': 5.0,\\\n",
    "                      '21': 1.0, '22': 2.0, '23': 3.0, '24': 4.0, '25': 5.0,\\\n",
    "                      '31': 1.0, '32': 2.0, '33': 3.0, '34': 4.0, '35': 5.0,\\\n",
    "                      '41': 1.0, '42': 2.0, '43': 3.0, '44': 4.0, '45': 5.0,\\\n",
    "                      '51': 1.0, '52': 2.0, '53': 3.0, '54': 4.0, '55': 5.0}\n",
    "\n",
    "    df_lns_enc1[\"C_I_15_LS\"] = df_lns_enc1[\"CAMEO_INTL_2015\"]\n",
    "    df_lns_enc1[\"C_I_15_LS\"] = df_lns_enc1[\"C_I_15_LS\"].map(c_i_15_dict_ls)\n",
    "    \n",
    "    # Dropping original CAMEO_INTL_2015 column from dataframe\n",
    "    df_lns_enc1.drop([\"CAMEO_INTL_2015\"], axis=1, inplace=True)\n",
    "\n",
    "    \n",
    "    \n",
    "    \n",
    "    \n",
    "    \n",
    "    # Engineering new variables for the variable \"WOHNLAGE\"\n",
    "    # Creating ordinal variable for neighborhood values\n",
    "    wohnlage_nbh_dict = {1: 1.0, 2: 2.0, 3: 3.0, 4: 4.0,\\\n",
    "                     5: 5.0, 6: 6.0, 7: np.nan, 8: np.nan}\n",
    "\n",
    "    df_lns_enc1[\"WOHNLAGE_NBH\"] = df_lns_enc1[\"WOHNLAGE\"]\n",
    "    df_lns_enc1[\"WOHNLAGE_NBH\"]= df_lns_enc1[\"WOHNLAGE_NBH\"].map(wohnlage_nbh_dict)\n",
    "    \n",
    "    # Dropping original WOHNLAGE variable\n",
    "    df_lns_enc1.drop([\"WOHNLAGE\"], axis=1, inplace=True)\n",
    "    \n",
    "\n",
    "    \n",
    "    \n",
    "    \n",
    "    #Engineering two new variables for the variable \"PLZ8_BAUMAX\"\n",
    "    # Ordinal variable for no. of homes\n",
    "    plz8_baumax_homes_dict = {1: 1.0, 2: 2.0, 3: 3.0, 4: 4.0}\n",
    "\n",
    "    df_lns_enc1[\"PLZ8_BAUMAX_HOMES\"] = df_lns_enc1[\"PLZ8_BAUMAX\"]\n",
    "    df_lns_enc1[\"PLZ8_BAUMAX_HOMES\"] = df_lns_enc1[\"PLZ8_BAUMAX_HOMES\"].map(plz8_baumax_homes_dict)\n",
    "    \n",
    "    # Binary categorical variable for business buildings\n",
    "    plz8_baumax_business_dict = {1: 0, 2: 0, 3: 0, 4: 0, 5: 1}\n",
    "\n",
    "    df_lns_enc1[\"PLZ8_BAUMAX_BUSINESS\"] = df_lns_enc1[\"PLZ8_BAUMAX\"]\n",
    "    df_lns_enc1[\"PLZ8_BAUMAX_BUSINESS\"] = df_lns_enc1[\"PLZ8_BAUMAX_BUSINESS\"].map(plz8_baumax_business_dict)\n",
    "    \n",
    "    # Dropping original variable\n",
    "    df_lns_enc1.drop([\"PLZ8_BAUMAX\"], axis=1, inplace=True)\n",
    "    \n",
    "    # Check all columns are present and add\n",
    "    # columns that are missing due to levels\n",
    "    # not present in the test data\n",
    "    \n",
    "    pop_cols = list(train_df.columns)\n",
    "    cust_cols = list(df_lns_enc1.columns)\n",
    "\n",
    "    for i in pop_cols:\n",
    "        if i not in cust_cols:\n",
    "            df_lns_enc1[i] = 0\n",
    "    \n",
    "    \n",
    "        \n",
    "    # Return the cleaned dataframe.\n",
    "    return df_lns_enc1"
   ]
  },
  {
   "cell_type": "markdown",
   "metadata": {},
   "source": [
    "## Step 2: Feature Transformation\n",
    "\n",
    "### Step 2.1: Apply Feature Scaling\n",
    "\n",
    "Before we apply dimensionality reduction techniques to the data, we need to perform feature scaling so that the principal component vectors are not influenced by the natural differences in scale for features. Starting from this part of the project, you'll want to keep an eye on the [API reference page for sklearn](http://scikit-learn.org/stable/modules/classes.html) to help you navigate to all of the classes and functions that you'll need. In this substep, you'll need to check the following:\n",
    "\n",
    "- sklearn requires that data not have missing values in order for its estimators to work properly. So, before applying the scaler to your data, make sure that you've cleaned the DataFrame of the remaining missing values. This can be as simple as just removing all data points with missing data, or applying an [Imputer](http://scikit-learn.org/stable/modules/generated/sklearn.preprocessing.Imputer.html) to replace all missing values. You might also try a more complicated procedure where you temporarily remove missing values in order to compute the scaling parameters before re-introducing those missing values and applying imputation. Think about how much missing data you have and what possible effects each approach might have on your analysis, and justify your decision in the discussion section below.\n",
    "- For the actual scaling function, a [StandardScaler](http://scikit-learn.org/stable/modules/generated/sklearn.preprocessing.StandardScaler.html) instance is suggested, scaling each feature to mean 0 and standard deviation 1.\n",
    "- For these classes, you can make use of the `.fit_transform()` method to both fit a procedure to the data as well as apply the transformation to the data at the same time. Don't forget to keep the fit sklearn objects handy, since you'll be applying them to the customer demographics data towards the end of the project."
   ]
  },
  {
   "cell_type": "code",
   "execution_count": 74,
   "metadata": {},
   "outputs": [
    {
     "name": "stdout",
     "output_type": "stream",
     "text": [
      "No. of rows containing any NaNs:279387\n",
      "Total no. of NaNs: 374693\n"
     ]
    }
   ],
   "source": [
    "# If you've not yet cleaned the dataset of all NaN values, then investigate and\n",
    "# do that now.\n",
    "\n",
    "print(f\"No. of rows containing any NaNs:{ (azdias_few_nans_enc1.isnull().sum(axis=1) > 0).sum() }\")\n",
    "\n",
    "print(f\"Total no. of NaNs: { azdias_few_nans_enc1.isnull().sum().sum() }\")\n"
   ]
  },
  {
   "cell_type": "code",
   "execution_count": 75,
   "metadata": {},
   "outputs": [],
   "source": [
    "# Make copy and drop all replace all NaNs with zeros\n",
    "azdias_few_nans_enc1_ss_train = azdias_few_nans_enc1.copy()\n",
    "azdias_few_nans_enc1_ss_train.fillna(0, inplace=True)\n"
   ]
  },
  {
   "cell_type": "code",
   "execution_count": null,
   "metadata": {},
   "outputs": [],
   "source": [
    "# Apply feature scaling to the general population demographics data.\n",
    "\n",
    "# Train StandardScaler on copy\n",
    "ss = StandardScaler()\n",
    "ss_trained = ss.fit(azdias_few_nans_enc1_ss_train)\n",
    "\n",
    "# Carry out impuation on original dataset\n",
    "# Imputing for NaNs, along columns, using the mean (defaults)\n",
    "imp = Imputer()\n",
    "azdias_few_nans_enc1_impd_arr = imp.fit_transform(azdias_few_nans_enc1)\n",
    "# Converting from array back to dataframe\n",
    "azdias_few_nans_enc1_impd = pd.DataFrame(azdias_few_nans_enc1_impd_arr, columns = azdias_few_nans_enc1.columns)\n",
    "\n",
    "# Transform dataset using trained StandardScaler\n",
    "azdias_few_nans_enc1_impd_scld_arr = ss.transform(azdias_few_nans_enc1_impd)\n",
    "# Converting from array back to dataframe\n",
    "azdias_few_nans_enc1_impd_scld = pd.DataFrame(azdias_few_nans_enc1_impd_scld_arr, columns = azdias_few_nans_enc1.columns,\\\n",
    "                                                index = azdias_few_nans_enc1.index)\n"
   ]
  },
  {
   "cell_type": "code",
   "execution_count": null,
   "metadata": {},
   "outputs": [],
   "source": [
    "azdias_few_nans_enc1_impd_scld.head(n=3)\n"
   ]
  },
  {
   "cell_type": "markdown",
   "metadata": {},
   "source": [
    "### Discussion 2.1: Apply Feature Scaling\n",
    "\n",
    "**No. of missing values:**\n",
    "Since the number of rows which contain one or more missing values is quite high (279,387), dropping these entries (rows) would mean losing a significant chuck of information present in the sample. Since the total number of NaN values is relatively small compared to the number of data points in the whole dataset, another option could be to replace the NaN values with zeros. Although this may alter the properties of the sample slightly, it is quite possible the effects would be insignificant with regard to modelling results.\n",
    "\n",
    "However, to achieve maximum accuracy in the modelling stage (and for future predictions), I decided to perform imputation before scaling the features using sklearn's StandardScaler (which scales the data to have a mean of 0 and a standard deviation of 1). Another option of scaler may be to use sklearn's RobustScaler, which is less effected by outliers than the StandardScaler.\n",
    "\n",
    "To avoid the calculations of the scaler being affected by the imputed values, the StandardScaler was first trained on a copy of the data with the NaN values set to zero. Imputation and scaling (using the trained scaler) were then carried out on the original dataset."
   ]
  },
  {
   "cell_type": "markdown",
   "metadata": {},
   "source": [
    "### Step 2.2: Perform Dimensionality Reduction\n",
    "\n",
    "On your scaled data, you are now ready to apply dimensionality reduction techniques.\n",
    "\n",
    "- Use sklearn's [PCA](http://scikit-learn.org/stable/modules/generated/sklearn.decomposition.PCA.html) class to apply principal component analysis on the data, thus finding the vectors of maximal variance in the data. To start, you should not set any parameters (so all components are computed) or set a number of components that is at least half the number of features (so there's enough features to see the general trend in variability).\n",
    "- Check out the ratio of variance explained by each principal component as well as the cumulative variance explained. Try plotting the cumulative or sequential values using matplotlib's [`plot()`](https://matplotlib.org/api/_as_gen/matplotlib.pyplot.plot.html) function. Based on what you find, select a value for the number of transformed features you'll retain for the clustering part of the project.\n",
    "- Once you've made a choice for the number of components to keep, make sure you re-fit a PCA instance to perform the decided-on transformation."
   ]
  },
  {
   "cell_type": "code",
   "execution_count": null,
   "metadata": {},
   "outputs": [],
   "source": [
    "# Apply PCA to the data.\n",
    "\n",
    "pca = PCA()\n",
    "azdias_pca = pca.fit_transform(azdias_few_nans_enc1_impd_scld)\n"
   ]
  },
  {
   "cell_type": "code",
   "execution_count": null,
   "metadata": {},
   "outputs": [],
   "source": [
    "# Investigate the variance accounted for by each principal component.\n",
    "\n",
    "components_total = len(pca.explained_variance_ratio_)\n",
    "components = np.arange(components_total)\n",
    "\n",
    "fig, ax1 = plt.subplots(figsize=(18,8))\n",
    "\n",
    "ax1.bar(components,pca.explained_variance_ratio_)\n",
    "ax1.set_ylabel('Explained Variance', color=\"blue\")\n",
    "ax1.set_xlabel('Number of Components')\n",
    "ax1.axvline(84, ls=\"--\", color=\"black\", ymax=0.75)\n",
    "ax1.set_xlim(-1,196)\n",
    "\n",
    "ax2 = ax1.twinx() \n",
    "\n",
    "\n",
    "\n",
    "ax2.plot(np.cumsum(pca.explained_variance_ratio_), color=\"red\")\n",
    "ax2.hlines(y=0.8,xmin=84,xmax=196,linestyles='dashed')\n",
    "ax2.scatter(x = [84], y =[0.801], marker=\"o\", linewidth=6.0, color=\"black\")\n",
    "ax2.text(45,0.82,\"80% explained variance\", fontsize=15, color=\"black\")\n",
    "ax2.text(86,0.15,\"84 components\", fontsize=15, color=\"black\")\n",
    "ax2.set_ylabel('Cumulative Explained Variance', color=\"red\")\n",
    "plt.title(\"Variance Explained vs No. of Principal Components\")\n",
    "\n",
    "\n",
    "# saving height of bars to collect individual component %\n",
    "component_perct = []\n",
    "\n",
    "for i in ax1.patches:\n",
    "    component_perct.append(i.get_height())"
   ]
  },
  {
   "cell_type": "code",
   "execution_count": null,
   "metadata": {},
   "outputs": [],
   "source": [
    "# Re-apply PCA to the data while selecting for number of components to retain.\n",
    "\n",
    "# Reffiting for 84 components\n",
    "pca_84 = PCA(n_components=84)\n",
    "azdias_pca_84 = pca_84.fit_transform(azdias_few_nans_enc1_impd_scld)"
   ]
  },
  {
   "cell_type": "code",
   "execution_count": null,
   "metadata": {},
   "outputs": [],
   "source": [
    "# Investigate the variance accounted for by each principal component.\n",
    "\n",
    "components_total = len(pca_84.explained_variance_ratio_)\n",
    "components = np.arange(components_total)\n",
    "\n",
    "fig, ax1 = plt.subplots(figsize=(18,8))\n",
    "\n",
    "ax1.bar(components,pca_84.explained_variance_ratio_)\n",
    "ax1.set_ylabel('Explained Variance', color=\"blue\")\n",
    "ax1.set_xlabel('Number of Components')\n",
    "\n",
    "ax2 = ax1.twinx() \n",
    "\n",
    "#ax1.set_xlim(-1,72)\n",
    "ax1.set_ylim(0,0.1)\n",
    "\n",
    "ax2.plot(np.cumsum(pca_84.explained_variance_ratio_), color=\"red\")\n",
    "ax2.set_ylabel('Cumulative Explained Variance', color=\"red\")\n",
    "plt.title(\"Variance Explained vs No. of Principal Components\")\n",
    "\n",
    "# annotate first 6 principle components with % values\n",
    "for i,j in zip(ax1.patches[0:6],component_perct[0:6]):\n",
    "    ax1.text(i.get_x()-.1, j+0.002,\\\n",
    "    str(round((j)*100, 1))+'%', fontsize=14)"
   ]
  },
  {
   "cell_type": "markdown",
   "metadata": {},
   "source": [
    "### Discussion 2.2: Perform Dimensionality Reduction\n",
    "\n",
    "After carrying out principle component analysis (PCA) on the data, the explained variance was plotted against the number of components. To maintain a good level of accuracy in the final model, I decided to pick a threshold of 80% for the total variance explained. This corresponded to a 84 principle components, with the first 6 components equating to approximately 24% of the total variance.\n",
    "\n",
    "Therefore, I carried out PCA once more, transforming the data set into 84 principle components."
   ]
  },
  {
   "cell_type": "markdown",
   "metadata": {},
   "source": [
    "### Step 2.3: Interpret Principal Components\n",
    "\n",
    "Now that we have our transformed principal components, it's a nice idea to check out the weight of each variable on the first few components to see if they can be interpreted in some fashion.\n",
    "\n",
    "As a reminder, each principal component is a unit vector that points in the direction of highest variance (after accounting for the variance captured by earlier principal components). The further a weight is from zero, the more the principal component is in the direction of the corresponding feature. If two features have large weights of the same sign (both positive or both negative), then increases in one tend expect to be associated with increases in the other. To contrast, features with different signs can be expected to show a negative correlation: increases in one variable should result in a decrease in the other.\n",
    "\n",
    "- To investigate the features, you should map each weight to their corresponding feature name, then sort the features according to weight. The most interesting features for each principal component, then, will be those at the beginning and end of the sorted list. Use the data dictionary document to help you understand these most prominent features, their relationships, and what a positive or negative value on the principal component might indicate.\n",
    "- You should investigate and interpret feature associations from the first three principal components in this substep. To help facilitate this, you should write a function that you can call at any time to print the sorted list of feature weights, for the *i*-th principal component. This might come in handy in the next step of the project, when you interpret the tendencies of the discovered clusters."
   ]
  },
  {
   "cell_type": "code",
   "execution_count": null,
   "metadata": {},
   "outputs": [],
   "source": [
    "# Map weights for the first principal component to corresponding feature names\n",
    "# and then print the linked values, sorted by weight.\n",
    "# HINT: Try defining a function here or in a new cell that you can reuse in the\n",
    "# other cells.\n",
    "\n",
    "def plot_features(scaled_df, pca, component_perct, pc_num, tb_n=10):\n",
    "\n",
    "    pca_df = pd.DataFrame(pca.components_,columns=scaled_df.columns,\\\n",
    "                 index = [f\"PC-{i}\" for i in range(1,len(pca.components_)+1)])\n",
    "\n",
    "    sorted_df = pca_df.iloc[pc_num-1:pc_num,:].\\\n",
    "                sort_values(f\"PC-{pc_num}\", axis=1, ascending=True,inplace=False, kind='quicksort')    \n",
    "\n",
    "    sorted_df.plot.bar(figsize=(14,6), legend=False)\n",
    "    plt.ylabel('Feature Weights', fontsize=12)\n",
    "    plt.xlabel('Principle Component', fontsize=12)\n",
    "    plt.title(f'Explained Variance: {round(component_perct[pc_num-1]*100,1)}%', fontsize=12)\n",
    "\n",
    "    highest_n = sorted_df.iloc[:,0:tb_n]\n",
    "    lowest_n = sorted_df.iloc[:, -tb_n:]\n",
    "    sorted_top_n = pd.concat([highest_n,lowest_n], axis=1)\n",
    "\n",
    "    sorted_top_n.plot.bar(figsize=(14,6))\n",
    "    plt.ylabel('Feature Weights', fontsize=12)\n",
    "    plt.xlabel('Principle Component', fontsize=12)\n",
    "    plt.title(f'Top and Bottom {tb_n} Features', fontsize=12)"
   ]
  },
  {
   "cell_type": "code",
   "execution_count": null,
   "metadata": {},
   "outputs": [],
   "source": [
    "def features_sorted(scaled_df, pca, pc_num=1):\n",
    "\n",
    "    azdias_pca_df = pd.DataFrame(pca.components_,columns=scaled_df.columns,\\\n",
    "                 index = [f\"PC-{i}\" for i in range(1,len(pca.components_)+1)])\n",
    "\n",
    "    sorted_df = azdias_pca_df.iloc[pc_num-1:pc_num,:].\\\n",
    "                sort_values(f\"PC-{pc_num}\", axis=1, ascending=True,inplace=False, kind='quicksort')  \n",
    "        \n",
    "    sorted_features = list(sorted_df.columns)\n",
    "    print(f\"Strongest +ve feature: {sorted_features[-1]},\\nStrongest -ve feature: {sorted_features[0]}\")\n",
    "        \n",
    "    return sorted_features"
   ]
  },
  {
   "cell_type": "code",
   "execution_count": null,
   "metadata": {},
   "outputs": [],
   "source": [
    "plot_features(azdias_few_nans_enc1_impd_scld, pca_84,component_perct, pc_num=1, tb_n=10)\n",
    "feats_pc1 = features_sorted(azdias_few_nans_enc1_impd_scld, pca_84, pc_num=1)"
   ]
  },
  {
   "cell_type": "code",
   "execution_count": null,
   "metadata": {},
   "outputs": [],
   "source": [
    "# Map weights for the second principal component to corresponding feature names\n",
    "# and then print the linked values, sorted by weight.\n",
    "\n",
    "plot_features(azdias_few_nans_enc1_impd_scld, pca_84,component_perct, pc_num=2, tb_n=10)\n",
    "feats_pc1 = features_sorted(azdias_few_nans_enc1_impd_scld, pca_84, pc_num=2)\n"
   ]
  },
  {
   "cell_type": "code",
   "execution_count": null,
   "metadata": {},
   "outputs": [],
   "source": [
    "# Map weights for the third principal component to corresponding feature names\n",
    "# and then print the linked values, sorted by weight.\n",
    "\n",
    "plot_features(azdias_few_nans_enc1_impd_scld, pca_84,component_perct, pc_num=3, tb_n=10)\n",
    "feats_pc1 = features_sorted(azdias_few_nans_enc1_impd_scld, pca_84, pc_num=3)\n"
   ]
  },
  {
   "cell_type": "markdown",
   "metadata": {},
   "source": [
    "### Discussion 2.3: Interpret Principal Components\n",
    "\n",
    "* First principle component\n",
    "\n",
    "    Two strongest positive features (strongest first):\n",
    "\n",
    "    * LP_STATUS_GROB_1.0: Social status (rough scale); estimated household net income, 1.0 - low income earners\n",
    "\n",
    "    * PLZ8_ANTG3: Number of 6-10 family houses in the PLZ8 region\n",
    "\n",
    "    Two strongest negative features (strongest first):\n",
    "\n",
    "    * MOBI_REGIO: Movement patterns\n",
    "\n",
    "    * KBA05_ANTG1: Number of 1-2 family houses in the microcell\n",
    "\n",
    "For the strongest two positive features, a possible explanation for the positive correlation between them could be that low income areas are most likely to have a higher population density. A higher population density would then mean a larger number of family homes in a given region.\n",
    "\n",
    "The strongest two negative features have a less obvious correlation. It could be that for one of the levels within MOBI_REGIO, i.e. \"very high movement\" corresponds to someone who lives in a remote and, therefore, less densely populated area, while needing to travel a lot (i.e. commute). Therefore, this may explain why somewhere with fewer family houses is correlated with a certain type of movement patterns.\n",
    "\n",
    "Comparing the strongest positive and negative features, a source of negative correlation would very likely be between PLZ8_ANTG3 and KBA05_ANTG1, one representing a densely populated area while the other may represent a more sparsely populated area.\n",
    "\n",
    "* Second principle component\n",
    "\n",
    "    Two strongest positive features (strongest first):\n",
    "\n",
    "    * ALTERSKATEGORIE_GROB: Estimated age based on given name analysis\n",
    "\n",
    "    * FINANZ_VORSORGER: Financial typology, VORSORGER - be prepared\n",
    "\n",
    "    Two strongest negative features (strongest first):\n",
    "\n",
    "    * P_J_Decade: Generation by decade\n",
    "\n",
    "    * FINANZ_SPARER: Financial typology, SPARER - money-saver\n",
    "\n",
    "\n",
    "For the stongest positive feature weights, again, there is no immediate factor linking the two. It is possible that different generations have different attititudes towards money, i.e. millienials may be more worried about saving compared to older generations. This could possibly cause a positive correlation between the two features.\n",
    "\n",
    "The strongest negative feature weights show very similar properties to the two strongest negative features. It is possible that, the way the features have been encoded has resulted in a strong negative correlation as opposed to a strong positive correlation.\n",
    "\n",
    "* Third principle component\n",
    "\n",
    "    Two strongest positive features (strongest first):\n",
    "\n",
    "    * SEMIO_VERT: Personality typology, VERT - dreamful\n",
    "\n",
    "    * SEMIO_FAM: Personality typology, FAM - family-minded\n",
    "\n",
    "    Two strongest negative features (strongest first):\n",
    "\n",
    "    * ANREDE_KZ: Gender\n",
    "\n",
    "    * SEMIO_KAEM: Personality typology, KAEM - combative attitude\n",
    "\n",
    "In this principle component, the two strongest positive feature weights both refer to personality types. It is difficult to say a straight forward connection between dreamful and family-minded, however, maybe both of these personalities fall into a broader category i.e. peaceful.\n",
    "\n",
    "The strongest negative features include gender and and a combative attitude. It is possible that, due to higher levels of testosterone, there is a higher proportion of males that have a combative attitude compared to females, which is causing the positive correlation between these features.\n",
    "\n",
    "Comparing the strongest positive and negative features, it is understandable that there would be a negative corralation between comative personalities and people with family-minded/dreamy personalities, which is what we can see from this data."
   ]
  },
  {
   "cell_type": "markdown",
   "metadata": {},
   "source": [
    "## Step 3: Clustering\n",
    "\n",
    "### Step 3.1: Apply Clustering to General Population\n",
    "\n",
    "You've assessed and cleaned the demographics data, then scaled and transformed them. Now, it's time to see how the data clusters in the principal components space. In this substep, you will apply k-means clustering to the dataset and use the average within-cluster distances from each point to their assigned cluster's centroid to decide on a number of clusters to keep.\n",
    "\n",
    "- Use sklearn's [KMeans](http://scikit-learn.org/stable/modules/generated/sklearn.cluster.KMeans.html#sklearn.cluster.KMeans) class to perform k-means clustering on the PCA-transformed data.\n",
    "- Then, compute the average difference from each point to its assigned cluster's center. **Hint**: The KMeans object's `.score()` method might be useful here, but note that in sklearn, scores tend to be defined so that larger is better. Try applying it to a small, toy dataset, or use an internet search to help your understanding.\n",
    "- Perform the above two steps for a number of different cluster counts. You can then see how the average distance decreases with an increasing number of clusters. However, each additional cluster provides a smaller net benefit. Use this fact to select a final number of clusters in which to group the data. **Warning**: because of the large size of the dataset, it can take a long time for the algorithm to resolve. The more clusters to fit, the longer the algorithm will take. You should test for cluster counts through at least 10 clusters to get the full picture, but you shouldn't need to test for a number of clusters above about 30.\n",
    "- Once you've selected a final number of clusters to use, re-fit a KMeans instance to perform the clustering operation. Make sure that you also obtain the cluster assignments for the general demographics data, since you'll be using them in the final Step 3.3."
   ]
  },
  {
   "cell_type": "code",
   "execution_count": null,
   "metadata": {},
   "outputs": [],
   "source": [
    "# Creating dataframe from PCA output\n",
    "azd_clean_scld_pca_df = pd.DataFrame(azdias_pca_84, \\\n",
    "                                     columns = [f\"PC-{i}\" for i in range(1,len(pca_84.components_)+1)])\n"
   ]
  },
  {
   "cell_type": "code",
   "execution_count": null,
   "metadata": {},
   "outputs": [],
   "source": [
    "# Over a number of different cluster counts...\n",
    "\n",
    "    # run k-means clustering on the data and...\n",
    "\n",
    "def elbow(num_km, data):\n",
    "    \n",
    "    num_clusters = []\n",
    "    sse = []\n",
    "    \n",
    "    for i in range(2,num_km+1):\n",
    "        kmeans = KMeans(n_clusters=i, init='k-means++',  max_iter=500)\n",
    "        kmeans_fit = kmeans.fit(data) \n",
    "        sse_val = kmeans_fit.inertia_\n",
    "        \n",
    "        sse.append(sse_val)\n",
    "        num_clusters.append(i)\n",
    "        \n",
    "    return sse, num_clusters"
   ]
  },
  {
   "cell_type": "code",
   "execution_count": null,
   "metadata": {},
   "outputs": [],
   "source": [
    "# compute the average within-cluster distances.\n",
    "# Takes quite a long time to run! \n",
    "\n",
    "sse3, num_k3 = elbow(30, azd_clean_scld_pca_df)"
   ]
  },
  {
   "cell_type": "code",
   "execution_count": null,
   "metadata": {},
   "outputs": [],
   "source": [
    "# Investigate the change in within-cluster distance across number of clusters.\n",
    "# HINT: Use matplotlib's plot function to visualize this relationship.\n",
    "\n",
    "bf_line = [0]+num_k3[-10:]\n",
    "\n",
    "fig, ax = plt.subplots(figsize=(10,6))\n",
    "ax.scatter(num_k3,sse3, color=\"black\")\n",
    "ax.plot(num_k3,sse3,'--')\n",
    "ax.plot(bf_line, np.poly1d(np.polyfit(num_k3[-12:], sse3[-12:], 1))(bf_line),'--', color='red', alpha=0.7)\n",
    "ax.plot([2,3,4,10], np.poly1d(np.polyfit(num_k3[0:3], sse3[0:3], 1))([2,3,4,10]),'--', color='red', alpha=0.7)\n",
    "ax.set_ylabel('SSE')\n",
    "ax.set_xlabel('Number of Clusters')\n",
    "ax.xaxis.set(ticks=range(1,num_k3[-1]+2))\n",
    "ax.annotate('elbow', xy=(9.1, 0.78e8), xytext=(12, 0.9e8),arrowprops=dict(facecolor='black', shrink=0.1),fontsize=16)\n",
    "plt.title(\"SSE Vs No. of Clusters\")\n",
    "plt.show()"
   ]
  },
  {
   "cell_type": "code",
   "execution_count": null,
   "metadata": {},
   "outputs": [],
   "source": [
    "# Re-fit the k-means model with the selected number of clusters and obtain\n",
    "# cluster predictions for the general population demographics data.\n",
    "\n",
    "kmeans = KMeans(n_clusters=10, init='k-means++',  max_iter=500)\n",
    "kmeans_fit = kmeans.fit(azd_clean_scld_pca_df)\n",
    "\n",
    "# Attaching predictions to datafrae\n",
    "azd_clean_scld_pca_df[\"labels\"] = kmeans_fit.labels_\n"
   ]
  },
  {
   "cell_type": "code",
   "execution_count": null,
   "metadata": {},
   "outputs": [],
   "source": [
    "azd_clean_scld_pca_df.head()\n"
   ]
  },
  {
   "cell_type": "markdown",
   "metadata": {},
   "source": [
    "### Discussion 3.1: Apply Clustering to General Population\n",
    "\n",
    "Multiple KMeans models have been fitted through a range of different values for the number of clusters. The sum of the squared errors (SSE) value was obtained though the \"inertia_\" attribute. This calculates the SSEs for the cluster center and the surrounding points. By plotting this versus the cluster size, it should become apparent the point at which additional clusters have a decreased benefit - visible from the so called \"elbow\" appearance of the graph.\n",
    "\n",
    "In the plot above, the elbow is not the most distinct, but there is a clear shift in the rate at which SSE decreases in the range of 5 to 15 clusters. As each additional cluster provides a decreased benefit, I have decided to pick a number in the middle of the range and use 10 clusters."
   ]
  },
  {
   "cell_type": "markdown",
   "metadata": {},
   "source": [
    "### Step 3.2: Apply All Steps to the Customer Data\n",
    "\n",
    "Now that you have clusters and cluster centers for the general population, it's time to see how the customer data maps on to those clusters. Take care to not confuse this for re-fitting all of the models to the customer data. Instead, you're going to use the fits from the general population to clean, transform, and cluster the customer data. In the last step of the project, you will interpret how the general population fits apply to the customer data.\n",
    "\n",
    "- Don't forget when loading in the customers data, that it is semicolon (`;`) delimited.\n",
    "- Apply the same feature wrangling, selection, and engineering steps to the customer demographics using the `clean_data()` function you created earlier. (You can assume that the customer demographics data has similar meaning behind missing data patterns as the general demographics data.)\n",
    "- Use the sklearn objects from the general demographics data, and apply their transformations to the customers data. That is, you should not be using a `.fit()` or `.fit_transform()` method to re-fit the old objects, nor should you be creating new sklearn objects! Carry the data through the feature scaling, PCA, and clustering steps, obtaining cluster assignments for all of the data in the customer demographics data."
   ]
  },
  {
   "cell_type": "code",
   "execution_count": 3,
   "metadata": {},
   "outputs": [],
   "source": [
    "# Load in the customer demographics data.\n",
    "cust = pd.read_csv('Udacity_CUSTOMERS_Subset.csv', delimiter=';')\n"
   ]
  },
  {
   "cell_type": "code",
   "execution_count": null,
   "metadata": {},
   "outputs": [],
   "source": [
    "# Apply preprocessing, feature transformation, and clustering from the general\n",
    "# demographics onto the customer data, obtaining cluster predictions for the\n",
    "# customer demographics data.\n",
    "\n",
    "customers_preprocessed = clean_data(azdias_few_nans_enc1_impd_scld, customers, feat_info, 3)\n",
    "customers_preprocessed.shape\n"
   ]
  },
  {
   "cell_type": "code",
   "execution_count": null,
   "metadata": {},
   "outputs": [],
   "source": [
    "# Carry out impuation \n",
    "customers_preprocessed_impd_arr = imp.transform(customers_preprocessed)\n",
    "\n",
    "# Converting from array back to dataframe\n",
    "customers_preprocessed_impd = pd.DataFrame(customers_preprocessed_impd_arr, columns = customers_preprocessed.columns)\n",
    "\n",
    "# Transform dataset using trained StandardScaler\n",
    "customers_preprocessed_impd_scld_arr = ss.transform(customers_preprocessed_impd)\n",
    "# Converting from array back to dataframe\n",
    "customers_preprocessed_impd_scld = pd.DataFrame(customers_preprocessed_impd_scld_arr, columns = customers_preprocessed.columns,\\\n",
    "                                                index = customers_preprocessed.index)\n",
    "\n",
    "customers_preprocessed_impd_scld.head(n=1)\n"
   ]
  },
  {
   "cell_type": "code",
   "execution_count": null,
   "metadata": {},
   "outputs": [],
   "source": [
    "# Applying PCA\n",
    "customer_pca_84 = pca_84.transform(customers_preprocessed_impd_scld)\n",
    "\n",
    "# Creating dataframe from PCA output\n",
    "cust_clean_scld_pca_df = pd.DataFrame(customer_pca_84, \\\n",
    "                                      columns = [f\"PC-{i}\" for i in range(1,len(pca_84.components_)+1)])\n",
    "\n",
    "# Applying previously trained KMeans model to get predicted labels on customer data\n",
    "###cust_clean_scld_pca_df[\"labels\"] = kmeans.predict(cust_clean_scld_pca_df)\n",
    "\n",
    "customer_predictions = kmeans.predict(cust_clean_scld_pca_df)\n",
    "\n",
    "cust_clean_scld_pca_df.head()\n"
   ]
  },
  {
   "cell_type": "markdown",
   "metadata": {},
   "source": [
    "### Step 3.3: Compare Customer Data to Demographics Data\n",
    "\n",
    "At this point, you have clustered data based on demographics of the general population of Germany, and seen how the customer data for a mail-order sales company maps onto those demographic clusters. In this final substep, you will compare the two cluster distributions to see where the strongest customer base for the company is.\n",
    "\n",
    "Consider the proportion of persons in each cluster for the general population, and the proportions for the customers. If we think the company's customer base to be universal, then the cluster assignment proportions should be fairly similar between the two. If there are only particular segments of the population that are interested in the company's products, then we should see a mismatch from one to the other. If there is a higher proportion of persons in a cluster for the customer data compared to the general population (e.g. 5% of persons are assigned to a cluster for the general population, but 15% of the customer data is closest to that cluster's centroid) then that suggests the people in that cluster to be a target audience for the company. On the other hand, the proportion of the data in a cluster being larger in the general population than the customer data (e.g. only 2% of customers closest to a population centroid that captures 6% of the data) suggests that group of persons to be outside of the target demographics.\n",
    "\n",
    "Take a look at the following points in this step:\n",
    "\n",
    "- Compute the proportion of data points in each cluster for the general population and the customer data. Visualizations will be useful here: both for the individual dataset proportions, but also to visualize the ratios in cluster representation between groups. Seaborn's [`countplot()`](https://seaborn.pydata.org/generated/seaborn.countplot.html) or [`barplot()`](https://seaborn.pydata.org/generated/seaborn.barplot.html) function could be handy.\n",
    "  - Recall the analysis you performed in step 1.1.3 of the project, where you separated out certain data points from the dataset if they had more than a specified threshold of missing values. If you found that this group was qualitatively different from the main bulk of the data, you should treat this as an additional data cluster in this analysis. Make sure that you account for the number of data points in this subset, for both the general population and customer datasets, when making your computations!\n",
    "- Which cluster or clusters are overrepresented in the customer dataset compared to the general population? Select at least one such cluster and infer what kind of people might be represented by that cluster. Use the principal component interpretations from step 2.3 or look at additional components to help you make this inference. Alternatively, you can use the `.inverse_transform()` method of the PCA and StandardScaler objects to transform centroids back to the original data space and interpret the retrieved values directly.\n",
    "- Perform a similar investigation for the underrepresented clusters. Which cluster or clusters are underrepresented in the customer dataset compared to the general population, and what kinds of people are typified by these clusters?"
   ]
  },
  {
   "cell_type": "code",
   "execution_count": null,
   "metadata": {},
   "outputs": [],
   "source": [
    "# Compare the proportion of data in each cluster for the customer data to the\n",
    "# proportion of data in each cluster for the general population.\n",
    "\n",
    "# Using total number of entries in each dataset\n",
    "# to normalise cluster proportions\n",
    "pop_total_entries = azdias.shape[0]\n",
    "cust_total_entries = customers.shape[0]\n",
    "\n",
    "# Percentage of population clusters\n",
    "population_label_counts  = list(azd_clean_scld_pca_df[\"labels\"].value_counts()/pop_total_entries*100)\n",
    "\n",
    "# Population cluster No.\n",
    "# Adjusted by +0.8 so as to start numbering \n",
    "# at 1 then move population bars to the left\n",
    "pop_labels = list(azd_clean_scld_pca_df[\"labels\"].value_counts().index+0.85)\n",
    "\n",
    "\n",
    "# Grouping labels and counts for customers\n",
    "customer_labels_dict = Counter(customer_predictions)\n",
    "customer_labels = list(customer_labels_dict.keys())\n",
    "# Adding 1.15 to start clusters (labels) at 1 and\n",
    "# to adjusting bar position on plot \n",
    "customer_labels_adj = [i + 1.15 for i in customer_labels]\n",
    "\n",
    "# Percentage of population clusters\n",
    "customer_label_counts = list(customer_labels_dict.values())\n",
    "cust_label_perc = [(j/cust_total_entries*100) for j in customer_label_counts]\n"
   ]
  },
  {
   "cell_type": "code",
   "execution_count": null,
   "metadata": {},
   "outputs": [],
   "source": [
    "# Plotting clusters for population and customer datasets\n",
    "fig, ax = plt.subplots(figsize = (22,10))\n",
    "\n",
    "ax.bar(pop_labels,population_label_counts,width = 0.25,label='Population Data', zorder=3)\n",
    "###ax.bar(cust_label_counts,customer_labels, width = 0.25, label='Customer Data', zorder=3)\n",
    "ax.bar(customer_labels_adj,cust_label_perc, width = 0.25, label='Customer Data', zorder=3)\n",
    "\n",
    "\n",
    "ax.yaxis.grid(zorder=0)\n",
    "ax.set_ylim(0,22)\n",
    "ax.set_ylabel('Percentage of Total People (%)', fontsize = 14)\n",
    "\n",
    "ax.xaxis.set(ticks=range(1,11))\n",
    "ax.set_xlabel('Allocated Cluster', fontsize = 14)\n",
    "\n",
    "plt.title('Comparison of Cluster Proportions Between Datasets', fontsize = 16)\n",
    "plt.legend(loc='best', fontsize=12)\n",
    "\n",
    "# Collecting percentage data\n",
    "component_perct_2 = []\n",
    "for i in ax.patches:\n",
    "    component_perct_2.append(i.get_height())\n",
    "\n",
    "for i,j in zip(ax.patches,component_perct_2):\n",
    "    ax.text(i.get_x()-.05, j+.5, str(round((j), 1))+'%', fontsize=15)\n",
    "\n",
    "    \n",
    "plt.show()\n"
   ]
  },
  {
   "cell_type": "code",
   "execution_count": null,
   "metadata": {},
   "outputs": [],
   "source": [
    "# Treating subset with high no. of NaNs as another cluster\n",
    "\n",
    "# Calculating proportion in population proportion\n",
    "population_entries = azdias.shape[0]\n",
    "pop_few_nans_entries = azd_clean_scld_pca_df.shape[0]\n",
    "pop_more_nans_entries = population_entries - pop_few_nans_entries\n",
    "\n",
    "# Calculating proportion in population proportion\n",
    "customer_entries = customers.shape[0]\n",
    "cust_few_nans_entries = cust_clean_scld_pca_df.shape[0]\n",
    "cust_more_nans_entries = customer_entries - cust_few_nans_entries\n",
    "\n",
    "# Converting to percentages\n",
    "pop_more_nans_entr_perc = pop_more_nans_entries/population_entries * 100\n",
    "cust_more_nans_entr_perc = cust_more_nans_entries/customer_entries * 100\n",
    "\n",
    "# Adding results to lists for plotting\n",
    "demographic = ['Population', 'Customers']\n",
    "perc_of_demog = [pop_more_nans_entr_perc, cust_more_nans_entr_perc]\n"
   ]
  },
  {
   "cell_type": "code",
   "execution_count": null,
   "metadata": {},
   "outputs": [],
   "source": [
    "# Plotting proportion of high NaN count subset\n",
    "# for population and customer demographics\n",
    "\n",
    "fig, ax = plt.subplots(figsize = (10,6))\n",
    "\n",
    "sns.barplot(demographic,perc_of_demog, ax = ax, zorder=3)\n",
    "\n",
    "ax.yaxis.grid(zorder=0)\n",
    "ax.set_ylim(0,37)\n",
    "ax.set_ylabel('Percentage of Dataset (%)', fontsize = 12)\n",
    "\n",
    "ax.set_xlabel('Demographic of High NaN Count Subset', fontsize = 12)\n",
    "\n",
    "plt.title('Comparison of High NaN Count Subsets', fontsize = 14)\n",
    "\n",
    "\n",
    "#Collecting percentage data\n",
    "component_perct_2 = []\n",
    "for i in ax.patches:\n",
    "    component_perct_2.append(i.get_height())\n",
    "\n",
    "for i,j in zip(ax.patches,component_perct_2):\n",
    "    ax.text(i.get_x()+.31, j+.5, str(round((j), 1))+'%', fontsize=15)\n",
    "\n",
    "    \n",
    "plt.show()\n"
   ]
  },
  {
   "cell_type": "code",
   "execution_count": null,
   "metadata": {},
   "outputs": [],
   "source": [
    "# What kinds of people are part of a cluster that is overrepresented in the\n",
    "# customer data compared to the general population?\n",
    "\n",
    "# Obtaining cluster centroids and related PC strengths\n",
    "centroids_pcs = kmeans.cluster_centers_\n",
    "centroids_pcs_df = pd.DataFrame(centroids_pcs, columns = cust_clean_scld_pca_df.columns)\n",
    "\n",
    "# Cluster 3  (index = 2) is over-represented as seen from bar plot\n",
    "# Finding strongly associated PCs for this cluster:\n",
    "centroids_pcs_df.loc[0:3,:].sort_values(by = 2,axis=1, ascending = False).head(n=3)\n"
   ]
  },
  {
   "cell_type": "code",
   "execution_count": null,
   "metadata": {},
   "outputs": [],
   "source": [
    "# Therefore, 4th principal component has the strongest association\n",
    "# with the third cluster.\n",
    "\n",
    "# Investgating related features to 4th principal component (\"PC-4\")\n",
    "plot_features(customers_preprocessed, pca_84,component_perct, pc_num=4, tb_n=5)\n"
   ]
  },
  {
   "cell_type": "code",
   "execution_count": null,
   "metadata": {},
   "outputs": [],
   "source": [
    "# Calculating mean wealth\n",
    "customers_preprocessed['C_I_15_Wealth'].mean()\n"
   ]
  },
  {
   "cell_type": "code",
   "execution_count": null,
   "metadata": {},
   "outputs": [],
   "source": [
    "azdias_few_nans_enc1['C_I_15_Wealth'].mean()\n"
   ]
  },
  {
   "cell_type": "code",
   "execution_count": null,
   "metadata": {},
   "outputs": [],
   "source": [
    "# What kinds of people are part of a cluster that is underrepresented in the\n",
    "# customer data compared to the general population?\n",
    "\n",
    "# Cluster 5 (index = 4) is under-represented as seen from bar plot\n",
    "# Finding strongly associated PCs for this cluster:\n",
    "centroids_pcs_df.loc[4:5,:].sort_values(by = 4,axis=1, ascending = False).head(n=1)\n"
   ]
  },
  {
   "cell_type": "code",
   "execution_count": null,
   "metadata": {},
   "outputs": [],
   "source": [
    "# The 1st principal component has the strongest association\n",
    "# with the fifth cluster\n",
    "\n",
    "# Investgating related features to 1st principal component (\"PC-1\")\n",
    "plot_features(customers_preprocessed, pca_84,component_perct, pc_num=1, tb_n=5)\n"
   ]
  },
  {
   "cell_type": "code",
   "execution_count": null,
   "metadata": {},
   "outputs": [],
   "source": [
    "# Calculating mean movement pattern\n",
    "print(customers_preprocessed['MOBI_REGIO'].mean())\n",
    "print(azdias_few_nans_enc1['MOBI_REGIO'].mean())\n"
   ]
  },
  {
   "cell_type": "code",
   "execution_count": null,
   "metadata": {},
   "outputs": [],
   "source": [
    "# Calculating mean value for LP_STATUS_GROB_1.0\n",
    "print(customers_preprocessed['LP_STATUS_GROB_1.0'].mean()/191652)\n",
    "print(azdias_few_nans_enc1['LP_STATUS_GROB_1.0'].mean()/891211)\n"
   ]
  },
  {
   "cell_type": "markdown",
   "metadata": {},
   "source": [
    "### Discussion 3.3: Compare Customer Data to Demographics Data\n",
    "\n",
    "Following cluster analysis, there appears to be a few noticeable difference between the clustering of the two demographics. To make inferences about the people type related to the clusters, the centroids were mapped back to the corresponding principal (PC) components. These were then ranked in descending order so the the PC with the strongest association could be chosen. The features corresponding to this PC could then be found by using the previous mapping of PCs to features. It is worth noting that the values for explained variance are for the previous mapping and are not accurate for the customer data.\n",
    "\n",
    "**Popular segments**\n",
    "After observing a significant amount of over-representation (approx. 9%) for the number 3 labeled cluster, the following two features were found to have the strongest association:\n",
    "\n",
    "* C_I_15_Wealth: This was an engineered variable from an existing mixed variable (CAMEO_INTL_2015). It distinguishes a persons' level of wealth.\n",
    "* GREEN_AVANTGARDE: \"Membership in environmental sustainability as part of youth\"\n",
    "Here, the first feature looks like a reasonable result since the mail order company relies on people buying goods. From calculating the mean value for this feature and referring to the feature dictionary, it shows that it is likely the customer demographic has a higher mean wealth which could be evidence of the connection to this feature.\n",
    "\n",
    "The second feature is less obvious. It is possible that people concerned with environmental sustainability are less likely to use a mail order service in order to reduce waste packaging.\n",
    "\n",
    "**Unpopular segments**\n",
    "The two features related to the under-representation of the general population in the customer dataset were found to be those described in the first principle component which were described previously (MOBI_REGIO and LP_STATUS_GROB_1.0). These correspond to customers with a low income or a particular movement pattern.\n",
    "\n",
    "Interestingly, comparing the customer sample to the population, it appears that people with a higher movement pattern are more likely to use a mail order service (due to the higher calculated mean) judging from this association. The customer sample also seems to have a higher proportion of low-income earners.\n",
    "\n",
    "**missing values subset**\n",
    "Comparing the proportions of missing values, it is apparent there is a clear difference present. To extend this project, it would be good to carry out clustering again on just the subset with a higher amount of NaNs and on the whole dataset - i.e. not removing these values at all. If the resulting clustering significantly changes while investigating these options, it may be worth treating high proportion of NaNs as separate datasets, as it would be likely they contain extra information about customer segments that would be missed if not included.\n",
    "\n",
    "**Future avenues**\n",
    "It would be nice to try different clustering algorithms for this project and compare the consistency between them. It would also be interesting to utilise different types of encoding and scalers, as well as different cut--offs for the number of missing values, to again investigate how this effects the clustering result."
   ]
  },
  {
   "cell_type": "markdown",
   "metadata": {},
   "source": [
    "> Congratulations on making it this far in the project! Before you finish, make sure to check through the entire notebook from top to bottom to make sure that your analysis follows a logical flow and all of your findings are documented in **Discussion** cells. Once you've checked over all of your work, you should export the notebook as an HTML document to submit for evaluation. You can do this from the menu, navigating to **File -> Download as -> HTML (.html)**. You will submit both that document and this notebook for your project submission."
   ]
  },
  {
   "cell_type": "code",
   "execution_count": null,
   "metadata": {},
   "outputs": [],
   "source": [
    "!jupyter nbconvert *.ipynb"
   ]
  }
 ],
 "metadata": {
  "kernelspec": {
   "display_name": "Python 3",
   "language": "python",
   "name": "python3"
  },
  "language_info": {
   "codemirror_mode": {
    "name": "ipython",
    "version": 3
   },
   "file_extension": ".py",
   "mimetype": "text/x-python",
   "name": "python",
   "nbconvert_exporter": "python",
   "pygments_lexer": "ipython3",
   "version": "3.6.3"
  }
 },
 "nbformat": 4,
 "nbformat_minor": 2
}
